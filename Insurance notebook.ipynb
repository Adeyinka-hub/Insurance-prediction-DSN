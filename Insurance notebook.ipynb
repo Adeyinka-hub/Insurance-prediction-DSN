{
 "cells": [
  {
   "cell_type": "code",
   "execution_count": 1,
   "metadata": {},
   "outputs": [],
   "source": [
    "import pandas as pd \n",
    "import numpy as np \n",
    "import matplotlib.pyplot as plt \n",
    "import seaborn as sns; sns.set(style = 'darkgrid')\n",
    "%matplotlib inline "
   ]
  },
  {
   "cell_type": "code",
   "execution_count": 2,
   "metadata": {},
   "outputs": [
    {
     "data": {
      "text/html": [
       "<div>\n",
       "<style scoped>\n",
       "    .dataframe tbody tr th:only-of-type {\n",
       "        vertical-align: middle;\n",
       "    }\n",
       "\n",
       "    .dataframe tbody tr th {\n",
       "        vertical-align: top;\n",
       "    }\n",
       "\n",
       "    .dataframe thead th {\n",
       "        text-align: right;\n",
       "    }\n",
       "</style>\n",
       "<table border=\"1\" class=\"dataframe\">\n",
       "  <thead>\n",
       "    <tr style=\"text-align: right;\">\n",
       "      <th></th>\n",
       "      <th>Variable</th>\n",
       "      <th>Description</th>\n",
       "    </tr>\n",
       "  </thead>\n",
       "  <tbody>\n",
       "    <tr>\n",
       "      <th>0</th>\n",
       "      <td>Customer Id</td>\n",
       "      <td>Identification number for the Policy holder</td>\n",
       "    </tr>\n",
       "    <tr>\n",
       "      <th>1</th>\n",
       "      <td>YearOfObservation</td>\n",
       "      <td>year of observation for the insured policy</td>\n",
       "    </tr>\n",
       "    <tr>\n",
       "      <th>2</th>\n",
       "      <td>Insured_Period</td>\n",
       "      <td>duration of insurance policy in Olusola Insura...</td>\n",
       "    </tr>\n",
       "    <tr>\n",
       "      <th>3</th>\n",
       "      <td>Residential</td>\n",
       "      <td>is the building a residential building or not</td>\n",
       "    </tr>\n",
       "    <tr>\n",
       "      <th>4</th>\n",
       "      <td>Building_Painted</td>\n",
       "      <td>is the building painted or not (N-Painted, V-N...</td>\n",
       "    </tr>\n",
       "    <tr>\n",
       "      <th>5</th>\n",
       "      <td>Building_Fenced</td>\n",
       "      <td>is the building fence or not (N-Fenced, V-Not ...</td>\n",
       "    </tr>\n",
       "    <tr>\n",
       "      <th>6</th>\n",
       "      <td>Garden</td>\n",
       "      <td>building has garden or not (V-has garden; O-no...</td>\n",
       "    </tr>\n",
       "    <tr>\n",
       "      <th>7</th>\n",
       "      <td>Settlement</td>\n",
       "      <td>Area where the building is located. (R- rural ...</td>\n",
       "    </tr>\n",
       "    <tr>\n",
       "      <th>8</th>\n",
       "      <td>Building Dimension</td>\n",
       "      <td>Size of the insured building in m2</td>\n",
       "    </tr>\n",
       "    <tr>\n",
       "      <th>9</th>\n",
       "      <td>Building_Type</td>\n",
       "      <td>The type of building (Type 1, 2, 3, 4)</td>\n",
       "    </tr>\n",
       "    <tr>\n",
       "      <th>10</th>\n",
       "      <td>Date_of_Occupancy</td>\n",
       "      <td>date building was first occupied</td>\n",
       "    </tr>\n",
       "    <tr>\n",
       "      <th>11</th>\n",
       "      <td>NumberOfWindows</td>\n",
       "      <td>number of windows in the building</td>\n",
       "    </tr>\n",
       "    <tr>\n",
       "      <th>12</th>\n",
       "      <td>Geo Code</td>\n",
       "      <td>Geographical Code of the Insured building</td>\n",
       "    </tr>\n",
       "    <tr>\n",
       "      <th>13</th>\n",
       "      <td>Claim</td>\n",
       "      <td>target variable. (0: no claim, 1: at least one...</td>\n",
       "    </tr>\n",
       "  </tbody>\n",
       "</table>\n",
       "</div>"
      ],
      "text/plain": [
       "              Variable                                        Description\n",
       "0          Customer Id        Identification number for the Policy holder\n",
       "1    YearOfObservation         year of observation for the insured policy\n",
       "2       Insured_Period  duration of insurance policy in Olusola Insura...\n",
       "3          Residential      is the building a residential building or not\n",
       "4     Building_Painted  is the building painted or not (N-Painted, V-N...\n",
       "5      Building_Fenced  is the building fence or not (N-Fenced, V-Not ...\n",
       "6               Garden  building has garden or not (V-has garden; O-no...\n",
       "7           Settlement  Area where the building is located. (R- rural ...\n",
       "8   Building Dimension                 Size of the insured building in m2\n",
       "9        Building_Type             The type of building (Type 1, 2, 3, 4)\n",
       "10   Date_of_Occupancy                   date building was first occupied\n",
       "11     NumberOfWindows                  number of windows in the building\n",
       "12            Geo Code          Geographical Code of the Insured building\n",
       "13               Claim  target variable. (0: no claim, 1: at least one..."
      ]
     },
     "execution_count": 2,
     "metadata": {},
     "output_type": "execute_result"
    }
   ],
   "source": [
    "desc = pd.read_csv('VariableDescription.csv')\n",
    "desc"
   ]
  },
  {
   "cell_type": "code",
   "execution_count": null,
   "metadata": {},
   "outputs": [],
   "source": []
  },
  {
   "cell_type": "code",
   "execution_count": 3,
   "metadata": {},
   "outputs": [
    {
     "data": {
      "text/html": [
       "<div>\n",
       "<style scoped>\n",
       "    .dataframe tbody tr th:only-of-type {\n",
       "        vertical-align: middle;\n",
       "    }\n",
       "\n",
       "    .dataframe tbody tr th {\n",
       "        vertical-align: top;\n",
       "    }\n",
       "\n",
       "    .dataframe thead th {\n",
       "        text-align: right;\n",
       "    }\n",
       "</style>\n",
       "<table border=\"1\" class=\"dataframe\">\n",
       "  <thead>\n",
       "    <tr style=\"text-align: right;\">\n",
       "      <th></th>\n",
       "      <th>Customer Id</th>\n",
       "      <th>YearOfObservation</th>\n",
       "      <th>Insured_Period</th>\n",
       "      <th>Residential</th>\n",
       "      <th>Building_Painted</th>\n",
       "      <th>Building_Fenced</th>\n",
       "      <th>Garden</th>\n",
       "      <th>Settlement</th>\n",
       "      <th>Building Dimension</th>\n",
       "      <th>Building_Type</th>\n",
       "      <th>Date_of_Occupancy</th>\n",
       "      <th>NumberOfWindows</th>\n",
       "      <th>Geo_Code</th>\n",
       "      <th>Claim</th>\n",
       "    </tr>\n",
       "  </thead>\n",
       "  <tbody>\n",
       "    <tr>\n",
       "      <th>0</th>\n",
       "      <td>H14663</td>\n",
       "      <td>2013</td>\n",
       "      <td>1.0</td>\n",
       "      <td>0</td>\n",
       "      <td>N</td>\n",
       "      <td>V</td>\n",
       "      <td>V</td>\n",
       "      <td>U</td>\n",
       "      <td>290.0</td>\n",
       "      <td>1</td>\n",
       "      <td>1960.0</td>\n",
       "      <td>.</td>\n",
       "      <td>1053</td>\n",
       "      <td>0</td>\n",
       "    </tr>\n",
       "    <tr>\n",
       "      <th>1</th>\n",
       "      <td>H2037</td>\n",
       "      <td>2015</td>\n",
       "      <td>1.0</td>\n",
       "      <td>0</td>\n",
       "      <td>V</td>\n",
       "      <td>N</td>\n",
       "      <td>O</td>\n",
       "      <td>R</td>\n",
       "      <td>490.0</td>\n",
       "      <td>1</td>\n",
       "      <td>1850.0</td>\n",
       "      <td>4</td>\n",
       "      <td>1053</td>\n",
       "      <td>0</td>\n",
       "    </tr>\n",
       "    <tr>\n",
       "      <th>2</th>\n",
       "      <td>H3802</td>\n",
       "      <td>2014</td>\n",
       "      <td>1.0</td>\n",
       "      <td>0</td>\n",
       "      <td>N</td>\n",
       "      <td>V</td>\n",
       "      <td>V</td>\n",
       "      <td>U</td>\n",
       "      <td>595.0</td>\n",
       "      <td>1</td>\n",
       "      <td>1960.0</td>\n",
       "      <td>.</td>\n",
       "      <td>1053</td>\n",
       "      <td>0</td>\n",
       "    </tr>\n",
       "    <tr>\n",
       "      <th>3</th>\n",
       "      <td>H3834</td>\n",
       "      <td>2013</td>\n",
       "      <td>1.0</td>\n",
       "      <td>0</td>\n",
       "      <td>V</td>\n",
       "      <td>V</td>\n",
       "      <td>V</td>\n",
       "      <td>U</td>\n",
       "      <td>2840.0</td>\n",
       "      <td>1</td>\n",
       "      <td>1960.0</td>\n",
       "      <td>.</td>\n",
       "      <td>1053</td>\n",
       "      <td>0</td>\n",
       "    </tr>\n",
       "    <tr>\n",
       "      <th>4</th>\n",
       "      <td>H5053</td>\n",
       "      <td>2014</td>\n",
       "      <td>1.0</td>\n",
       "      <td>0</td>\n",
       "      <td>V</td>\n",
       "      <td>N</td>\n",
       "      <td>O</td>\n",
       "      <td>R</td>\n",
       "      <td>680.0</td>\n",
       "      <td>1</td>\n",
       "      <td>1800.0</td>\n",
       "      <td>3</td>\n",
       "      <td>1053</td>\n",
       "      <td>0</td>\n",
       "    </tr>\n",
       "  </tbody>\n",
       "</table>\n",
       "</div>"
      ],
      "text/plain": [
       "  Customer Id  YearOfObservation  Insured_Period  Residential  \\\n",
       "0      H14663               2013             1.0            0   \n",
       "1       H2037               2015             1.0            0   \n",
       "2       H3802               2014             1.0            0   \n",
       "3       H3834               2013             1.0            0   \n",
       "4       H5053               2014             1.0            0   \n",
       "\n",
       "  Building_Painted Building_Fenced Garden Settlement  Building Dimension  \\\n",
       "0                N               V      V          U               290.0   \n",
       "1                V               N      O          R               490.0   \n",
       "2                N               V      V          U               595.0   \n",
       "3                V               V      V          U              2840.0   \n",
       "4                V               N      O          R               680.0   \n",
       "\n",
       "   Building_Type  Date_of_Occupancy NumberOfWindows Geo_Code  Claim  \n",
       "0              1             1960.0               .     1053      0  \n",
       "1              1             1850.0               4     1053      0  \n",
       "2              1             1960.0               .     1053      0  \n",
       "3              1             1960.0               .     1053      0  \n",
       "4              1             1800.0               3     1053      0  "
      ]
     },
     "execution_count": 3,
     "metadata": {},
     "output_type": "execute_result"
    }
   ],
   "source": [
    "data = pd.read_csv('train_data.csv')\n",
    "data.head()"
   ]
  },
  {
   "cell_type": "code",
   "execution_count": 4,
   "metadata": {},
   "outputs": [
    {
     "data": {
      "text/plain": [
       "(7160, 14)"
      ]
     },
     "execution_count": 4,
     "metadata": {},
     "output_type": "execute_result"
    }
   ],
   "source": [
    "data.shape"
   ]
  },
  {
   "cell_type": "code",
   "execution_count": 5,
   "metadata": {},
   "outputs": [
    {
     "data": {
      "text/plain": [
       "Customer Id             0\n",
       "YearOfObservation       0\n",
       "Insured_Period          0\n",
       "Residential             0\n",
       "Building_Painted        0\n",
       "Building_Fenced         0\n",
       "Garden                  7\n",
       "Settlement              0\n",
       "Building Dimension    106\n",
       "Building_Type           0\n",
       "Date_of_Occupancy     508\n",
       "NumberOfWindows         0\n",
       "Geo_Code              102\n",
       "Claim                   0\n",
       "dtype: int64"
      ]
     },
     "execution_count": 5,
     "metadata": {},
     "output_type": "execute_result"
    }
   ],
   "source": [
    "data.isnull().sum()"
   ]
  },
  {
   "cell_type": "code",
   "execution_count": 6,
   "metadata": {},
   "outputs": [
    {
     "data": {
      "text/plain": [
       "Customer Id            object\n",
       "YearOfObservation       int64\n",
       "Insured_Period        float64\n",
       "Residential             int64\n",
       "Building_Painted       object\n",
       "Building_Fenced        object\n",
       "Garden                 object\n",
       "Settlement             object\n",
       "Building Dimension    float64\n",
       "Building_Type           int64\n",
       "Date_of_Occupancy     float64\n",
       "NumberOfWindows        object\n",
       "Geo_Code               object\n",
       "Claim                   int64\n",
       "dtype: object"
      ]
     },
     "execution_count": 6,
     "metadata": {},
     "output_type": "execute_result"
    }
   ],
   "source": [
    "data.dtypes"
   ]
  },
  {
   "cell_type": "markdown",
   "metadata": {},
   "source": [
    "# EXPLORATARY DATA ANALYSIS"
   ]
  },
  {
   "cell_type": "markdown",
   "metadata": {},
   "source": [
    "# customer "
   ]
  },
  {
   "cell_type": "code",
   "execution_count": 7,
   "metadata": {},
   "outputs": [
    {
     "data": {
      "text/plain": [
       "7160"
      ]
     },
     "execution_count": 7,
     "metadata": {},
     "output_type": "execute_result"
    }
   ],
   "source": [
    "data['Customer Id'].nunique()"
   ]
  },
  {
   "cell_type": "markdown",
   "metadata": {},
   "source": [
    "# YearOfObservation"
   ]
  },
  {
   "cell_type": "code",
   "execution_count": 8,
   "metadata": {},
   "outputs": [
    {
     "data": {
      "text/plain": [
       "5"
      ]
     },
     "execution_count": 8,
     "metadata": {},
     "output_type": "execute_result"
    }
   ],
   "source": [
    "data['YearOfObservation'].nunique()"
   ]
  },
  {
   "cell_type": "code",
   "execution_count": 9,
   "metadata": {},
   "outputs": [
    {
     "data": {
      "text/plain": [
       "<matplotlib.axes._subplots.AxesSubplot at 0x1ce1442ffd0>"
      ]
     },
     "execution_count": 9,
     "metadata": {},
     "output_type": "execute_result"
    },
    {
     "data": {
      "image/png": "[encoded data removed]",
      "text/plain": [
       "<Figure size 432x288 with 1 Axes>"
      ]
     },
     "metadata": {
      "needs_background": "light"
     },
     "output_type": "display_data"
    }
   ],
   "source": [
    "sns.countplot('YearOfObservation', data = data)"
   ]
  },
  {
   "cell_type": "markdown",
   "metadata": {},
   "source": [
    "# Insured_Period "
   ]
  },
  {
   "cell_type": "code",
   "execution_count": 10,
   "metadata": {},
   "outputs": [
    {
     "data": {
      "text/plain": [
       "401"
      ]
     },
     "execution_count": 10,
     "metadata": {},
     "output_type": "execute_result"
    }
   ],
   "source": [
    "data['Insured_Period'].nunique()"
   ]
  },
  {
   "cell_type": "markdown",
   "metadata": {},
   "source": [
    "# Residential "
   ]
  },
  {
   "cell_type": "code",
   "execution_count": 11,
   "metadata": {},
   "outputs": [
    {
     "data": {
      "text/plain": [
       "2"
      ]
     },
     "execution_count": 11,
     "metadata": {},
     "output_type": "execute_result"
    }
   ],
   "source": [
    "data['Residential'].nunique()"
   ]
  },
  {
   "cell_type": "code",
   "execution_count": 12,
   "metadata": {},
   "outputs": [
    {
     "data": {
      "text/plain": [
       "<matplotlib.axes._subplots.AxesSubplot at 0x1ce1436b1d0>"
      ]
     },
     "execution_count": 12,
     "metadata": {},
     "output_type": "execute_result"
    },
    {
     "data": {
      "image/png": "[encoded data removed]",
      "text/plain": [
       "<Figure size 432x288 with 1 Axes>"
      ]
     },
     "metadata": {
      "needs_background": "light"
     },
     "output_type": "display_data"
    }
   ],
   "source": [
    "sns.countplot('Residential', data = data)"
   ]
  },
  {
   "cell_type": "code",
   "execution_count": 13,
   "metadata": {},
   "outputs": [
    {
     "data": {
      "text/plain": [
       "Customer Id            object\n",
       "YearOfObservation       int64\n",
       "Insured_Period        float64\n",
       "Residential             int64\n",
       "Building_Painted       object\n",
       "Building_Fenced        object\n",
       "Garden                 object\n",
       "Settlement             object\n",
       "Building Dimension    float64\n",
       "Building_Type           int64\n",
       "Date_of_Occupancy     float64\n",
       "NumberOfWindows        object\n",
       "Geo_Code               object\n",
       "Claim                   int64\n",
       "dtype: object"
      ]
     },
     "execution_count": 13,
     "metadata": {},
     "output_type": "execute_result"
    }
   ],
   "source": [
    "data.dtypes"
   ]
  },
  {
   "cell_type": "markdown",
   "metadata": {},
   "source": [
    "# Building_Painted"
   ]
  },
  {
   "cell_type": "code",
   "execution_count": 14,
   "metadata": {},
   "outputs": [
    {
     "data": {
      "text/plain": [
       "2"
      ]
     },
     "execution_count": 14,
     "metadata": {},
     "output_type": "execute_result"
    }
   ],
   "source": [
    "data.Building_Painted.nunique()"
   ]
  },
  {
   "cell_type": "code",
   "execution_count": 15,
   "metadata": {},
   "outputs": [
    {
     "data": {
      "text/plain": [
       "array(['N', 'V'], dtype=object)"
      ]
     },
     "execution_count": 15,
     "metadata": {},
     "output_type": "execute_result"
    }
   ],
   "source": [
    "data.Building_Painted.unique()"
   ]
  },
  {
   "cell_type": "code",
   "execution_count": 16,
   "metadata": {},
   "outputs": [
    {
     "data": {
      "text/plain": [
       "array([1, 0], dtype=int64)"
      ]
     },
     "execution_count": 16,
     "metadata": {},
     "output_type": "execute_result"
    }
   ],
   "source": [
    "data.Building_Painted = data.Building_Painted.replace({'N': 1, 'V' : 0})\n",
    "\n",
    "data.Building_Painted.unique()"
   ]
  },
  {
   "cell_type": "code",
   "execution_count": 17,
   "metadata": {},
   "outputs": [
    {
     "data": {
      "text/plain": [
       "<matplotlib.axes._subplots.AxesSubplot at 0x1ce154193c8>"
      ]
     },
     "execution_count": 17,
     "metadata": {},
     "output_type": "execute_result"
    },
    {
     "data": {
      "image/png": "[encoded data removed]",
      "text/plain": [
       "<Figure size 432x288 with 1 Axes>"
      ]
     },
     "metadata": {
      "needs_background": "light"
     },
     "output_type": "display_data"
    }
   ],
   "source": [
    "sns.countplot('Building_Painted', data = data)"
   ]
  },
  {
   "cell_type": "markdown",
   "metadata": {},
   "source": [
    "# Building_Fenced"
   ]
  },
  {
   "cell_type": "code",
   "execution_count": 18,
   "metadata": {},
   "outputs": [
    {
     "data": {
      "text/plain": [
       "array(['V', 'N'], dtype=object)"
      ]
     },
     "execution_count": 18,
     "metadata": {},
     "output_type": "execute_result"
    }
   ],
   "source": [
    "data.Building_Fenced.unique()"
   ]
  },
  {
   "cell_type": "code",
   "execution_count": 19,
   "metadata": {},
   "outputs": [
    {
     "data": {
      "text/plain": [
       "array([0, 1], dtype=int64)"
      ]
     },
     "execution_count": 19,
     "metadata": {},
     "output_type": "execute_result"
    }
   ],
   "source": [
    "data.Building_Fenced = data.Building_Fenced.replace({'N': 1, 'V' : 0}) \n",
    "\n",
    "data.Building_Fenced.unique()"
   ]
  },
  {
   "cell_type": "code",
   "execution_count": 20,
   "metadata": {},
   "outputs": [
    {
     "data": {
      "text/plain": [
       "<matplotlib.axes._subplots.AxesSubplot at 0x1ce15465a90>"
      ]
     },
     "execution_count": 20,
     "metadata": {},
     "output_type": "execute_result"
    },
    {
     "data": {
      "image/png": "[encoded data removed]",
      "text/plain": [
       "<Figure size 432x288 with 1 Axes>"
      ]
     },
     "metadata": {
      "needs_background": "light"
     },
     "output_type": "display_data"
    }
   ],
   "source": [
    "sns.countplot('Building_Fenced', data = data)"
   ]
  },
  {
   "cell_type": "markdown",
   "metadata": {},
   "source": [
    "# Garden"
   ]
  },
  {
   "cell_type": "code",
   "execution_count": 21,
   "metadata": {},
   "outputs": [
    {
     "data": {
      "text/plain": [
       "array(['V', 'O', nan], dtype=object)"
      ]
     },
     "execution_count": 21,
     "metadata": {},
     "output_type": "execute_result"
    }
   ],
   "source": [
    "data.Garden.unique()"
   ]
  },
  {
   "cell_type": "code",
   "execution_count": 22,
   "metadata": {},
   "outputs": [
    {
     "data": {
      "text/plain": [
       "7"
      ]
     },
     "execution_count": 22,
     "metadata": {},
     "output_type": "execute_result"
    }
   ],
   "source": [
    "data.Garden.isnull().sum()"
   ]
  },
  {
   "cell_type": "code",
   "execution_count": 23,
   "metadata": {},
   "outputs": [
    {
     "data": {
      "text/plain": [
       "array([ 1.,  0., nan])"
      ]
     },
     "execution_count": 23,
     "metadata": {},
     "output_type": "execute_result"
    }
   ],
   "source": [
    "data.Garden = data.Garden.replace({'V': 1, 'O': 0})\n",
    "\n",
    "data.Garden.unique()"
   ]
  },
  {
   "cell_type": "code",
   "execution_count": 24,
   "metadata": {},
   "outputs": [
    {
     "data": {
      "text/plain": [
       "<matplotlib.axes._subplots.AxesSubplot at 0x1ce154b4b70>"
      ]
     },
     "execution_count": 24,
     "metadata": {},
     "output_type": "execute_result"
    },
    {
     "data": {
      "image/png": "[encoded data removed]",
      "text/plain": [
       "<Figure size 432x288 with 1 Axes>"
      ]
     },
     "metadata": {
      "needs_background": "light"
     },
     "output_type": "display_data"
    }
   ],
   "source": [
    "sns.countplot('Garden', data = data)"
   ]
  },
  {
   "cell_type": "code",
   "execution_count": 25,
   "metadata": {},
   "outputs": [
    {
     "data": {
      "text/plain": [
       "array([1., 0.])"
      ]
     },
     "execution_count": 25,
     "metadata": {},
     "output_type": "execute_result"
    }
   ],
   "source": [
    "data.Garden = data.Garden.fillna(method = 'ffill')\n",
    "data.Garden.unique()"
   ]
  },
  {
   "cell_type": "code",
   "execution_count": 26,
   "metadata": {},
   "outputs": [
    {
     "data": {
      "text/plain": [
       "<matplotlib.axes._subplots.AxesSubplot at 0x1ce154e9470>"
      ]
     },
     "execution_count": 26,
     "metadata": {},
     "output_type": "execute_result"
    },
    {
     "data": {
      "image/png": "[encoded data removed]",
      "text/plain": [
       "<Figure size 432x288 with 1 Axes>"
      ]
     },
     "metadata": {
      "needs_background": "light"
     },
     "output_type": "display_data"
    }
   ],
   "source": [
    "sns.countplot('Garden', data = data)"
   ]
  },
  {
   "cell_type": "code",
   "execution_count": 27,
   "metadata": {},
   "outputs": [
    {
     "data": {
      "text/plain": [
       "Customer Id            object\n",
       "YearOfObservation       int64\n",
       "Insured_Period        float64\n",
       "Residential             int64\n",
       "Building_Painted        int64\n",
       "Building_Fenced         int64\n",
       "Garden                float64\n",
       "Settlement             object\n",
       "Building Dimension    float64\n",
       "Building_Type           int64\n",
       "Date_of_Occupancy     float64\n",
       "NumberOfWindows        object\n",
       "Geo_Code               object\n",
       "Claim                   int64\n",
       "dtype: object"
      ]
     },
     "execution_count": 27,
     "metadata": {},
     "output_type": "execute_result"
    }
   ],
   "source": [
    "\n",
    "data.dtypes"
   ]
  },
  {
   "cell_type": "code",
   "execution_count": 28,
   "metadata": {},
   "outputs": [
    {
     "data": {
      "text/html": [
       "<div>\n",
       "<style scoped>\n",
       "    .dataframe tbody tr th:only-of-type {\n",
       "        vertical-align: middle;\n",
       "    }\n",
       "\n",
       "    .dataframe tbody tr th {\n",
       "        vertical-align: top;\n",
       "    }\n",
       "\n",
       "    .dataframe thead th {\n",
       "        text-align: right;\n",
       "    }\n",
       "</style>\n",
       "<table border=\"1\" class=\"dataframe\">\n",
       "  <thead>\n",
       "    <tr style=\"text-align: right;\">\n",
       "      <th></th>\n",
       "      <th>Customer Id</th>\n",
       "      <th>YearOfObservation</th>\n",
       "      <th>Insured_Period</th>\n",
       "      <th>Residential</th>\n",
       "      <th>Building_Painted</th>\n",
       "      <th>Building_Fenced</th>\n",
       "      <th>Garden</th>\n",
       "      <th>Settlement</th>\n",
       "      <th>Building Dimension</th>\n",
       "      <th>Building_Type</th>\n",
       "      <th>Date_of_Occupancy</th>\n",
       "      <th>NumberOfWindows</th>\n",
       "      <th>Geo_Code</th>\n",
       "      <th>Claim</th>\n",
       "    </tr>\n",
       "  </thead>\n",
       "  <tbody>\n",
       "    <tr>\n",
       "      <th>0</th>\n",
       "      <td>H14663</td>\n",
       "      <td>2013</td>\n",
       "      <td>1.0</td>\n",
       "      <td>0</td>\n",
       "      <td>1</td>\n",
       "      <td>0</td>\n",
       "      <td>1.0</td>\n",
       "      <td>U</td>\n",
       "      <td>290.0</td>\n",
       "      <td>1</td>\n",
       "      <td>1960.0</td>\n",
       "      <td>.</td>\n",
       "      <td>1053</td>\n",
       "      <td>0</td>\n",
       "    </tr>\n",
       "    <tr>\n",
       "      <th>1</th>\n",
       "      <td>H2037</td>\n",
       "      <td>2015</td>\n",
       "      <td>1.0</td>\n",
       "      <td>0</td>\n",
       "      <td>0</td>\n",
       "      <td>1</td>\n",
       "      <td>0.0</td>\n",
       "      <td>R</td>\n",
       "      <td>490.0</td>\n",
       "      <td>1</td>\n",
       "      <td>1850.0</td>\n",
       "      <td>4</td>\n",
       "      <td>1053</td>\n",
       "      <td>0</td>\n",
       "    </tr>\n",
       "    <tr>\n",
       "      <th>2</th>\n",
       "      <td>H3802</td>\n",
       "      <td>2014</td>\n",
       "      <td>1.0</td>\n",
       "      <td>0</td>\n",
       "      <td>1</td>\n",
       "      <td>0</td>\n",
       "      <td>1.0</td>\n",
       "      <td>U</td>\n",
       "      <td>595.0</td>\n",
       "      <td>1</td>\n",
       "      <td>1960.0</td>\n",
       "      <td>.</td>\n",
       "      <td>1053</td>\n",
       "      <td>0</td>\n",
       "    </tr>\n",
       "    <tr>\n",
       "      <th>3</th>\n",
       "      <td>H3834</td>\n",
       "      <td>2013</td>\n",
       "      <td>1.0</td>\n",
       "      <td>0</td>\n",
       "      <td>0</td>\n",
       "      <td>0</td>\n",
       "      <td>1.0</td>\n",
       "      <td>U</td>\n",
       "      <td>2840.0</td>\n",
       "      <td>1</td>\n",
       "      <td>1960.0</td>\n",
       "      <td>.</td>\n",
       "      <td>1053</td>\n",
       "      <td>0</td>\n",
       "    </tr>\n",
       "    <tr>\n",
       "      <th>4</th>\n",
       "      <td>H5053</td>\n",
       "      <td>2014</td>\n",
       "      <td>1.0</td>\n",
       "      <td>0</td>\n",
       "      <td>0</td>\n",
       "      <td>1</td>\n",
       "      <td>0.0</td>\n",
       "      <td>R</td>\n",
       "      <td>680.0</td>\n",
       "      <td>1</td>\n",
       "      <td>1800.0</td>\n",
       "      <td>3</td>\n",
       "      <td>1053</td>\n",
       "      <td>0</td>\n",
       "    </tr>\n",
       "  </tbody>\n",
       "</table>\n",
       "</div>"
      ],
      "text/plain": [
       "  Customer Id  YearOfObservation  Insured_Period  Residential  \\\n",
       "0      H14663               2013             1.0            0   \n",
       "1       H2037               2015             1.0            0   \n",
       "2       H3802               2014             1.0            0   \n",
       "3       H3834               2013             1.0            0   \n",
       "4       H5053               2014             1.0            0   \n",
       "\n",
       "   Building_Painted  Building_Fenced  Garden Settlement  Building Dimension  \\\n",
       "0                 1                0     1.0          U               290.0   \n",
       "1                 0                1     0.0          R               490.0   \n",
       "2                 1                0     1.0          U               595.0   \n",
       "3                 0                0     1.0          U              2840.0   \n",
       "4                 0                1     0.0          R               680.0   \n",
       "\n",
       "   Building_Type  Date_of_Occupancy NumberOfWindows Geo_Code  Claim  \n",
       "0              1             1960.0               .     1053      0  \n",
       "1              1             1850.0               4     1053      0  \n",
       "2              1             1960.0               .     1053      0  \n",
       "3              1             1960.0               .     1053      0  \n",
       "4              1             1800.0               3     1053      0  "
      ]
     },
     "execution_count": 28,
     "metadata": {},
     "output_type": "execute_result"
    }
   ],
   "source": [
    "data.head()"
   ]
  },
  {
   "cell_type": "markdown",
   "metadata": {},
   "source": [
    "# Settlement"
   ]
  },
  {
   "cell_type": "code",
   "execution_count": 29,
   "metadata": {},
   "outputs": [
    {
     "data": {
      "text/plain": [
       "2"
      ]
     },
     "execution_count": 29,
     "metadata": {},
     "output_type": "execute_result"
    }
   ],
   "source": [
    "data.Settlement.nunique()"
   ]
  },
  {
   "cell_type": "code",
   "execution_count": 30,
   "metadata": {},
   "outputs": [
    {
     "data": {
      "text/plain": [
       "array(['U', 'R'], dtype=object)"
      ]
     },
     "execution_count": 30,
     "metadata": {},
     "output_type": "execute_result"
    }
   ],
   "source": [
    "data.Settlement.unique()"
   ]
  },
  {
   "cell_type": "code",
   "execution_count": 31,
   "metadata": {},
   "outputs": [
    {
     "data": {
      "text/plain": [
       "array([1, 0], dtype=int64)"
      ]
     },
     "execution_count": 31,
     "metadata": {},
     "output_type": "execute_result"
    }
   ],
   "source": [
    "data.Settlement = data.Settlement.replace({'U' : 1, 'R' : 0})\n",
    "data.Settlement.unique()"
   ]
  },
  {
   "cell_type": "code",
   "execution_count": null,
   "metadata": {},
   "outputs": [],
   "source": []
  },
  {
   "cell_type": "markdown",
   "metadata": {},
   "source": [
    "# Building Dimension"
   ]
  },
  {
   "cell_type": "code",
   "execution_count": 32,
   "metadata": {},
   "outputs": [
    {
     "data": {
      "text/plain": [
       "106"
      ]
     },
     "execution_count": 32,
     "metadata": {},
     "output_type": "execute_result"
    }
   ],
   "source": [
    "data['Building Dimension'].isnull().sum()"
   ]
  },
  {
   "cell_type": "code",
   "execution_count": 33,
   "metadata": {},
   "outputs": [
    {
     "data": {
      "text/plain": [
       "2043"
      ]
     },
     "execution_count": 33,
     "metadata": {},
     "output_type": "execute_result"
    }
   ],
   "source": [
    "data['Building Dimension'].nunique()"
   ]
  },
  {
   "cell_type": "code",
   "execution_count": 34,
   "metadata": {},
   "outputs": [
    {
     "data": {
      "text/plain": [
       "2043"
      ]
     },
     "execution_count": 34,
     "metadata": {},
     "output_type": "execute_result"
    }
   ],
   "source": [
    "data['Building Dimension'] = data['Building Dimension'].fillna(method = 'ffill')\n",
    "data['Building Dimension'].nunique()"
   ]
  },
  {
   "cell_type": "code",
   "execution_count": 35,
   "metadata": {},
   "outputs": [
    {
     "data": {
      "text/plain": [
       "0"
      ]
     },
     "execution_count": 35,
     "metadata": {},
     "output_type": "execute_result"
    }
   ],
   "source": [
    "data['Building Dimension'].isnull().sum()"
   ]
  },
  {
   "cell_type": "markdown",
   "metadata": {},
   "source": [
    "# Building_Type"
   ]
  },
  {
   "cell_type": "code",
   "execution_count": 36,
   "metadata": {},
   "outputs": [
    {
     "data": {
      "text/plain": [
       "4"
      ]
     },
     "execution_count": 36,
     "metadata": {},
     "output_type": "execute_result"
    }
   ],
   "source": [
    "data.Building_Type.nunique()"
   ]
  },
  {
   "cell_type": "code",
   "execution_count": 37,
   "metadata": {},
   "outputs": [
    {
     "data": {
      "text/plain": [
       "<matplotlib.axes._subplots.AxesSubplot at 0x1ce1554e668>"
      ]
     },
     "execution_count": 37,
     "metadata": {},
     "output_type": "execute_result"
    },
    {
     "data": {
      "image/png": "[encoded data removed]",
      "text/plain": [
       "<Figure size 432x288 with 1 Axes>"
      ]
     },
     "metadata": {
      "needs_background": "light"
     },
     "output_type": "display_data"
    }
   ],
   "source": [
    "sns.countplot('Building_Type', data = data)"
   ]
  },
  {
   "cell_type": "code",
   "execution_count": 38,
   "metadata": {},
   "outputs": [
    {
     "data": {
      "text/plain": [
       "Customer Id            object\n",
       "YearOfObservation       int64\n",
       "Insured_Period        float64\n",
       "Residential             int64\n",
       "Building_Painted        int64\n",
       "Building_Fenced         int64\n",
       "Garden                float64\n",
       "Settlement              int64\n",
       "Building Dimension    float64\n",
       "Building_Type           int64\n",
       "Date_of_Occupancy     float64\n",
       "NumberOfWindows        object\n",
       "Geo_Code               object\n",
       "Claim                   int64\n",
       "dtype: object"
      ]
     },
     "execution_count": 38,
     "metadata": {},
     "output_type": "execute_result"
    }
   ],
   "source": [
    "data.dtypes\n"
   ]
  },
  {
   "cell_type": "code",
   "execution_count": 39,
   "metadata": {},
   "outputs": [
    {
     "data": {
      "text/plain": [
       "508"
      ]
     },
     "execution_count": 39,
     "metadata": {},
     "output_type": "execute_result"
    }
   ],
   "source": [
    "data.Date_of_Occupancy.isnull().sum()"
   ]
  },
  {
   "cell_type": "code",
   "execution_count": 40,
   "metadata": {},
   "outputs": [
    {
     "data": {
      "text/plain": [
       "1960.0    1818\n",
       "1980.0    1155\n",
       "1988.0     530\n",
       "1900.0     371\n",
       "1970.0     285\n",
       "1950.0     245\n",
       "1930.0     167\n",
       "1920.0     100\n",
       "1990.0      98\n",
       "2011.0      97\n",
       "2009.0      89\n",
       "2008.0      74\n",
       "2010.0      65\n",
       "2012.0      62\n",
       "2007.0      58\n",
       "1940.0      53\n",
       "1965.0      52\n",
       "2000.0      52\n",
       "1975.0      52\n",
       "1850.0      49\n",
       "Name: Date_of_Occupancy, dtype: int64"
      ]
     },
     "execution_count": 40,
     "metadata": {},
     "output_type": "execute_result"
    }
   ],
   "source": [
    "data.Date_of_Occupancy.value_counts().iloc[:20]"
   ]
  },
  {
   "cell_type": "code",
   "execution_count": 41,
   "metadata": {},
   "outputs": [
    {
     "data": {
      "text/plain": [
       "<matplotlib.axes._subplots.AxesSubplot at 0x1ce154fdda0>"
      ]
     },
     "execution_count": 41,
     "metadata": {},
     "output_type": "execute_result"
    },
    {
     "data": {
      "image/png": "[encoded data removed]",
      "text/plain": [
       "<Figure size 432x288 with 1 Axes>"
      ]
     },
     "metadata": {
      "needs_background": "light"
     },
     "output_type": "display_data"
    }
   ],
   "source": [
    "data.Date_of_Occupancy.hist()"
   ]
  },
  {
   "cell_type": "code",
   "execution_count": 42,
   "metadata": {},
   "outputs": [
    {
     "data": {
      "text/plain": [
       "0"
      ]
     },
     "execution_count": 42,
     "metadata": {},
     "output_type": "execute_result"
    }
   ],
   "source": [
    "data['Date_of_Occupancy'] = data.Date_of_Occupancy.fillna(method = 'ffill')\n",
    "data.Date_of_Occupancy.isnull().sum()"
   ]
  },
  {
   "cell_type": "markdown",
   "metadata": {},
   "source": [
    "# NumberOfWindows"
   ]
  },
  {
   "cell_type": "code",
   "execution_count": 43,
   "metadata": {},
   "outputs": [
    {
     "data": {
      "text/plain": [
       "11"
      ]
     },
     "execution_count": 43,
     "metadata": {},
     "output_type": "execute_result"
    }
   ],
   "source": [
    "data.NumberOfWindows.nunique()"
   ]
  },
  {
   "cell_type": "code",
   "execution_count": 44,
   "metadata": {},
   "outputs": [
    {
     "data": {
      "text/plain": [
       "<matplotlib.axes._subplots.AxesSubplot at 0x1ce15623908>"
      ]
     },
     "execution_count": 44,
     "metadata": {},
     "output_type": "execute_result"
    },
    {
     "data": {
      "image/png": "[encoded data removed]",
      "text/plain": [
       "<Figure size 432x288 with 1 Axes>"
      ]
     },
     "metadata": {
      "needs_background": "light"
     },
     "output_type": "display_data"
    }
   ],
   "source": [
    "sns.countplot('NumberOfWindows', data = data)"
   ]
  },
  {
   "cell_type": "code",
   "execution_count": null,
   "metadata": {},
   "outputs": [],
   "source": [
    "data.NumberOfWindows.hist()"
   ]
  },
  {
   "cell_type": "code",
   "execution_count": 46,
   "metadata": {},
   "outputs": [
    {
     "data": {
      "text/plain": [
       "array(['   .', '4', '3', '2', '5', '>=10', '6', '7', '9', '8', '1'],\n",
       "      dtype=object)"
      ]
     },
     "execution_count": 46,
     "metadata": {},
     "output_type": "execute_result"
    }
   ],
   "source": [
    "data.NumberOfWindows.unique()"
   ]
  },
  {
   "cell_type": "code",
   "execution_count": 47,
   "metadata": {},
   "outputs": [
    {
     "data": {
      "text/plain": [
       "array(['0', '4', '3', '2', '5', '10', '6', '7', '9', '8', '1'],\n",
       "      dtype=object)"
      ]
     },
     "execution_count": 47,
     "metadata": {},
     "output_type": "execute_result"
    }
   ],
   "source": [
    "data.NumberOfWindows = data.NumberOfWindows.replace({'   .' : '0', '>=10' : '10'})\n",
    "data.NumberOfWindows.unique()"
   ]
  },
  {
   "cell_type": "code",
   "execution_count": 48,
   "metadata": {},
   "outputs": [],
   "source": [
    "data.NumberOfWindows = data.NumberOfWindows.astype(int)"
   ]
  },
  {
   "cell_type": "code",
   "execution_count": 49,
   "metadata": {},
   "outputs": [
    {
     "data": {
      "text/plain": [
       "Customer Id            object\n",
       "YearOfObservation       int64\n",
       "Insured_Period        float64\n",
       "Residential             int64\n",
       "Building_Painted        int64\n",
       "Building_Fenced         int64\n",
       "Garden                float64\n",
       "Settlement              int64\n",
       "Building Dimension    float64\n",
       "Building_Type           int64\n",
       "Date_of_Occupancy     float64\n",
       "NumberOfWindows         int32\n",
       "Geo_Code               object\n",
       "Claim                   int64\n",
       "dtype: object"
      ]
     },
     "execution_count": 49,
     "metadata": {},
     "output_type": "execute_result"
    }
   ],
   "source": [
    "data.dtypes"
   ]
  },
  {
   "cell_type": "markdown",
   "metadata": {},
   "source": [
    "# Geo_Code"
   ]
  },
  {
   "cell_type": "code",
   "execution_count": 50,
   "metadata": {},
   "outputs": [
    {
     "data": {
      "text/plain": [
       "102"
      ]
     },
     "execution_count": 50,
     "metadata": {},
     "output_type": "execute_result"
    }
   ],
   "source": [
    "data.Geo_Code.isnull().sum()"
   ]
  },
  {
   "cell_type": "code",
   "execution_count": 51,
   "metadata": {},
   "outputs": [
    {
     "data": {
      "text/plain": [
       "1307"
      ]
     },
     "execution_count": 51,
     "metadata": {},
     "output_type": "execute_result"
    }
   ],
   "source": [
    "data.Geo_Code.nunique()"
   ]
  },
  {
   "cell_type": "code",
   "execution_count": 52,
   "metadata": {},
   "outputs": [
    {
     "data": {
      "text/plain": [
       "0"
      ]
     },
     "execution_count": 52,
     "metadata": {},
     "output_type": "execute_result"
    }
   ],
   "source": [
    "data.Geo_Code = data.Geo_Code.fillna(method = 'ffill')\n",
    "data.Geo_Code.isnull().sum()"
   ]
  },
  {
   "cell_type": "code",
   "execution_count": 53,
   "metadata": {},
   "outputs": [
    {
     "data": {
      "text/plain": [
       "array(['1053', '1143', '1160', ..., '2B050', '2B096', '2B353'],\n",
       "      dtype=object)"
      ]
     },
     "execution_count": 53,
     "metadata": {},
     "output_type": "execute_result"
    }
   ],
   "source": [
    "code = data.Geo_Code.unique()\n",
    "code"
   ]
  },
  {
   "cell_type": "code",
   "execution_count": 54,
   "metadata": {},
   "outputs": [
    {
     "data": {
      "text/plain": [
       "0     1053\n",
       "1     1053\n",
       "2     1053\n",
       "3     1053\n",
       "4     1053\n",
       "5     1143\n",
       "6     1143\n",
       "7     1160\n",
       "8     1173\n",
       "9     1224\n",
       "10    1283\n",
       "11    1283\n",
       "12    1305\n",
       "13    1305\n",
       "14    1363\n",
       "15    1419\n",
       "16    1419\n",
       "17    1419\n",
       "18    2059\n",
       "19    2059\n",
       "Name: Geo_Code, dtype: object"
      ]
     },
     "execution_count": 54,
     "metadata": {},
     "output_type": "execute_result"
    }
   ],
   "source": [
    "data.Geo_Code.iloc[:20]"
   ]
  },
  {
   "cell_type": "code",
   "execution_count": 56,
   "metadata": {},
   "outputs": [],
   "source": [
    "new_code = np.arange(1308)[1:]\n",
    "code_dict = dict(zip(code, new_code))\n"
   ]
  },
  {
   "cell_type": "code",
   "execution_count": 57,
   "metadata": {},
   "outputs": [
    {
     "data": {
      "text/plain": [
       "7160"
      ]
     },
     "execution_count": 57,
     "metadata": {},
     "output_type": "execute_result"
    }
   ],
   "source": [
    "g = data.Geo_Code.map(code_dict)\n",
    "len(g)"
   ]
  },
  {
   "cell_type": "code",
   "execution_count": 58,
   "metadata": {},
   "outputs": [
    {
     "data": {
      "text/html": [
       "<div>\n",
       "<style scoped>\n",
       "    .dataframe tbody tr th:only-of-type {\n",
       "        vertical-align: middle;\n",
       "    }\n",
       "\n",
       "    .dataframe tbody tr th {\n",
       "        vertical-align: top;\n",
       "    }\n",
       "\n",
       "    .dataframe thead th {\n",
       "        text-align: right;\n",
       "    }\n",
       "</style>\n",
       "<table border=\"1\" class=\"dataframe\">\n",
       "  <thead>\n",
       "    <tr style=\"text-align: right;\">\n",
       "      <th></th>\n",
       "      <th>Customer Id</th>\n",
       "      <th>YearOfObservation</th>\n",
       "      <th>Insured_Period</th>\n",
       "      <th>Residential</th>\n",
       "      <th>Building_Painted</th>\n",
       "      <th>Building_Fenced</th>\n",
       "      <th>Garden</th>\n",
       "      <th>Settlement</th>\n",
       "      <th>Building Dimension</th>\n",
       "      <th>Building_Type</th>\n",
       "      <th>Date_of_Occupancy</th>\n",
       "      <th>NumberOfWindows</th>\n",
       "      <th>Geo_Code</th>\n",
       "      <th>Claim</th>\n",
       "    </tr>\n",
       "  </thead>\n",
       "  <tbody>\n",
       "    <tr>\n",
       "      <th>0</th>\n",
       "      <td>H14663</td>\n",
       "      <td>2013</td>\n",
       "      <td>1.0</td>\n",
       "      <td>0</td>\n",
       "      <td>1</td>\n",
       "      <td>0</td>\n",
       "      <td>1.0</td>\n",
       "      <td>1</td>\n",
       "      <td>290.0</td>\n",
       "      <td>1</td>\n",
       "      <td>1960.0</td>\n",
       "      <td>0</td>\n",
       "      <td>1</td>\n",
       "      <td>0</td>\n",
       "    </tr>\n",
       "    <tr>\n",
       "      <th>1</th>\n",
       "      <td>H2037</td>\n",
       "      <td>2015</td>\n",
       "      <td>1.0</td>\n",
       "      <td>0</td>\n",
       "      <td>0</td>\n",
       "      <td>1</td>\n",
       "      <td>0.0</td>\n",
       "      <td>0</td>\n",
       "      <td>490.0</td>\n",
       "      <td>1</td>\n",
       "      <td>1850.0</td>\n",
       "      <td>4</td>\n",
       "      <td>1</td>\n",
       "      <td>0</td>\n",
       "    </tr>\n",
       "    <tr>\n",
       "      <th>2</th>\n",
       "      <td>H3802</td>\n",
       "      <td>2014</td>\n",
       "      <td>1.0</td>\n",
       "      <td>0</td>\n",
       "      <td>1</td>\n",
       "      <td>0</td>\n",
       "      <td>1.0</td>\n",
       "      <td>1</td>\n",
       "      <td>595.0</td>\n",
       "      <td>1</td>\n",
       "      <td>1960.0</td>\n",
       "      <td>0</td>\n",
       "      <td>1</td>\n",
       "      <td>0</td>\n",
       "    </tr>\n",
       "    <tr>\n",
       "      <th>3</th>\n",
       "      <td>H3834</td>\n",
       "      <td>2013</td>\n",
       "      <td>1.0</td>\n",
       "      <td>0</td>\n",
       "      <td>0</td>\n",
       "      <td>0</td>\n",
       "      <td>1.0</td>\n",
       "      <td>1</td>\n",
       "      <td>2840.0</td>\n",
       "      <td>1</td>\n",
       "      <td>1960.0</td>\n",
       "      <td>0</td>\n",
       "      <td>1</td>\n",
       "      <td>0</td>\n",
       "    </tr>\n",
       "    <tr>\n",
       "      <th>4</th>\n",
       "      <td>H5053</td>\n",
       "      <td>2014</td>\n",
       "      <td>1.0</td>\n",
       "      <td>0</td>\n",
       "      <td>0</td>\n",
       "      <td>1</td>\n",
       "      <td>0.0</td>\n",
       "      <td>0</td>\n",
       "      <td>680.0</td>\n",
       "      <td>1</td>\n",
       "      <td>1800.0</td>\n",
       "      <td>3</td>\n",
       "      <td>1</td>\n",
       "      <td>0</td>\n",
       "    </tr>\n",
       "  </tbody>\n",
       "</table>\n",
       "</div>"
      ],
      "text/plain": [
       "  Customer Id  YearOfObservation  Insured_Period  Residential  \\\n",
       "0      H14663               2013             1.0            0   \n",
       "1       H2037               2015             1.0            0   \n",
       "2       H3802               2014             1.0            0   \n",
       "3       H3834               2013             1.0            0   \n",
       "4       H5053               2014             1.0            0   \n",
       "\n",
       "   Building_Painted  Building_Fenced  Garden  Settlement  Building Dimension  \\\n",
       "0                 1                0     1.0           1               290.0   \n",
       "1                 0                1     0.0           0               490.0   \n",
       "2                 1                0     1.0           1               595.0   \n",
       "3                 0                0     1.0           1              2840.0   \n",
       "4                 0                1     0.0           0               680.0   \n",
       "\n",
       "   Building_Type  Date_of_Occupancy  NumberOfWindows  Geo_Code  Claim  \n",
       "0              1             1960.0                0         1      0  \n",
       "1              1             1850.0                4         1      0  \n",
       "2              1             1960.0                0         1      0  \n",
       "3              1             1960.0                0         1      0  \n",
       "4              1             1800.0                3         1      0  "
      ]
     },
     "execution_count": 58,
     "metadata": {},
     "output_type": "execute_result"
    }
   ],
   "source": [
    "data.Geo_Code = g\n",
    "data.head()"
   ]
  },
  {
   "cell_type": "code",
   "execution_count": 59,
   "metadata": {},
   "outputs": [
    {
     "data": {
      "text/plain": [
       "Customer Id            object\n",
       "YearOfObservation       int64\n",
       "Insured_Period        float64\n",
       "Residential             int64\n",
       "Building_Painted        int64\n",
       "Building_Fenced         int64\n",
       "Garden                float64\n",
       "Settlement              int64\n",
       "Building Dimension    float64\n",
       "Building_Type           int64\n",
       "Date_of_Occupancy     float64\n",
       "NumberOfWindows         int32\n",
       "Geo_Code                int64\n",
       "Claim                   int64\n",
       "dtype: object"
      ]
     },
     "execution_count": 59,
     "metadata": {},
     "output_type": "execute_result"
    }
   ],
   "source": [
    "data.dtypes"
   ]
  },
  {
   "cell_type": "code",
   "execution_count": 60,
   "metadata": {},
   "outputs": [
    {
     "data": {
      "text/plain": [
       "(7160, 14)"
      ]
     },
     "execution_count": 60,
     "metadata": {},
     "output_type": "execute_result"
    }
   ],
   "source": [
    "data.shape"
   ]
  },
  {
   "cell_type": "markdown",
   "metadata": {},
   "source": [
    "# Correlation between features"
   ]
  },
  {
   "cell_type": "code",
   "execution_count": 61,
   "metadata": {},
   "outputs": [
    {
     "data": {
      "text/plain": [
       "(13, 13)"
      ]
     },
     "execution_count": 61,
     "metadata": {},
     "output_type": "execute_result"
    }
   ],
   "source": [
    "corr = data.corr()\n",
    "corr.shape"
   ]
  },
  {
   "cell_type": "code",
   "execution_count": 62,
   "metadata": {},
   "outputs": [
    {
     "data": {
      "text/html": [
       "<style  type=\"text/css\" >\n",
       "    #T_e3f77ba4_295e_11ea_a20e_681401028cf2row0_col0 {\n",
       "            background-color:  #023858;\n",
       "        }    #T_e3f77ba4_295e_11ea_a20e_681401028cf2row0_col1 {\n",
       "            background-color:  #f5eef6;\n",
       "        }    #T_e3f77ba4_295e_11ea_a20e_681401028cf2row0_col2 {\n",
       "            background-color:  #f9f2f8;\n",
       "        }    #T_e3f77ba4_295e_11ea_a20e_681401028cf2row0_col3 {\n",
       "            background-color:  #b5c4df;\n",
       "        }    #T_e3f77ba4_295e_11ea_a20e_681401028cf2row0_col4 {\n",
       "            background-color:  #569dc8;\n",
       "        }    #T_e3f77ba4_295e_11ea_a20e_681401028cf2row0_col5 {\n",
       "            background-color:  #8cb3d5;\n",
       "        }    #T_e3f77ba4_295e_11ea_a20e_681401028cf2row0_col6 {\n",
       "            background-color:  #8cb3d5;\n",
       "        }    #T_e3f77ba4_295e_11ea_a20e_681401028cf2row0_col7 {\n",
       "            background-color:  #ede8f3;\n",
       "        }    #T_e3f77ba4_295e_11ea_a20e_681401028cf2row0_col8 {\n",
       "            background-color:  #e8e4f0;\n",
       "        }    #T_e3f77ba4_295e_11ea_a20e_681401028cf2row0_col9 {\n",
       "            background-color:  #eee8f3;\n",
       "        }    #T_e3f77ba4_295e_11ea_a20e_681401028cf2row0_col10 {\n",
       "            background-color:  #6ba5cd;\n",
       "        }    #T_e3f77ba4_295e_11ea_a20e_681401028cf2row0_col11 {\n",
       "            background-color:  #fbf4f9;\n",
       "        }    #T_e3f77ba4_295e_11ea_a20e_681401028cf2row0_col12 {\n",
       "            background-color:  #faf3f9;\n",
       "        }    #T_e3f77ba4_295e_11ea_a20e_681401028cf2row1_col0 {\n",
       "            background-color:  #ebe6f2;\n",
       "        }    #T_e3f77ba4_295e_11ea_a20e_681401028cf2row1_col1 {\n",
       "            background-color:  #023858;\n",
       "        }    #T_e3f77ba4_295e_11ea_a20e_681401028cf2row1_col2 {\n",
       "            background-color:  #f9f2f8;\n",
       "        }    #T_e3f77ba4_295e_11ea_a20e_681401028cf2row1_col3 {\n",
       "            background-color:  #a1bbda;\n",
       "        }    #T_e3f77ba4_295e_11ea_a20e_681401028cf2row1_col4 {\n",
       "            background-color:  #69a5cc;\n",
       "        }    #T_e3f77ba4_295e_11ea_a20e_681401028cf2row1_col5 {\n",
       "            background-color:  #7eadd1;\n",
       "        }    #T_e3f77ba4_295e_11ea_a20e_681401028cf2row1_col6 {\n",
       "            background-color:  #7dacd1;\n",
       "        }    #T_e3f77ba4_295e_11ea_a20e_681401028cf2row1_col7 {\n",
       "            background-color:  #ede8f3;\n",
       "        }    #T_e3f77ba4_295e_11ea_a20e_681401028cf2row1_col8 {\n",
       "            background-color:  #ede7f2;\n",
       "        }    #T_e3f77ba4_295e_11ea_a20e_681401028cf2row1_col9 {\n",
       "            background-color:  #e9e5f1;\n",
       "        }    #T_e3f77ba4_295e_11ea_a20e_681401028cf2row1_col10 {\n",
       "            background-color:  #79abd0;\n",
       "        }    #T_e3f77ba4_295e_11ea_a20e_681401028cf2row1_col11 {\n",
       "            background-color:  #fbf3f9;\n",
       "        }    #T_e3f77ba4_295e_11ea_a20e_681401028cf2row1_col12 {\n",
       "            background-color:  #eae6f1;\n",
       "        }    #T_e3f77ba4_295e_11ea_a20e_681401028cf2row2_col0 {\n",
       "            background-color:  #f4eef6;\n",
       "        }    #T_e3f77ba4_295e_11ea_a20e_681401028cf2row2_col1 {\n",
       "            background-color:  #fef6fa;\n",
       "        }    #T_e3f77ba4_295e_11ea_a20e_681401028cf2row2_col2 {\n",
       "            background-color:  #023858;\n",
       "        }    #T_e3f77ba4_295e_11ea_a20e_681401028cf2row2_col3 {\n",
       "            background-color:  #a2bcda;\n",
       "        }    #T_e3f77ba4_295e_11ea_a20e_681401028cf2row2_col4 {\n",
       "            background-color:  #60a1ca;\n",
       "        }    #T_e3f77ba4_295e_11ea_a20e_681401028cf2row2_col5 {\n",
       "            background-color:  #84b0d3;\n",
       "        }    #T_e3f77ba4_295e_11ea_a20e_681401028cf2row2_col6 {\n",
       "            background-color:  #84b0d3;\n",
       "        }    #T_e3f77ba4_295e_11ea_a20e_681401028cf2row2_col7 {\n",
       "            background-color:  #e4e1ef;\n",
       "        }    #T_e3f77ba4_295e_11ea_a20e_681401028cf2row2_col8 {\n",
       "            background-color:  #91b5d6;\n",
       "        }    #T_e3f77ba4_295e_11ea_a20e_681401028cf2row2_col9 {\n",
       "            background-color:  #f2ecf5;\n",
       "        }    #T_e3f77ba4_295e_11ea_a20e_681401028cf2row2_col10 {\n",
       "            background-color:  #63a2cb;\n",
       "        }    #T_e3f77ba4_295e_11ea_a20e_681401028cf2row2_col11 {\n",
       "            background-color:  #c1cae2;\n",
       "        }    #T_e3f77ba4_295e_11ea_a20e_681401028cf2row2_col12 {\n",
       "            background-color:  #eee9f3;\n",
       "        }    #T_e3f77ba4_295e_11ea_a20e_681401028cf2row3_col0 {\n",
       "            background-color:  #f7f0f7;\n",
       "        }    #T_e3f77ba4_295e_11ea_a20e_681401028cf2row3_col1 {\n",
       "            background-color:  #f3edf5;\n",
       "        }    #T_e3f77ba4_295e_11ea_a20e_681401028cf2row3_col2 {\n",
       "            background-color:  #efe9f3;\n",
       "        }    #T_e3f77ba4_295e_11ea_a20e_681401028cf2row3_col3 {\n",
       "            background-color:  #023858;\n",
       "        }    #T_e3f77ba4_295e_11ea_a20e_681401028cf2row3_col4 {\n",
       "            background-color:  #d9d8ea;\n",
       "        }    #T_e3f77ba4_295e_11ea_a20e_681401028cf2row3_col5 {\n",
       "            background-color:  #0569a5;\n",
       "        }    #T_e3f77ba4_295e_11ea_a20e_681401028cf2row3_col6 {\n",
       "            background-color:  #0569a5;\n",
       "        }    #T_e3f77ba4_295e_11ea_a20e_681401028cf2row3_col7 {\n",
       "            background-color:  #fbf4f9;\n",
       "        }    #T_e3f77ba4_295e_11ea_a20e_681401028cf2row3_col8 {\n",
       "            background-color:  #e0dded;\n",
       "        }    #T_e3f77ba4_295e_11ea_a20e_681401028cf2row3_col9 {\n",
       "            background-color:  #d9d8ea;\n",
       "        }    #T_e3f77ba4_295e_11ea_a20e_681401028cf2row3_col10 {\n",
       "            background-color:  #dcdaeb;\n",
       "        }    #T_e3f77ba4_295e_11ea_a20e_681401028cf2row3_col11 {\n",
       "            background-color:  #fff7fb;\n",
       "        }    #T_e3f77ba4_295e_11ea_a20e_681401028cf2row3_col12 {\n",
       "            background-color:  #fcf4fa;\n",
       "        }    #T_e3f77ba4_295e_11ea_a20e_681401028cf2row4_col0 {\n",
       "            background-color:  #d8d7e9;\n",
       "        }    #T_e3f77ba4_295e_11ea_a20e_681401028cf2row4_col1 {\n",
       "            background-color:  #f2ecf5;\n",
       "        }    #T_e3f77ba4_295e_11ea_a20e_681401028cf2row4_col2 {\n",
       "            background-color:  #e6e2ef;\n",
       "        }    #T_e3f77ba4_295e_11ea_a20e_681401028cf2row4_col3 {\n",
       "            background-color:  #fff7fb;\n",
       "        }    #T_e3f77ba4_295e_11ea_a20e_681401028cf2row4_col4 {\n",
       "            background-color:  #023858;\n",
       "        }    #T_e3f77ba4_295e_11ea_a20e_681401028cf2row4_col5 {\n",
       "            background-color:  #fff7fb;\n",
       "        }    #T_e3f77ba4_295e_11ea_a20e_681401028cf2row4_col6 {\n",
       "            background-color:  #fff7fb;\n",
       "        }    #T_e3f77ba4_295e_11ea_a20e_681401028cf2row4_col7 {\n",
       "            background-color:  #d6d6e9;\n",
       "        }    #T_e3f77ba4_295e_11ea_a20e_681401028cf2row4_col8 {\n",
       "            background-color:  #e5e1ef;\n",
       "        }    #T_e3f77ba4_295e_11ea_a20e_681401028cf2row4_col9 {\n",
       "            background-color:  #fdf5fa;\n",
       "        }    #T_e3f77ba4_295e_11ea_a20e_681401028cf2row4_col10 {\n",
       "            background-color:  #034c78;\n",
       "        }    #T_e3f77ba4_295e_11ea_a20e_681401028cf2row4_col11 {\n",
       "            background-color:  #f7f0f7;\n",
       "        }    #T_e3f77ba4_295e_11ea_a20e_681401028cf2row4_col12 {\n",
       "            background-color:  #f0eaf4;\n",
       "        }    #T_e3f77ba4_295e_11ea_a20e_681401028cf2row5_col0 {\n",
       "            background-color:  #fff7fb;\n",
       "        }    #T_e3f77ba4_295e_11ea_a20e_681401028cf2row5_col1 {\n",
       "            background-color:  #fff7fb;\n",
       "        }    #T_e3f77ba4_295e_11ea_a20e_681401028cf2row5_col2 {\n",
       "            background-color:  #fff7fb;\n",
       "        }    #T_e3f77ba4_295e_11ea_a20e_681401028cf2row5_col3 {\n",
       "            background-color:  #0d75b3;\n",
       "        }    #T_e3f77ba4_295e_11ea_a20e_681401028cf2row5_col4 {\n",
       "            background-color:  #fff7fb;\n",
       "        }    #T_e3f77ba4_295e_11ea_a20e_681401028cf2row5_col5 {\n",
       "            background-color:  #023858;\n",
       "        }    #T_e3f77ba4_295e_11ea_a20e_681401028cf2row5_col6 {\n",
       "            background-color:  #023858;\n",
       "        }    #T_e3f77ba4_295e_11ea_a20e_681401028cf2row5_col7 {\n",
       "            background-color:  #fff7fb;\n",
       "        }    #T_e3f77ba4_295e_11ea_a20e_681401028cf2row5_col8 {\n",
       "            background-color:  #ede8f3;\n",
       "        }    #T_e3f77ba4_295e_11ea_a20e_681401028cf2row5_col9 {\n",
       "            background-color:  #cccfe5;\n",
       "        }    #T_e3f77ba4_295e_11ea_a20e_681401028cf2row5_col10 {\n",
       "            background-color:  #fff7fb;\n",
       "        }    #T_e3f77ba4_295e_11ea_a20e_681401028cf2row5_col11 {\n",
       "            background-color:  #fff7fb;\n",
       "        }    #T_e3f77ba4_295e_11ea_a20e_681401028cf2row5_col12 {\n",
       "            background-color:  #fff7fb;\n",
       "        }    #T_e3f77ba4_295e_11ea_a20e_681401028cf2row6_col0 {\n",
       "            background-color:  #fff7fb;\n",
       "        }    #T_e3f77ba4_295e_11ea_a20e_681401028cf2row6_col1 {\n",
       "            background-color:  #fff7fb;\n",
       "        }    #T_e3f77ba4_295e_11ea_a20e_681401028cf2row6_col2 {\n",
       "            background-color:  #fff7fb;\n",
       "        }    #T_e3f77ba4_295e_11ea_a20e_681401028cf2row6_col3 {\n",
       "            background-color:  #0d75b3;\n",
       "        }    #T_e3f77ba4_295e_11ea_a20e_681401028cf2row6_col4 {\n",
       "            background-color:  #fff7fb;\n",
       "        }    #T_e3f77ba4_295e_11ea_a20e_681401028cf2row6_col5 {\n",
       "            background-color:  #023858;\n",
       "        }    #T_e3f77ba4_295e_11ea_a20e_681401028cf2row6_col6 {\n",
       "            background-color:  #023858;\n",
       "        }    #T_e3f77ba4_295e_11ea_a20e_681401028cf2row6_col7 {\n",
       "            background-color:  #fff7fb;\n",
       "        }    #T_e3f77ba4_295e_11ea_a20e_681401028cf2row6_col8 {\n",
       "            background-color:  #ede7f2;\n",
       "        }    #T_e3f77ba4_295e_11ea_a20e_681401028cf2row6_col9 {\n",
       "            background-color:  #cccfe5;\n",
       "        }    #T_e3f77ba4_295e_11ea_a20e_681401028cf2row6_col10 {\n",
       "            background-color:  #fff7fb;\n",
       "        }    #T_e3f77ba4_295e_11ea_a20e_681401028cf2row6_col11 {\n",
       "            background-color:  #fff7fb;\n",
       "        }    #T_e3f77ba4_295e_11ea_a20e_681401028cf2row6_col12 {\n",
       "            background-color:  #fff7fb;\n",
       "        }    #T_e3f77ba4_295e_11ea_a20e_681401028cf2row7_col0 {\n",
       "            background-color:  #eee8f3;\n",
       "        }    #T_e3f77ba4_295e_11ea_a20e_681401028cf2row7_col1 {\n",
       "            background-color:  #f7f0f7;\n",
       "        }    #T_e3f77ba4_295e_11ea_a20e_681401028cf2row7_col2 {\n",
       "            background-color:  #ebe6f2;\n",
       "        }    #T_e3f77ba4_295e_11ea_a20e_681401028cf2row7_col3 {\n",
       "            background-color:  #bfc9e1;\n",
       "        }    #T_e3f77ba4_295e_11ea_a20e_681401028cf2row7_col4 {\n",
       "            background-color:  #549cc7;\n",
       "        }    #T_e3f77ba4_295e_11ea_a20e_681401028cf2row7_col5 {\n",
       "            background-color:  #8eb3d5;\n",
       "        }    #T_e3f77ba4_295e_11ea_a20e_681401028cf2row7_col6 {\n",
       "            background-color:  #8eb3d5;\n",
       "        }    #T_e3f77ba4_295e_11ea_a20e_681401028cf2row7_col7 {\n",
       "            background-color:  #023858;\n",
       "        }    #T_e3f77ba4_295e_11ea_a20e_681401028cf2row7_col8 {\n",
       "            background-color:  #e8e4f0;\n",
       "        }    #T_e3f77ba4_295e_11ea_a20e_681401028cf2row7_col9 {\n",
       "            background-color:  #bcc7e1;\n",
       "        }    #T_e3f77ba4_295e_11ea_a20e_681401028cf2row7_col10 {\n",
       "            background-color:  #3d93c2;\n",
       "        }    #T_e3f77ba4_295e_11ea_a20e_681401028cf2row7_col11 {\n",
       "            background-color:  #faf2f8;\n",
       "        }    #T_e3f77ba4_295e_11ea_a20e_681401028cf2row7_col12 {\n",
       "            background-color:  #b5c4df;\n",
       "        }    #T_e3f77ba4_295e_11ea_a20e_681401028cf2row8_col0 {\n",
       "            background-color:  #eee9f3;\n",
       "        }    #T_e3f77ba4_295e_11ea_a20e_681401028cf2row8_col1 {\n",
       "            background-color:  #fbf3f9;\n",
       "        }    #T_e3f77ba4_295e_11ea_a20e_681401028cf2row8_col2 {\n",
       "            background-color:  #a2bcda;\n",
       "        }    #T_e3f77ba4_295e_11ea_a20e_681401028cf2row8_col3 {\n",
       "            background-color:  #9ebad9;\n",
       "        }    #T_e3f77ba4_295e_11ea_a20e_681401028cf2row8_col4 {\n",
       "            background-color:  #6fa7ce;\n",
       "        }    #T_e3f77ba4_295e_11ea_a20e_681401028cf2row8_col5 {\n",
       "            background-color:  #78abd0;\n",
       "        }    #T_e3f77ba4_295e_11ea_a20e_681401028cf2row8_col6 {\n",
       "            background-color:  #78abd0;\n",
       "        }    #T_e3f77ba4_295e_11ea_a20e_681401028cf2row8_col7 {\n",
       "            background-color:  #ede8f3;\n",
       "        }    #T_e3f77ba4_295e_11ea_a20e_681401028cf2row8_col8 {\n",
       "            background-color:  #023858;\n",
       "        }    #T_e3f77ba4_295e_11ea_a20e_681401028cf2row8_col9 {\n",
       "            background-color:  #fff7fb;\n",
       "        }    #T_e3f77ba4_295e_11ea_a20e_681401028cf2row8_col10 {\n",
       "            background-color:  #69a5cc;\n",
       "        }    #T_e3f77ba4_295e_11ea_a20e_681401028cf2row8_col11 {\n",
       "            background-color:  #ece7f2;\n",
       "        }    #T_e3f77ba4_295e_11ea_a20e_681401028cf2row8_col12 {\n",
       "            background-color:  #e5e1ef;\n",
       "        }    #T_e3f77ba4_295e_11ea_a20e_681401028cf2row9_col0 {\n",
       "            background-color:  #f2ecf5;\n",
       "        }    #T_e3f77ba4_295e_11ea_a20e_681401028cf2row9_col1 {\n",
       "            background-color:  #f8f1f8;\n",
       "        }    #T_e3f77ba4_295e_11ea_a20e_681401028cf2row9_col2 {\n",
       "            background-color:  #fdf5fa;\n",
       "        }    #T_e3f77ba4_295e_11ea_a20e_681401028cf2row9_col3 {\n",
       "            background-color:  #96b6d7;\n",
       "        }    #T_e3f77ba4_295e_11ea_a20e_681401028cf2row9_col4 {\n",
       "            background-color:  #91b5d6;\n",
       "        }    #T_e3f77ba4_295e_11ea_a20e_681401028cf2row9_col5 {\n",
       "            background-color:  #509ac6;\n",
       "        }    #T_e3f77ba4_295e_11ea_a20e_681401028cf2row9_col6 {\n",
       "            background-color:  #509ac6;\n",
       "        }    #T_e3f77ba4_295e_11ea_a20e_681401028cf2row9_col7 {\n",
       "            background-color:  #c2cbe2;\n",
       "        }    #T_e3f77ba4_295e_11ea_a20e_681401028cf2row9_col8 {\n",
       "            background-color:  #fff7fb;\n",
       "        }    #T_e3f77ba4_295e_11ea_a20e_681401028cf2row9_col9 {\n",
       "            background-color:  #023858;\n",
       "        }    #T_e3f77ba4_295e_11ea_a20e_681401028cf2row9_col10 {\n",
       "            background-color:  #9fbad9;\n",
       "        }    #T_e3f77ba4_295e_11ea_a20e_681401028cf2row9_col11 {\n",
       "            background-color:  #faf3f9;\n",
       "        }    #T_e3f77ba4_295e_11ea_a20e_681401028cf2row9_col12 {\n",
       "            background-color:  #f5eff6;\n",
       "        }    #T_e3f77ba4_295e_11ea_a20e_681401028cf2row10_col0 {\n",
       "            background-color:  #dcdaeb;\n",
       "        }    #T_e3f77ba4_295e_11ea_a20e_681401028cf2row10_col1 {\n",
       "            background-color:  #f2ecf5;\n",
       "        }    #T_e3f77ba4_295e_11ea_a20e_681401028cf2row10_col2 {\n",
       "            background-color:  #dcdaeb;\n",
       "        }    #T_e3f77ba4_295e_11ea_a20e_681401028cf2row10_col3 {\n",
       "            background-color:  #f7f0f7;\n",
       "        }    #T_e3f77ba4_295e_11ea_a20e_681401028cf2row10_col4 {\n",
       "            background-color:  #034b76;\n",
       "        }    #T_e3f77ba4_295e_11ea_a20e_681401028cf2row10_col5 {\n",
       "            background-color:  #f5eef6;\n",
       "        }    #T_e3f77ba4_295e_11ea_a20e_681401028cf2row10_col6 {\n",
       "            background-color:  #f5eef6;\n",
       "        }    #T_e3f77ba4_295e_11ea_a20e_681401028cf2row10_col7 {\n",
       "            background-color:  #abbfdc;\n",
       "        }    #T_e3f77ba4_295e_11ea_a20e_681401028cf2row10_col8 {\n",
       "            background-color:  #d3d4e7;\n",
       "        }    #T_e3f77ba4_295e_11ea_a20e_681401028cf2row10_col9 {\n",
       "            background-color:  #fbf4f9;\n",
       "        }    #T_e3f77ba4_295e_11ea_a20e_681401028cf2row10_col10 {\n",
       "            background-color:  #023858;\n",
       "        }    #T_e3f77ba4_295e_11ea_a20e_681401028cf2row10_col11 {\n",
       "            background-color:  #f5eef6;\n",
       "        }    #T_e3f77ba4_295e_11ea_a20e_681401028cf2row10_col12 {\n",
       "            background-color:  #e0dded;\n",
       "        }    #T_e3f77ba4_295e_11ea_a20e_681401028cf2row11_col0 {\n",
       "            background-color:  #f0eaf4;\n",
       "        }    #T_e3f77ba4_295e_11ea_a20e_681401028cf2row11_col1 {\n",
       "            background-color:  #f8f1f8;\n",
       "        }    #T_e3f77ba4_295e_11ea_a20e_681401028cf2row11_col2 {\n",
       "            background-color:  #b5c4df;\n",
       "        }    #T_e3f77ba4_295e_11ea_a20e_681401028cf2row11_col3 {\n",
       "            background-color:  #afc1dd;\n",
       "        }    #T_e3f77ba4_295e_11ea_a20e_681401028cf2row11_col4 {\n",
       "            background-color:  #6da6cd;\n",
       "        }    #T_e3f77ba4_295e_11ea_a20e_681401028cf2row11_col5 {\n",
       "            background-color:  #79abd0;\n",
       "        }    #T_e3f77ba4_295e_11ea_a20e_681401028cf2row11_col6 {\n",
       "            background-color:  #79abd0;\n",
       "        }    #T_e3f77ba4_295e_11ea_a20e_681401028cf2row11_col7 {\n",
       "            background-color:  #ede7f2;\n",
       "        }    #T_e3f77ba4_295e_11ea_a20e_681401028cf2row11_col8 {\n",
       "            background-color:  #d6d6e9;\n",
       "        }    #T_e3f77ba4_295e_11ea_a20e_681401028cf2row11_col9 {\n",
       "            background-color:  #e8e4f0;\n",
       "        }    #T_e3f77ba4_295e_11ea_a20e_681401028cf2row11_col10 {\n",
       "            background-color:  #7bacd1;\n",
       "        }    #T_e3f77ba4_295e_11ea_a20e_681401028cf2row11_col11 {\n",
       "            background-color:  #023858;\n",
       "        }    #T_e3f77ba4_295e_11ea_a20e_681401028cf2row11_col12 {\n",
       "            background-color:  #f5eef6;\n",
       "        }    #T_e3f77ba4_295e_11ea_a20e_681401028cf2row12_col0 {\n",
       "            background-color:  #f1ebf5;\n",
       "        }    #T_e3f77ba4_295e_11ea_a20e_681401028cf2row12_col1 {\n",
       "            background-color:  #ebe6f2;\n",
       "        }    #T_e3f77ba4_295e_11ea_a20e_681401028cf2row12_col2 {\n",
       "            background-color:  #eae6f1;\n",
       "        }    #T_e3f77ba4_295e_11ea_a20e_681401028cf2row12_col3 {\n",
       "            background-color:  #b0c2de;\n",
       "        }    #T_e3f77ba4_295e_11ea_a20e_681401028cf2row12_col4 {\n",
       "            background-color:  #67a4cc;\n",
       "        }    #T_e3f77ba4_295e_11ea_a20e_681401028cf2row12_col5 {\n",
       "            background-color:  #7eadd1;\n",
       "        }    #T_e3f77ba4_295e_11ea_a20e_681401028cf2row12_col6 {\n",
       "            background-color:  #7eadd1;\n",
       "        }    #T_e3f77ba4_295e_11ea_a20e_681401028cf2row12_col7 {\n",
       "            background-color:  #a7bddb;\n",
       "        }    #T_e3f77ba4_295e_11ea_a20e_681401028cf2row12_col8 {\n",
       "            background-color:  #d3d4e7;\n",
       "        }    #T_e3f77ba4_295e_11ea_a20e_681401028cf2row12_col9 {\n",
       "            background-color:  #e7e3f0;\n",
       "        }    #T_e3f77ba4_295e_11ea_a20e_681401028cf2row12_col10 {\n",
       "            background-color:  #62a2cb;\n",
       "        }    #T_e3f77ba4_295e_11ea_a20e_681401028cf2row12_col11 {\n",
       "            background-color:  #f8f1f8;\n",
       "        }    #T_e3f77ba4_295e_11ea_a20e_681401028cf2row12_col12 {\n",
       "            background-color:  #023858;\n",
       "        }</style>  \n",
       "<table id=\"T_e3f77ba4_295e_11ea_a20e_681401028cf2\" > \n",
       "<thead>    <tr> \n",
       "        <th class=\"blank level0\" ></th> \n",
       "        <th class=\"col_heading level0 col0\" >YearOfObservation</th> \n",
       "        <th class=\"col_heading level0 col1\" >Insured_Period</th> \n",
       "        <th class=\"col_heading level0 col2\" >Residential</th> \n",
       "        <th class=\"col_heading level0 col3\" >Building_Painted</th> \n",
       "        <th class=\"col_heading level0 col4\" >Building_Fenced</th> \n",
       "        <th class=\"col_heading level0 col5\" >Garden</th> \n",
       "        <th class=\"col_heading level0 col6\" >Settlement</th> \n",
       "        <th class=\"col_heading level0 col7\" >Building Dimension</th> \n",
       "        <th class=\"col_heading level0 col8\" >Building_Type</th> \n",
       "        <th class=\"col_heading level0 col9\" >Date_of_Occupancy</th> \n",
       "        <th class=\"col_heading level0 col10\" >NumberOfWindows</th> \n",
       "        <th class=\"col_heading level0 col11\" >Geo_Code</th> \n",
       "        <th class=\"col_heading level0 col12\" >Claim</th> \n",
       "    </tr></thead> \n",
       "<tbody>    <tr> \n",
       "        <th id=\"T_e3f77ba4_295e_11ea_a20e_681401028cf2level0_row0\" class=\"row_heading level0 row0\" >YearOfObservation</th> \n",
       "        <td id=\"T_e3f77ba4_295e_11ea_a20e_681401028cf2row0_col0\" class=\"data row0 col0\" >1</td> \n",
       "        <td id=\"T_e3f77ba4_295e_11ea_a20e_681401028cf2row0_col1\" class=\"data row0 col1\" >0.0254341</td> \n",
       "        <td id=\"T_e3f77ba4_295e_11ea_a20e_681401028cf2row0_col2\" class=\"data row0 col2\" >-0.0403913</td> \n",
       "        <td id=\"T_e3f77ba4_295e_11ea_a20e_681401028cf2row0_col3\" class=\"data row0 col3\" >-0.0568809</td> \n",
       "        <td id=\"T_e3f77ba4_295e_11ea_a20e_681401028cf2row0_col4\" class=\"data row0 col4\" >0.120373</td> \n",
       "        <td id=\"T_e3f77ba4_295e_11ea_a20e_681401028cf2row0_col5\" class=\"data row0 col5\" >-0.120642</td> \n",
       "        <td id=\"T_e3f77ba4_295e_11ea_a20e_681401028cf2row0_col6\" class=\"data row0 col6\" >-0.120103</td> \n",
       "        <td id=\"T_e3f77ba4_295e_11ea_a20e_681401028cf2row0_col7\" class=\"data row0 col7\" >0.0072887</td> \n",
       "        <td id=\"T_e3f77ba4_295e_11ea_a20e_681401028cf2row0_col8\" class=\"data row0 col8\" >0.00548978</td> \n",
       "        <td id=\"T_e3f77ba4_295e_11ea_a20e_681401028cf2row0_col9\" class=\"data row0 col9\" >-0.0267363</td> \n",
       "        <td id=\"T_e3f77ba4_295e_11ea_a20e_681401028cf2row0_col10\" class=\"data row0 col10\" >0.102345</td> \n",
       "        <td id=\"T_e3f77ba4_295e_11ea_a20e_681401028cf2row0_col11\" class=\"data row0 col11\" >-0.00347778</td> \n",
       "        <td id=\"T_e3f77ba4_295e_11ea_a20e_681401028cf2row0_col12\" class=\"data row0 col12\" >-0.0163667</td> \n",
       "    </tr>    <tr> \n",
       "        <th id=\"T_e3f77ba4_295e_11ea_a20e_681401028cf2level0_row1\" class=\"row_heading level0 row1\" >Insured_Period</th> \n",
       "        <td id=\"T_e3f77ba4_295e_11ea_a20e_681401028cf2row1_col0\" class=\"data row1 col0\" >0.0254341</td> \n",
       "        <td id=\"T_e3f77ba4_295e_11ea_a20e_681401028cf2row1_col1\" class=\"data row1 col1\" >1</td> \n",
       "        <td id=\"T_e3f77ba4_295e_11ea_a20e_681401028cf2row1_col2\" class=\"data row1 col2\" >-0.0376201</td> \n",
       "        <td id=\"T_e3f77ba4_295e_11ea_a20e_681401028cf2row1_col3\" class=\"data row1 col3\" >0.037077</td> \n",
       "        <td id=\"T_e3f77ba4_295e_11ea_a20e_681401028cf2row1_col4\" class=\"data row1 col4\" >0.0470912</td> \n",
       "        <td id=\"T_e3f77ba4_295e_11ea_a20e_681401028cf2row1_col5\" class=\"data row1 col5\" >-0.0468807</td> \n",
       "        <td id=\"T_e3f77ba4_295e_11ea_a20e_681401028cf2row1_col6\" class=\"data row1 col6\" >-0.0465037</td> \n",
       "        <td id=\"T_e3f77ba4_295e_11ea_a20e_681401028cf2row1_col7\" class=\"data row1 col7\" >0.00690222</td> \n",
       "        <td id=\"T_e3f77ba4_295e_11ea_a20e_681401028cf2row1_col8\" class=\"data row1 col8\" >-0.0178105</td> \n",
       "        <td id=\"T_e3f77ba4_295e_11ea_a20e_681401028cf2row1_col9\" class=\"data row1 col9\" >-0.000149071</td> \n",
       "        <td id=\"T_e3f77ba4_295e_11ea_a20e_681401028cf2row1_col10\" class=\"data row1 col10\" >0.0425851</td> \n",
       "        <td id=\"T_e3f77ba4_295e_11ea_a20e_681401028cf2row1_col11\" class=\"data row1 col11\" >0.00302254</td> \n",
       "        <td id=\"T_e3f77ba4_295e_11ea_a20e_681401028cf2row1_col12\" class=\"data row1 col12\" >0.0887145</td> \n",
       "    </tr>    <tr> \n",
       "        <th id=\"T_e3f77ba4_295e_11ea_a20e_681401028cf2level0_row2\" class=\"row_heading level0 row2\" >Residential</th> \n",
       "        <td id=\"T_e3f77ba4_295e_11ea_a20e_681401028cf2row2_col0\" class=\"data row2 col0\" >-0.0403913</td> \n",
       "        <td id=\"T_e3f77ba4_295e_11ea_a20e_681401028cf2row2_col1\" class=\"data row2 col1\" >-0.0376201</td> \n",
       "        <td id=\"T_e3f77ba4_295e_11ea_a20e_681401028cf2row2_col2\" class=\"data row2 col2\" >1</td> \n",
       "        <td id=\"T_e3f77ba4_295e_11ea_a20e_681401028cf2row2_col3\" class=\"data row2 col3\" >0.0329273</td> \n",
       "        <td id=\"T_e3f77ba4_295e_11ea_a20e_681401028cf2row2_col4\" class=\"data row2 col4\" >0.0824481</td> \n",
       "        <td id=\"T_e3f77ba4_295e_11ea_a20e_681401028cf2row2_col5\" class=\"data row2 col5\" >-0.0828183</td> \n",
       "        <td id=\"T_e3f77ba4_295e_11ea_a20e_681401028cf2row2_col6\" class=\"data row2 col6\" >-0.0826845</td> \n",
       "        <td id=\"T_e3f77ba4_295e_11ea_a20e_681401028cf2row2_col7\" class=\"data row2 col7\" >0.0577269</td> \n",
       "        <td id=\"T_e3f77ba4_295e_11ea_a20e_681401028cf2row2_col8\" class=\"data row2 col8\" >0.334039</td> \n",
       "        <td id=\"T_e3f77ba4_295e_11ea_a20e_681401028cf2row2_col9\" class=\"data row2 col9\" >-0.0652933</td> \n",
       "        <td id=\"T_e3f77ba4_295e_11ea_a20e_681401028cf2row2_col10\" class=\"data row2 col10\" >0.128818</td> \n",
       "        <td id=\"T_e3f77ba4_295e_11ea_a20e_681401028cf2row2_col11\" class=\"data row2 col11\" >0.275445</td> \n",
       "        <td id=\"T_e3f77ba4_295e_11ea_a20e_681401028cf2row2_col12\" class=\"data row2 col12\" >0.063509</td> \n",
       "    </tr>    <tr> \n",
       "        <th id=\"T_e3f77ba4_295e_11ea_a20e_681401028cf2level0_row3\" class=\"row_heading level0 row3\" >Building_Painted</th> \n",
       "        <td id=\"T_e3f77ba4_295e_11ea_a20e_681401028cf2row3_col0\" class=\"data row3 col0\" >-0.0568809</td> \n",
       "        <td id=\"T_e3f77ba4_295e_11ea_a20e_681401028cf2row3_col1\" class=\"data row3 col1\" >0.037077</td> \n",
       "        <td id=\"T_e3f77ba4_295e_11ea_a20e_681401028cf2row3_col2\" class=\"data row3 col2\" >0.0329273</td> \n",
       "        <td id=\"T_e3f77ba4_295e_11ea_a20e_681401028cf2row3_col3\" class=\"data row3 col3\" >1</td> \n",
       "        <td id=\"T_e3f77ba4_295e_11ea_a20e_681401028cf2row3_col4\" class=\"data row3 col4\" >-0.574757</td> \n",
       "        <td id=\"T_e3f77ba4_295e_11ea_a20e_681401028cf2row3_col5\" class=\"data row3 col5\" >0.574434</td> \n",
       "        <td id=\"T_e3f77ba4_295e_11ea_a20e_681401028cf2row3_col6\" class=\"data row3 col6\" >0.575081</td> \n",
       "        <td id=\"T_e3f77ba4_295e_11ea_a20e_681401028cf2row3_col7\" class=\"data row3 col7\" >-0.0951869</td> \n",
       "        <td id=\"T_e3f77ba4_295e_11ea_a20e_681401028cf2row3_col8\" class=\"data row3 col8\" >0.0485408</td> \n",
       "        <td id=\"T_e3f77ba4_295e_11ea_a20e_681401028cf2row3_col9\" class=\"data row3 col9\" >0.0800866</td> \n",
       "        <td id=\"T_e3f77ba4_295e_11ea_a20e_681401028cf2row3_col10\" class=\"data row3 col10\" >-0.492943</td> \n",
       "        <td id=\"T_e3f77ba4_295e_11ea_a20e_681401028cf2row3_col11\" class=\"data row3 col11\" >-0.0257467</td> \n",
       "        <td id=\"T_e3f77ba4_295e_11ea_a20e_681401028cf2row3_col12\" class=\"data row3 col12\" >-0.0298568</td> \n",
       "    </tr>    <tr> \n",
       "        <th id=\"T_e3f77ba4_295e_11ea_a20e_681401028cf2level0_row4\" class=\"row_heading level0 row4\" >Building_Fenced</th> \n",
       "        <td id=\"T_e3f77ba4_295e_11ea_a20e_681401028cf2row4_col0\" class=\"data row4 col0\" >0.120373</td> \n",
       "        <td id=\"T_e3f77ba4_295e_11ea_a20e_681401028cf2row4_col1\" class=\"data row4 col1\" >0.0470912</td> \n",
       "        <td id=\"T_e3f77ba4_295e_11ea_a20e_681401028cf2row4_col2\" class=\"data row4 col2\" >0.0824481</td> \n",
       "        <td id=\"T_e3f77ba4_295e_11ea_a20e_681401028cf2row4_col3\" class=\"data row4 col3\" >-0.574757</td> \n",
       "        <td id=\"T_e3f77ba4_295e_11ea_a20e_681401028cf2row4_col4\" class=\"data row4 col4\" >1</td> \n",
       "        <td id=\"T_e3f77ba4_295e_11ea_a20e_681401028cf2row4_col5\" class=\"data row4 col5\" >-0.998883</td> \n",
       "        <td id=\"T_e3f77ba4_295e_11ea_a20e_681401028cf2row4_col6\" class=\"data row4 col6\" >-0.999441</td> \n",
       "        <td id=\"T_e3f77ba4_295e_11ea_a20e_681401028cf2row4_col7\" class=\"data row4 col7\" >0.125927</td> \n",
       "        <td id=\"T_e3f77ba4_295e_11ea_a20e_681401028cf2row4_col8\" class=\"data row4 col8\" >0.0204302</td> \n",
       "        <td id=\"T_e3f77ba4_295e_11ea_a20e_681401028cf2row4_col9\" class=\"data row4 col9\" >-0.143574</td> \n",
       "        <td id=\"T_e3f77ba4_295e_11ea_a20e_681401028cf2row4_col10\" class=\"data row4 col10\" >0.85915</td> \n",
       "        <td id=\"T_e3f77ba4_295e_11ea_a20e_681401028cf2row4_col11\" class=\"data row4 col11\" >0.0287046</td> \n",
       "        <td id=\"T_e3f77ba4_295e_11ea_a20e_681401028cf2row4_col12\" class=\"data row4 col12\" >0.0516571</td> \n",
       "    </tr>    <tr> \n",
       "        <th id=\"T_e3f77ba4_295e_11ea_a20e_681401028cf2level0_row5\" class=\"row_heading level0 row5\" >Garden</th> \n",
       "        <td id=\"T_e3f77ba4_295e_11ea_a20e_681401028cf2row5_col0\" class=\"data row5 col0\" >-0.120642</td> \n",
       "        <td id=\"T_e3f77ba4_295e_11ea_a20e_681401028cf2row5_col1\" class=\"data row5 col1\" >-0.0468807</td> \n",
       "        <td id=\"T_e3f77ba4_295e_11ea_a20e_681401028cf2row5_col2\" class=\"data row5 col2\" >-0.0828183</td> \n",
       "        <td id=\"T_e3f77ba4_295e_11ea_a20e_681401028cf2row5_col3\" class=\"data row5 col3\" >0.574434</td> \n",
       "        <td id=\"T_e3f77ba4_295e_11ea_a20e_681401028cf2row5_col4\" class=\"data row5 col4\" >-0.998883</td> \n",
       "        <td id=\"T_e3f77ba4_295e_11ea_a20e_681401028cf2row5_col5\" class=\"data row5 col5\" >1</td> \n",
       "        <td id=\"T_e3f77ba4_295e_11ea_a20e_681401028cf2row5_col6\" class=\"data row5 col6\" >0.998883</td> \n",
       "        <td id=\"T_e3f77ba4_295e_11ea_a20e_681401028cf2row5_col7\" class=\"data row5 col7\" >-0.125728</td> \n",
       "        <td id=\"T_e3f77ba4_295e_11ea_a20e_681401028cf2row5_col8\" class=\"data row5 col8\" >-0.0214316</td> \n",
       "        <td id=\"T_e3f77ba4_295e_11ea_a20e_681401028cf2row5_col9\" class=\"data row5 col9\" >0.143629</td> \n",
       "        <td id=\"T_e3f77ba4_295e_11ea_a20e_681401028cf2row5_col10\" class=\"data row5 col10\" >-0.85952</td> \n",
       "        <td id=\"T_e3f77ba4_295e_11ea_a20e_681401028cf2row5_col11\" class=\"data row5 col11\" >-0.0281758</td> \n",
       "        <td id=\"T_e3f77ba4_295e_11ea_a20e_681401028cf2row5_col12\" class=\"data row5 col12\" >-0.0526262</td> \n",
       "    </tr>    <tr> \n",
       "        <th id=\"T_e3f77ba4_295e_11ea_a20e_681401028cf2level0_row6\" class=\"row_heading level0 row6\" >Settlement</th> \n",
       "        <td id=\"T_e3f77ba4_295e_11ea_a20e_681401028cf2row6_col0\" class=\"data row6 col0\" >-0.120103</td> \n",
       "        <td id=\"T_e3f77ba4_295e_11ea_a20e_681401028cf2row6_col1\" class=\"data row6 col1\" >-0.0465037</td> \n",
       "        <td id=\"T_e3f77ba4_295e_11ea_a20e_681401028cf2row6_col2\" class=\"data row6 col2\" >-0.0826845</td> \n",
       "        <td id=\"T_e3f77ba4_295e_11ea_a20e_681401028cf2row6_col3\" class=\"data row6 col3\" >0.575081</td> \n",
       "        <td id=\"T_e3f77ba4_295e_11ea_a20e_681401028cf2row6_col4\" class=\"data row6 col4\" >-0.999441</td> \n",
       "        <td id=\"T_e3f77ba4_295e_11ea_a20e_681401028cf2row6_col5\" class=\"data row6 col5\" >0.998883</td> \n",
       "        <td id=\"T_e3f77ba4_295e_11ea_a20e_681401028cf2row6_col6\" class=\"data row6 col6\" >1</td> \n",
       "        <td id=\"T_e3f77ba4_295e_11ea_a20e_681401028cf2row6_col7\" class=\"data row6 col7\" >-0.125853</td> \n",
       "        <td id=\"T_e3f77ba4_295e_11ea_a20e_681401028cf2row6_col8\" class=\"data row6 col8\" >-0.0203198</td> \n",
       "        <td id=\"T_e3f77ba4_295e_11ea_a20e_681401028cf2row6_col9\" class=\"data row6 col9\" >0.143442</td> \n",
       "        <td id=\"T_e3f77ba4_295e_11ea_a20e_681401028cf2row6_col10\" class=\"data row6 col10\" >-0.859778</td> \n",
       "        <td id=\"T_e3f77ba4_295e_11ea_a20e_681401028cf2row6_col11\" class=\"data row6 col11\" >-0.0290188</td> \n",
       "        <td id=\"T_e3f77ba4_295e_11ea_a20e_681401028cf2row6_col12\" class=\"data row6 col12\" >-0.0520191</td> \n",
       "    </tr>    <tr> \n",
       "        <th id=\"T_e3f77ba4_295e_11ea_a20e_681401028cf2level0_row7\" class=\"row_heading level0 row7\" >Building Dimension</th> \n",
       "        <td id=\"T_e3f77ba4_295e_11ea_a20e_681401028cf2row7_col0\" class=\"data row7 col0\" >0.0072887</td> \n",
       "        <td id=\"T_e3f77ba4_295e_11ea_a20e_681401028cf2row7_col1\" class=\"data row7 col1\" >0.00690222</td> \n",
       "        <td id=\"T_e3f77ba4_295e_11ea_a20e_681401028cf2row7_col2\" class=\"data row7 col2\" >0.0577269</td> \n",
       "        <td id=\"T_e3f77ba4_295e_11ea_a20e_681401028cf2row7_col3\" class=\"data row7 col3\" >-0.0951869</td> \n",
       "        <td id=\"T_e3f77ba4_295e_11ea_a20e_681401028cf2row7_col4\" class=\"data row7 col4\" >0.125927</td> \n",
       "        <td id=\"T_e3f77ba4_295e_11ea_a20e_681401028cf2row7_col5\" class=\"data row7 col5\" >-0.125728</td> \n",
       "        <td id=\"T_e3f77ba4_295e_11ea_a20e_681401028cf2row7_col6\" class=\"data row7 col6\" >-0.125853</td> \n",
       "        <td id=\"T_e3f77ba4_295e_11ea_a20e_681401028cf2row7_col7\" class=\"data row7 col7\" >1</td> \n",
       "        <td id=\"T_e3f77ba4_295e_11ea_a20e_681401028cf2row7_col8\" class=\"data row7 col8\" >0.00656896</td> \n",
       "        <td id=\"T_e3f77ba4_295e_11ea_a20e_681401028cf2row7_col9\" class=\"data row7 col9\" >0.201635</td> \n",
       "        <td id=\"T_e3f77ba4_295e_11ea_a20e_681401028cf2row7_col10\" class=\"data row7 col10\" >0.278815</td> \n",
       "        <td id=\"T_e3f77ba4_295e_11ea_a20e_681401028cf2row7_col11\" class=\"data row7 col11\" >0.0105886</td> \n",
       "        <td id=\"T_e3f77ba4_295e_11ea_a20e_681401028cf2row7_col12\" class=\"data row7 col12\" >0.294419</td> \n",
       "    </tr>    <tr> \n",
       "        <th id=\"T_e3f77ba4_295e_11ea_a20e_681401028cf2level0_row8\" class=\"row_heading level0 row8\" >Building_Type</th> \n",
       "        <td id=\"T_e3f77ba4_295e_11ea_a20e_681401028cf2row8_col0\" class=\"data row8 col0\" >0.00548978</td> \n",
       "        <td id=\"T_e3f77ba4_295e_11ea_a20e_681401028cf2row8_col1\" class=\"data row8 col1\" >-0.0178105</td> \n",
       "        <td id=\"T_e3f77ba4_295e_11ea_a20e_681401028cf2row8_col2\" class=\"data row8 col2\" >0.334039</td> \n",
       "        <td id=\"T_e3f77ba4_295e_11ea_a20e_681401028cf2row8_col3\" class=\"data row8 col3\" >0.0485408</td> \n",
       "        <td id=\"T_e3f77ba4_295e_11ea_a20e_681401028cf2row8_col4\" class=\"data row8 col4\" >0.0204302</td> \n",
       "        <td id=\"T_e3f77ba4_295e_11ea_a20e_681401028cf2row8_col5\" class=\"data row8 col5\" >-0.0214316</td> \n",
       "        <td id=\"T_e3f77ba4_295e_11ea_a20e_681401028cf2row8_col6\" class=\"data row8 col6\" >-0.0203198</td> \n",
       "        <td id=\"T_e3f77ba4_295e_11ea_a20e_681401028cf2row8_col7\" class=\"data row8 col7\" >0.00656896</td> \n",
       "        <td id=\"T_e3f77ba4_295e_11ea_a20e_681401028cf2row8_col8\" class=\"data row8 col8\" >1</td> \n",
       "        <td id=\"T_e3f77ba4_295e_11ea_a20e_681401028cf2row8_col9\" class=\"data row8 col9\" >-0.161184</td> \n",
       "        <td id=\"T_e3f77ba4_295e_11ea_a20e_681401028cf2row8_col10\" class=\"data row8 col10\" >0.113084</td> \n",
       "        <td id=\"T_e3f77ba4_295e_11ea_a20e_681401028cf2row8_col11\" class=\"data row8 col11\" >0.100736</td> \n",
       "        <td id=\"T_e3f77ba4_295e_11ea_a20e_681401028cf2row8_col12\" class=\"data row8 col12\" >0.112168</td> \n",
       "    </tr>    <tr> \n",
       "        <th id=\"T_e3f77ba4_295e_11ea_a20e_681401028cf2level0_row9\" class=\"row_heading level0 row9\" >Date_of_Occupancy</th> \n",
       "        <td id=\"T_e3f77ba4_295e_11ea_a20e_681401028cf2row9_col0\" class=\"data row9 col0\" >-0.0267363</td> \n",
       "        <td id=\"T_e3f77ba4_295e_11ea_a20e_681401028cf2row9_col1\" class=\"data row9 col1\" >-0.000149071</td> \n",
       "        <td id=\"T_e3f77ba4_295e_11ea_a20e_681401028cf2row9_col2\" class=\"data row9 col2\" >-0.0652933</td> \n",
       "        <td id=\"T_e3f77ba4_295e_11ea_a20e_681401028cf2row9_col3\" class=\"data row9 col3\" >0.0800866</td> \n",
       "        <td id=\"T_e3f77ba4_295e_11ea_a20e_681401028cf2row9_col4\" class=\"data row9 col4\" >-0.143574</td> \n",
       "        <td id=\"T_e3f77ba4_295e_11ea_a20e_681401028cf2row9_col5\" class=\"data row9 col5\" >0.143629</td> \n",
       "        <td id=\"T_e3f77ba4_295e_11ea_a20e_681401028cf2row9_col6\" class=\"data row9 col6\" >0.143442</td> \n",
       "        <td id=\"T_e3f77ba4_295e_11ea_a20e_681401028cf2row9_col7\" class=\"data row9 col7\" >0.201635</td> \n",
       "        <td id=\"T_e3f77ba4_295e_11ea_a20e_681401028cf2row9_col8\" class=\"data row9 col8\" >-0.161184</td> \n",
       "        <td id=\"T_e3f77ba4_295e_11ea_a20e_681401028cf2row9_col9\" class=\"data row9 col9\" >1</td> \n",
       "        <td id=\"T_e3f77ba4_295e_11ea_a20e_681401028cf2row9_col10\" class=\"data row9 col10\" >-0.132005</td> \n",
       "        <td id=\"T_e3f77ba4_295e_11ea_a20e_681401028cf2row9_col11\" class=\"data row9 col11\" >0.00402513</td> \n",
       "        <td id=\"T_e3f77ba4_295e_11ea_a20e_681401028cf2row9_col12\" class=\"data row9 col12\" >0.0142233</td> \n",
       "    </tr>    <tr> \n",
       "        <th id=\"T_e3f77ba4_295e_11ea_a20e_681401028cf2level0_row10\" class=\"row_heading level0 row10\" >NumberOfWindows</th> \n",
       "        <td id=\"T_e3f77ba4_295e_11ea_a20e_681401028cf2row10_col0\" class=\"data row10 col0\" >0.102345</td> \n",
       "        <td id=\"T_e3f77ba4_295e_11ea_a20e_681401028cf2row10_col1\" class=\"data row10 col1\" >0.0425851</td> \n",
       "        <td id=\"T_e3f77ba4_295e_11ea_a20e_681401028cf2row10_col2\" class=\"data row10 col2\" >0.128818</td> \n",
       "        <td id=\"T_e3f77ba4_295e_11ea_a20e_681401028cf2row10_col3\" class=\"data row10 col3\" >-0.492943</td> \n",
       "        <td id=\"T_e3f77ba4_295e_11ea_a20e_681401028cf2row10_col4\" class=\"data row10 col4\" >0.85915</td> \n",
       "        <td id=\"T_e3f77ba4_295e_11ea_a20e_681401028cf2row10_col5\" class=\"data row10 col5\" >-0.85952</td> \n",
       "        <td id=\"T_e3f77ba4_295e_11ea_a20e_681401028cf2row10_col6\" class=\"data row10 col6\" >-0.859778</td> \n",
       "        <td id=\"T_e3f77ba4_295e_11ea_a20e_681401028cf2row10_col7\" class=\"data row10 col7\" >0.278815</td> \n",
       "        <td id=\"T_e3f77ba4_295e_11ea_a20e_681401028cf2row10_col8\" class=\"data row10 col8\" >0.113084</td> \n",
       "        <td id=\"T_e3f77ba4_295e_11ea_a20e_681401028cf2row10_col9\" class=\"data row10 col9\" >-0.132005</td> \n",
       "        <td id=\"T_e3f77ba4_295e_11ea_a20e_681401028cf2row10_col10\" class=\"data row10 col10\" >1</td> \n",
       "        <td id=\"T_e3f77ba4_295e_11ea_a20e_681401028cf2row10_col11\" class=\"data row10 col11\" >0.0397959</td> \n",
       "        <td id=\"T_e3f77ba4_295e_11ea_a20e_681401028cf2row10_col12\" class=\"data row10 col12\" >0.136705</td> \n",
       "    </tr>    <tr> \n",
       "        <th id=\"T_e3f77ba4_295e_11ea_a20e_681401028cf2level0_row11\" class=\"row_heading level0 row11\" >Geo_Code</th> \n",
       "        <td id=\"T_e3f77ba4_295e_11ea_a20e_681401028cf2row11_col0\" class=\"data row11 col0\" >-0.00347778</td> \n",
       "        <td id=\"T_e3f77ba4_295e_11ea_a20e_681401028cf2row11_col1\" class=\"data row11 col1\" >0.00302254</td> \n",
       "        <td id=\"T_e3f77ba4_295e_11ea_a20e_681401028cf2row11_col2\" class=\"data row11 col2\" >0.275445</td> \n",
       "        <td id=\"T_e3f77ba4_295e_11ea_a20e_681401028cf2row11_col3\" class=\"data row11 col3\" >-0.0257467</td> \n",
       "        <td id=\"T_e3f77ba4_295e_11ea_a20e_681401028cf2row11_col4\" class=\"data row11 col4\" >0.0287046</td> \n",
       "        <td id=\"T_e3f77ba4_295e_11ea_a20e_681401028cf2row11_col5\" class=\"data row11 col5\" >-0.0281758</td> \n",
       "        <td id=\"T_e3f77ba4_295e_11ea_a20e_681401028cf2row11_col6\" class=\"data row11 col6\" >-0.0290188</td> \n",
       "        <td id=\"T_e3f77ba4_295e_11ea_a20e_681401028cf2row11_col7\" class=\"data row11 col7\" >0.0105886</td> \n",
       "        <td id=\"T_e3f77ba4_295e_11ea_a20e_681401028cf2row11_col8\" class=\"data row11 col8\" >0.100736</td> \n",
       "        <td id=\"T_e3f77ba4_295e_11ea_a20e_681401028cf2row11_col9\" class=\"data row11 col9\" >0.00402513</td> \n",
       "        <td id=\"T_e3f77ba4_295e_11ea_a20e_681401028cf2row11_col10\" class=\"data row11 col10\" >0.0397959</td> \n",
       "        <td id=\"T_e3f77ba4_295e_11ea_a20e_681401028cf2row11_col11\" class=\"data row11 col11\" >1</td> \n",
       "        <td id=\"T_e3f77ba4_295e_11ea_a20e_681401028cf2row11_col12\" class=\"data row11 col12\" >0.0211798</td> \n",
       "    </tr>    <tr> \n",
       "        <th id=\"T_e3f77ba4_295e_11ea_a20e_681401028cf2level0_row12\" class=\"row_heading level0 row12\" >Claim</th> \n",
       "        <td id=\"T_e3f77ba4_295e_11ea_a20e_681401028cf2row12_col0\" class=\"data row12 col0\" >-0.0163667</td> \n",
       "        <td id=\"T_e3f77ba4_295e_11ea_a20e_681401028cf2row12_col1\" class=\"data row12 col1\" >0.0887145</td> \n",
       "        <td id=\"T_e3f77ba4_295e_11ea_a20e_681401028cf2row12_col2\" class=\"data row12 col2\" >0.063509</td> \n",
       "        <td id=\"T_e3f77ba4_295e_11ea_a20e_681401028cf2row12_col3\" class=\"data row12 col3\" >-0.0298568</td> \n",
       "        <td id=\"T_e3f77ba4_295e_11ea_a20e_681401028cf2row12_col4\" class=\"data row12 col4\" >0.0516571</td> \n",
       "        <td id=\"T_e3f77ba4_295e_11ea_a20e_681401028cf2row12_col5\" class=\"data row12 col5\" >-0.0526262</td> \n",
       "        <td id=\"T_e3f77ba4_295e_11ea_a20e_681401028cf2row12_col6\" class=\"data row12 col6\" >-0.0520191</td> \n",
       "        <td id=\"T_e3f77ba4_295e_11ea_a20e_681401028cf2row12_col7\" class=\"data row12 col7\" >0.294419</td> \n",
       "        <td id=\"T_e3f77ba4_295e_11ea_a20e_681401028cf2row12_col8\" class=\"data row12 col8\" >0.112168</td> \n",
       "        <td id=\"T_e3f77ba4_295e_11ea_a20e_681401028cf2row12_col9\" class=\"data row12 col9\" >0.0142233</td> \n",
       "        <td id=\"T_e3f77ba4_295e_11ea_a20e_681401028cf2row12_col10\" class=\"data row12 col10\" >0.136705</td> \n",
       "        <td id=\"T_e3f77ba4_295e_11ea_a20e_681401028cf2row12_col11\" class=\"data row12 col11\" >0.0211798</td> \n",
       "        <td id=\"T_e3f77ba4_295e_11ea_a20e_681401028cf2row12_col12\" class=\"data row12 col12\" >1</td> \n",
       "    </tr></tbody> \n",
       "</table> "
      ],
      "text/plain": [
       "<pandas.io.formats.style.Styler at 0x1ce19eb52b0>"
      ]
     },
     "execution_count": 62,
     "metadata": {},
     "output_type": "execute_result"
    }
   ],
   "source": [
    "corr.style.background_gradient()"
   ]
  },
  {
   "cell_type": "code",
   "execution_count": 63,
   "metadata": {},
   "outputs": [
    {
     "data": {
      "text/html": [
       "<style  type=\"text/css\" >\n",
       "    #T_e479ece6_295e_11ea_9999_681401028cf2row0_col0 {\n",
       "            background-color:  #5e4fa2;\n",
       "        }    #T_e479ece6_295e_11ea_9999_681401028cf2row0_col1 {\n",
       "            background-color:  #c32a4b;\n",
       "        }    #T_e479ece6_295e_11ea_9999_681401028cf2row0_col2 {\n",
       "            background-color:  #b41947;\n",
       "        }    #T_e479ece6_295e_11ea_9999_681401028cf2row0_col3 {\n",
       "            background-color:  #fdbd6d;\n",
       "        }    #T_e479ece6_295e_11ea_9999_681401028cf2row0_col4 {\n",
       "            background-color:  #f0f9a7;\n",
       "        }    #T_e479ece6_295e_11ea_9999_681401028cf2row0_col5 {\n",
       "            background-color:  #feec9f;\n",
       "        }    #T_e479ece6_295e_11ea_9999_681401028cf2row0_col6 {\n",
       "            background-color:  #feec9f;\n",
       "        }    #T_e479ece6_295e_11ea_9999_681401028cf2row0_col7 {\n",
       "            background-color:  #da464d;\n",
       "        }    #T_e479ece6_295e_11ea_9999_681401028cf2row0_col8 {\n",
       "            background-color:  #e2514a;\n",
       "        }    #T_e479ece6_295e_11ea_9999_681401028cf2row0_col9 {\n",
       "            background-color:  #d9444d;\n",
       "        }    #T_e479ece6_295e_11ea_9999_681401028cf2row0_col10 {\n",
       "            background-color:  #fbfdb8;\n",
       "        }    #T_e479ece6_295e_11ea_9999_681401028cf2row0_col11 {\n",
       "            background-color:  #ab0f45;\n",
       "        }    #T_e479ece6_295e_11ea_9999_681401028cf2row0_col12 {\n",
       "            background-color:  #af1446;\n",
       "        }    #T_e479ece6_295e_11ea_9999_681401028cf2row1_col0 {\n",
       "            background-color:  #de4c4b;\n",
       "        }    #T_e479ece6_295e_11ea_9999_681401028cf2row1_col1 {\n",
       "            background-color:  #5e4fa2;\n",
       "        }    #T_e479ece6_295e_11ea_9999_681401028cf2row1_col2 {\n",
       "            background-color:  #b41947;\n",
       "        }    #T_e479ece6_295e_11ea_9999_681401028cf2row1_col3 {\n",
       "            background-color:  #feda86;\n",
       "        }    #T_e479ece6_295e_11ea_9999_681401028cf2row1_col4 {\n",
       "            background-color:  #fafdb7;\n",
       "        }    #T_e479ece6_295e_11ea_9999_681401028cf2row1_col5 {\n",
       "            background-color:  #fff7b2;\n",
       "        }    #T_e479ece6_295e_11ea_9999_681401028cf2row1_col6 {\n",
       "            background-color:  #fff8b4;\n",
       "        }    #T_e479ece6_295e_11ea_9999_681401028cf2row1_col7 {\n",
       "            background-color:  #da464d;\n",
       "        }    #T_e479ece6_295e_11ea_9999_681401028cf2row1_col8 {\n",
       "            background-color:  #dc484c;\n",
       "        }    #T_e479ece6_295e_11ea_9999_681401028cf2row1_col9 {\n",
       "            background-color:  #e1504b;\n",
       "        }    #T_e479ece6_295e_11ea_9999_681401028cf2row1_col10 {\n",
       "            background-color:  #fffbb8;\n",
       "        }    #T_e479ece6_295e_11ea_9999_681401028cf2row1_col11 {\n",
       "            background-color:  #ad1246;\n",
       "        }    #T_e479ece6_295e_11ea_9999_681401028cf2row1_col12 {\n",
       "            background-color:  #df4e4b;\n",
       "        }    #T_e479ece6_295e_11ea_9999_681401028cf2row2_col0 {\n",
       "            background-color:  #c52c4b;\n",
       "        }    #T_e479ece6_295e_11ea_9999_681401028cf2row2_col1 {\n",
       "            background-color:  #a20643;\n",
       "        }    #T_e479ece6_295e_11ea_9999_681401028cf2row2_col2 {\n",
       "            background-color:  #5e4fa2;\n",
       "        }    #T_e479ece6_295e_11ea_9999_681401028cf2row2_col3 {\n",
       "            background-color:  #fed884;\n",
       "        }    #T_e479ece6_295e_11ea_9999_681401028cf2row2_col4 {\n",
       "            background-color:  #f5fbaf;\n",
       "        }    #T_e479ece6_295e_11ea_9999_681401028cf2row2_col5 {\n",
       "            background-color:  #fff2aa;\n",
       "        }    #T_e479ece6_295e_11ea_9999_681401028cf2row2_col6 {\n",
       "            background-color:  #fff2aa;\n",
       "        }    #T_e479ece6_295e_11ea_9999_681401028cf2row2_col7 {\n",
       "            background-color:  #e85b48;\n",
       "        }    #T_e479ece6_295e_11ea_9999_681401028cf2row2_col8 {\n",
       "            background-color:  #fee999;\n",
       "        }    #T_e479ece6_295e_11ea_9999_681401028cf2row2_col9 {\n",
       "            background-color:  #cb334d;\n",
       "        }    #T_e479ece6_295e_11ea_9999_681401028cf2row2_col10 {\n",
       "            background-color:  #f7fcb2;\n",
       "        }    #T_e479ece6_295e_11ea_9999_681401028cf2row2_col11 {\n",
       "            background-color:  #fcaa5f;\n",
       "        }    #T_e479ece6_295e_11ea_9999_681401028cf2row2_col12 {\n",
       "            background-color:  #d8434e;\n",
       "        }    #T_e479ece6_295e_11ea_9999_681401028cf2row3_col0 {\n",
       "            background-color:  #bc2249;\n",
       "        }    #T_e479ece6_295e_11ea_9999_681401028cf2row3_col1 {\n",
       "            background-color:  #c9314c;\n",
       "        }    #T_e479ece6_295e_11ea_9999_681401028cf2row3_col2 {\n",
       "            background-color:  #d7414e;\n",
       "        }    #T_e479ece6_295e_11ea_9999_681401028cf2row3_col3 {\n",
       "            background-color:  #5e4fa2;\n",
       "        }    #T_e479ece6_295e_11ea_9999_681401028cf2row3_col4 {\n",
       "            background-color:  #f57547;\n",
       "        }    #T_e479ece6_295e_11ea_9999_681401028cf2row3_col5 {\n",
       "            background-color:  #6ec5a5;\n",
       "        }    #T_e479ece6_295e_11ea_9999_681401028cf2row3_col6 {\n",
       "            background-color:  #6ec5a5;\n",
       "        }    #T_e479ece6_295e_11ea_9999_681401028cf2row3_col7 {\n",
       "            background-color:  #ab0f45;\n",
       "        }    #T_e479ece6_295e_11ea_9999_681401028cf2row3_col8 {\n",
       "            background-color:  #ee6445;\n",
       "        }    #T_e479ece6_295e_11ea_9999_681401028cf2row3_col9 {\n",
       "            background-color:  #f57245;\n",
       "        }    #T_e479ece6_295e_11ea_9999_681401028cf2row3_col10 {\n",
       "            background-color:  #f36b43;\n",
       "        }    #T_e479ece6_295e_11ea_9999_681401028cf2row3_col11 {\n",
       "            background-color:  #9e0142;\n",
       "        }    #T_e479ece6_295e_11ea_9999_681401028cf2row3_col12 {\n",
       "            background-color:  #a90d45;\n",
       "        }    #T_e479ece6_295e_11ea_9999_681401028cf2row4_col0 {\n",
       "            background-color:  #f57748;\n",
       "        }    #T_e479ece6_295e_11ea_9999_681401028cf2row4_col1 {\n",
       "            background-color:  #cd364d;\n",
       "        }    #T_e479ece6_295e_11ea_9999_681401028cf2row4_col2 {\n",
       "            background-color:  #e55749;\n",
       "        }    #T_e479ece6_295e_11ea_9999_681401028cf2row4_col3 {\n",
       "            background-color:  #9e0142;\n",
       "        }    #T_e479ece6_295e_11ea_9999_681401028cf2row4_col4 {\n",
       "            background-color:  #5e4fa2;\n",
       "        }    #T_e479ece6_295e_11ea_9999_681401028cf2row4_col5 {\n",
       "            background-color:  #9e0142;\n",
       "        }    #T_e479ece6_295e_11ea_9999_681401028cf2row4_col6 {\n",
       "            background-color:  #9e0142;\n",
       "        }    #T_e479ece6_295e_11ea_9999_681401028cf2row4_col7 {\n",
       "            background-color:  #f67c4a;\n",
       "        }    #T_e479ece6_295e_11ea_9999_681401028cf2row4_col8 {\n",
       "            background-color:  #e75948;\n",
       "        }    #T_e479ece6_295e_11ea_9999_681401028cf2row4_col9 {\n",
       "            background-color:  #a40844;\n",
       "        }    #T_e479ece6_295e_11ea_9999_681401028cf2row4_col10 {\n",
       "            background-color:  #3d79b6;\n",
       "        }    #T_e479ece6_295e_11ea_9999_681401028cf2row4_col11 {\n",
       "            background-color:  #bc2249;\n",
       "        }    #T_e479ece6_295e_11ea_9999_681401028cf2row4_col12 {\n",
       "            background-color:  #d43d4f;\n",
       "        }    #T_e479ece6_295e_11ea_9999_681401028cf2row5_col0 {\n",
       "            background-color:  #9e0142;\n",
       "        }    #T_e479ece6_295e_11ea_9999_681401028cf2row5_col1 {\n",
       "            background-color:  #9e0142;\n",
       "        }    #T_e479ece6_295e_11ea_9999_681401028cf2row5_col2 {\n",
       "            background-color:  #9e0142;\n",
       "        }    #T_e479ece6_295e_11ea_9999_681401028cf2row5_col3 {\n",
       "            background-color:  #97d5a4;\n",
       "        }    #T_e479ece6_295e_11ea_9999_681401028cf2row5_col4 {\n",
       "            background-color:  #9e0142;\n",
       "        }    #T_e479ece6_295e_11ea_9999_681401028cf2row5_col5 {\n",
       "            background-color:  #5e4fa2;\n",
       "        }    #T_e479ece6_295e_11ea_9999_681401028cf2row5_col6 {\n",
       "            background-color:  #5e4fa2;\n",
       "        }    #T_e479ece6_295e_11ea_9999_681401028cf2row5_col7 {\n",
       "            background-color:  #9e0142;\n",
       "        }    #T_e479ece6_295e_11ea_9999_681401028cf2row5_col8 {\n",
       "            background-color:  #da464d;\n",
       "        }    #T_e479ece6_295e_11ea_9999_681401028cf2row5_col9 {\n",
       "            background-color:  #fa9656;\n",
       "        }    #T_e479ece6_295e_11ea_9999_681401028cf2row5_col10 {\n",
       "            background-color:  #9e0142;\n",
       "        }    #T_e479ece6_295e_11ea_9999_681401028cf2row5_col11 {\n",
       "            background-color:  #9e0142;\n",
       "        }    #T_e479ece6_295e_11ea_9999_681401028cf2row5_col12 {\n",
       "            background-color:  #9e0142;\n",
       "        }    #T_e479ece6_295e_11ea_9999_681401028cf2row6_col0 {\n",
       "            background-color:  #9e0142;\n",
       "        }    #T_e479ece6_295e_11ea_9999_681401028cf2row6_col1 {\n",
       "            background-color:  #9e0142;\n",
       "        }    #T_e479ece6_295e_11ea_9999_681401028cf2row6_col2 {\n",
       "            background-color:  #9e0142;\n",
       "        }    #T_e479ece6_295e_11ea_9999_681401028cf2row6_col3 {\n",
       "            background-color:  #97d5a4;\n",
       "        }    #T_e479ece6_295e_11ea_9999_681401028cf2row6_col4 {\n",
       "            background-color:  #9e0142;\n",
       "        }    #T_e479ece6_295e_11ea_9999_681401028cf2row6_col5 {\n",
       "            background-color:  #5e4fa2;\n",
       "        }    #T_e479ece6_295e_11ea_9999_681401028cf2row6_col6 {\n",
       "            background-color:  #5e4fa2;\n",
       "        }    #T_e479ece6_295e_11ea_9999_681401028cf2row6_col7 {\n",
       "            background-color:  #9e0142;\n",
       "        }    #T_e479ece6_295e_11ea_9999_681401028cf2row6_col8 {\n",
       "            background-color:  #dc484c;\n",
       "        }    #T_e479ece6_295e_11ea_9999_681401028cf2row6_col9 {\n",
       "            background-color:  #fa9656;\n",
       "        }    #T_e479ece6_295e_11ea_9999_681401028cf2row6_col10 {\n",
       "            background-color:  #9e0142;\n",
       "        }    #T_e479ece6_295e_11ea_9999_681401028cf2row6_col11 {\n",
       "            background-color:  #9e0142;\n",
       "        }    #T_e479ece6_295e_11ea_9999_681401028cf2row6_col12 {\n",
       "            background-color:  #9e0142;\n",
       "        }    #T_e479ece6_295e_11ea_9999_681401028cf2row7_col0 {\n",
       "            background-color:  #d9444d;\n",
       "        }    #T_e479ece6_295e_11ea_9999_681401028cf2row7_col1 {\n",
       "            background-color:  #ba2049;\n",
       "        }    #T_e479ece6_295e_11ea_9999_681401028cf2row7_col2 {\n",
       "            background-color:  #de4c4b;\n",
       "        }    #T_e479ece6_295e_11ea_9999_681401028cf2row7_col3 {\n",
       "            background-color:  #fdaf62;\n",
       "        }    #T_e479ece6_295e_11ea_9999_681401028cf2row7_col4 {\n",
       "            background-color:  #eff9a6;\n",
       "        }    #T_e479ece6_295e_11ea_9999_681401028cf2row7_col5 {\n",
       "            background-color:  #feeb9d;\n",
       "        }    #T_e479ece6_295e_11ea_9999_681401028cf2row7_col6 {\n",
       "            background-color:  #feeb9d;\n",
       "        }    #T_e479ece6_295e_11ea_9999_681401028cf2row7_col7 {\n",
       "            background-color:  #5e4fa2;\n",
       "        }    #T_e479ece6_295e_11ea_9999_681401028cf2row7_col8 {\n",
       "            background-color:  #e2514a;\n",
       "        }    #T_e479ece6_295e_11ea_9999_681401028cf2row7_col9 {\n",
       "            background-color:  #fdb365;\n",
       "        }    #T_e479ece6_295e_11ea_9999_681401028cf2row7_col10 {\n",
       "            background-color:  #dff299;\n",
       "        }    #T_e479ece6_295e_11ea_9999_681401028cf2row7_col11 {\n",
       "            background-color:  #b11747;\n",
       "        }    #T_e479ece6_295e_11ea_9999_681401028cf2row7_col12 {\n",
       "            background-color:  #fdbd6d;\n",
       "        }    #T_e479ece6_295e_11ea_9999_681401028cf2row8_col0 {\n",
       "            background-color:  #d8434e;\n",
       "        }    #T_e479ece6_295e_11ea_9999_681401028cf2row8_col1 {\n",
       "            background-color:  #ad1246;\n",
       "        }    #T_e479ece6_295e_11ea_9999_681401028cf2row8_col2 {\n",
       "            background-color:  #fed884;\n",
       "        }    #T_e479ece6_295e_11ea_9999_681401028cf2row8_col3 {\n",
       "            background-color:  #fede89;\n",
       "        }    #T_e479ece6_295e_11ea_9999_681401028cf2row8_col4 {\n",
       "            background-color:  #fdfebb;\n",
       "        }    #T_e479ece6_295e_11ea_9999_681401028cf2row8_col5 {\n",
       "            background-color:  #fffcba;\n",
       "        }    #T_e479ece6_295e_11ea_9999_681401028cf2row8_col6 {\n",
       "            background-color:  #fffcba;\n",
       "        }    #T_e479ece6_295e_11ea_9999_681401028cf2row8_col7 {\n",
       "            background-color:  #da464d;\n",
       "        }    #T_e479ece6_295e_11ea_9999_681401028cf2row8_col8 {\n",
       "            background-color:  #5e4fa2;\n",
       "        }    #T_e479ece6_295e_11ea_9999_681401028cf2row8_col9 {\n",
       "            background-color:  #9e0142;\n",
       "        }    #T_e479ece6_295e_11ea_9999_681401028cf2row8_col10 {\n",
       "            background-color:  #fafdb7;\n",
       "        }    #T_e479ece6_295e_11ea_9999_681401028cf2row8_col11 {\n",
       "            background-color:  #dd4a4c;\n",
       "        }    #T_e479ece6_295e_11ea_9999_681401028cf2row8_col12 {\n",
       "            background-color:  #e75948;\n",
       "        }    #T_e479ece6_295e_11ea_9999_681401028cf2row9_col0 {\n",
       "            background-color:  #cb334d;\n",
       "        }    #T_e479ece6_295e_11ea_9999_681401028cf2row9_col1 {\n",
       "            background-color:  #b61b48;\n",
       "        }    #T_e479ece6_295e_11ea_9999_681401028cf2row9_col2 {\n",
       "            background-color:  #a70b44;\n",
       "        }    #T_e479ece6_295e_11ea_9999_681401028cf2row9_col3 {\n",
       "            background-color:  #fee593;\n",
       "        }    #T_e479ece6_295e_11ea_9999_681401028cf2row9_col4 {\n",
       "            background-color:  #fee999;\n",
       "        }    #T_e479ece6_295e_11ea_9999_681401028cf2row9_col5 {\n",
       "            background-color:  #edf8a3;\n",
       "        }    #T_e479ece6_295e_11ea_9999_681401028cf2row9_col6 {\n",
       "            background-color:  #edf8a3;\n",
       "        }    #T_e479ece6_295e_11ea_9999_681401028cf2row9_col7 {\n",
       "            background-color:  #fca85e;\n",
       "        }    #T_e479ece6_295e_11ea_9999_681401028cf2row9_col8 {\n",
       "            background-color:  #9e0142;\n",
       "        }    #T_e479ece6_295e_11ea_9999_681401028cf2row9_col9 {\n",
       "            background-color:  #5e4fa2;\n",
       "        }    #T_e479ece6_295e_11ea_9999_681401028cf2row9_col10 {\n",
       "            background-color:  #fedc88;\n",
       "        }    #T_e479ece6_295e_11ea_9999_681401028cf2row9_col11 {\n",
       "            background-color:  #af1446;\n",
       "        }    #T_e479ece6_295e_11ea_9999_681401028cf2row9_col12 {\n",
       "            background-color:  #c1274a;\n",
       "        }    #T_e479ece6_295e_11ea_9999_681401028cf2row10_col0 {\n",
       "            background-color:  #f36b43;\n",
       "        }    #T_e479ece6_295e_11ea_9999_681401028cf2row10_col1 {\n",
       "            background-color:  #cb334d;\n",
       "        }    #T_e479ece6_295e_11ea_9999_681401028cf2row10_col2 {\n",
       "            background-color:  #f36b43;\n",
       "        }    #T_e479ece6_295e_11ea_9999_681401028cf2row10_col3 {\n",
       "            background-color:  #ba2049;\n",
       "        }    #T_e479ece6_295e_11ea_9999_681401028cf2row10_col4 {\n",
       "            background-color:  #3f77b5;\n",
       "        }    #T_e479ece6_295e_11ea_9999_681401028cf2row10_col5 {\n",
       "            background-color:  #c32a4b;\n",
       "        }    #T_e479ece6_295e_11ea_9999_681401028cf2row10_col6 {\n",
       "            background-color:  #c32a4b;\n",
       "        }    #T_e479ece6_295e_11ea_9999_681401028cf2row10_col7 {\n",
       "            background-color:  #fecc7b;\n",
       "        }    #T_e479ece6_295e_11ea_9999_681401028cf2row10_col8 {\n",
       "            background-color:  #f7844e;\n",
       "        }    #T_e479ece6_295e_11ea_9999_681401028cf2row10_col9 {\n",
       "            background-color:  #ab0f45;\n",
       "        }    #T_e479ece6_295e_11ea_9999_681401028cf2row10_col10 {\n",
       "            background-color:  #5e4fa2;\n",
       "        }    #T_e479ece6_295e_11ea_9999_681401028cf2row10_col11 {\n",
       "            background-color:  #c32a4b;\n",
       "        }    #T_e479ece6_295e_11ea_9999_681401028cf2row10_col12 {\n",
       "            background-color:  #ee6445;\n",
       "        }    #T_e479ece6_295e_11ea_9999_681401028cf2row11_col0 {\n",
       "            background-color:  #d63f4f;\n",
       "        }    #T_e479ece6_295e_11ea_9999_681401028cf2row11_col1 {\n",
       "            background-color:  #b81e48;\n",
       "        }    #T_e479ece6_295e_11ea_9999_681401028cf2row11_col2 {\n",
       "            background-color:  #fdbd6d;\n",
       "        }    #T_e479ece6_295e_11ea_9999_681401028cf2row11_col3 {\n",
       "            background-color:  #fdc776;\n",
       "        }    #T_e479ece6_295e_11ea_9999_681401028cf2row11_col4 {\n",
       "            background-color:  #fcfeba;\n",
       "        }    #T_e479ece6_295e_11ea_9999_681401028cf2row11_col5 {\n",
       "            background-color:  #fffbb8;\n",
       "        }    #T_e479ece6_295e_11ea_9999_681401028cf2row11_col6 {\n",
       "            background-color:  #fffbb8;\n",
       "        }    #T_e479ece6_295e_11ea_9999_681401028cf2row11_col7 {\n",
       "            background-color:  #dc484c;\n",
       "        }    #T_e479ece6_295e_11ea_9999_681401028cf2row11_col8 {\n",
       "            background-color:  #f67c4a;\n",
       "        }    #T_e479ece6_295e_11ea_9999_681401028cf2row11_col9 {\n",
       "            background-color:  #e2514a;\n",
       "        }    #T_e479ece6_295e_11ea_9999_681401028cf2row11_col10 {\n",
       "            background-color:  #fffab6;\n",
       "        }    #T_e479ece6_295e_11ea_9999_681401028cf2row11_col11 {\n",
       "            background-color:  #5e4fa2;\n",
       "        }    #T_e479ece6_295e_11ea_9999_681401028cf2row11_col12 {\n",
       "            background-color:  #c32a4b;\n",
       "        }    #T_e479ece6_295e_11ea_9999_681401028cf2row12_col0 {\n",
       "            background-color:  #d0384e;\n",
       "        }    #T_e479ece6_295e_11ea_9999_681401028cf2row12_col1 {\n",
       "            background-color:  #de4c4b;\n",
       "        }    #T_e479ece6_295e_11ea_9999_681401028cf2row12_col2 {\n",
       "            background-color:  #df4e4b;\n",
       "        }    #T_e479ece6_295e_11ea_9999_681401028cf2row12_col3 {\n",
       "            background-color:  #fdc574;\n",
       "        }    #T_e479ece6_295e_11ea_9999_681401028cf2row12_col4 {\n",
       "            background-color:  #f9fcb5;\n",
       "        }    #T_e479ece6_295e_11ea_9999_681401028cf2row12_col5 {\n",
       "            background-color:  #fff7b2;\n",
       "        }    #T_e479ece6_295e_11ea_9999_681401028cf2row12_col6 {\n",
       "            background-color:  #fff7b2;\n",
       "        }    #T_e479ece6_295e_11ea_9999_681401028cf2row12_col7 {\n",
       "            background-color:  #fed27f;\n",
       "        }    #T_e479ece6_295e_11ea_9999_681401028cf2row12_col8 {\n",
       "            background-color:  #f7844e;\n",
       "        }    #T_e479ece6_295e_11ea_9999_681401028cf2row12_col9 {\n",
       "            background-color:  #e45549;\n",
       "        }    #T_e479ece6_295e_11ea_9999_681401028cf2row12_col10 {\n",
       "            background-color:  #f6fbb0;\n",
       "        }    #T_e479ece6_295e_11ea_9999_681401028cf2row12_col11 {\n",
       "            background-color:  #b81e48;\n",
       "        }    #T_e479ece6_295e_11ea_9999_681401028cf2row12_col12 {\n",
       "            background-color:  #5e4fa2;\n",
       "        }</style>  \n",
       "<table id=\"T_e479ece6_295e_11ea_9999_681401028cf2\" > \n",
       "<thead>    <tr> \n",
       "        <th class=\"blank level0\" ></th> \n",
       "        <th class=\"col_heading level0 col0\" >YearOfObservation</th> \n",
       "        <th class=\"col_heading level0 col1\" >Insured_Period</th> \n",
       "        <th class=\"col_heading level0 col2\" >Residential</th> \n",
       "        <th class=\"col_heading level0 col3\" >Building_Painted</th> \n",
       "        <th class=\"col_heading level0 col4\" >Building_Fenced</th> \n",
       "        <th class=\"col_heading level0 col5\" >Garden</th> \n",
       "        <th class=\"col_heading level0 col6\" >Settlement</th> \n",
       "        <th class=\"col_heading level0 col7\" >Building Dimension</th> \n",
       "        <th class=\"col_heading level0 col8\" >Building_Type</th> \n",
       "        <th class=\"col_heading level0 col9\" >Date_of_Occupancy</th> \n",
       "        <th class=\"col_heading level0 col10\" >NumberOfWindows</th> \n",
       "        <th class=\"col_heading level0 col11\" >Geo_Code</th> \n",
       "        <th class=\"col_heading level0 col12\" >Claim</th> \n",
       "    </tr></thead> \n",
       "<tbody>    <tr> \n",
       "        <th id=\"T_e479ece6_295e_11ea_9999_681401028cf2level0_row0\" class=\"row_heading level0 row0\" >YearOfObservation</th> \n",
       "        <td id=\"T_e479ece6_295e_11ea_9999_681401028cf2row0_col0\" class=\"data row0 col0\" >1</td> \n",
       "        <td id=\"T_e479ece6_295e_11ea_9999_681401028cf2row0_col1\" class=\"data row0 col1\" >0.0254341</td> \n",
       "        <td id=\"T_e479ece6_295e_11ea_9999_681401028cf2row0_col2\" class=\"data row0 col2\" >-0.0403913</td> \n",
       "        <td id=\"T_e479ece6_295e_11ea_9999_681401028cf2row0_col3\" class=\"data row0 col3\" >-0.0568809</td> \n",
       "        <td id=\"T_e479ece6_295e_11ea_9999_681401028cf2row0_col4\" class=\"data row0 col4\" >0.120373</td> \n",
       "        <td id=\"T_e479ece6_295e_11ea_9999_681401028cf2row0_col5\" class=\"data row0 col5\" >-0.120642</td> \n",
       "        <td id=\"T_e479ece6_295e_11ea_9999_681401028cf2row0_col6\" class=\"data row0 col6\" >-0.120103</td> \n",
       "        <td id=\"T_e479ece6_295e_11ea_9999_681401028cf2row0_col7\" class=\"data row0 col7\" >0.0072887</td> \n",
       "        <td id=\"T_e479ece6_295e_11ea_9999_681401028cf2row0_col8\" class=\"data row0 col8\" >0.00548978</td> \n",
       "        <td id=\"T_e479ece6_295e_11ea_9999_681401028cf2row0_col9\" class=\"data row0 col9\" >-0.0267363</td> \n",
       "        <td id=\"T_e479ece6_295e_11ea_9999_681401028cf2row0_col10\" class=\"data row0 col10\" >0.102345</td> \n",
       "        <td id=\"T_e479ece6_295e_11ea_9999_681401028cf2row0_col11\" class=\"data row0 col11\" >-0.00347778</td> \n",
       "        <td id=\"T_e479ece6_295e_11ea_9999_681401028cf2row0_col12\" class=\"data row0 col12\" >-0.0163667</td> \n",
       "    </tr>    <tr> \n",
       "        <th id=\"T_e479ece6_295e_11ea_9999_681401028cf2level0_row1\" class=\"row_heading level0 row1\" >Insured_Period</th> \n",
       "        <td id=\"T_e479ece6_295e_11ea_9999_681401028cf2row1_col0\" class=\"data row1 col0\" >0.0254341</td> \n",
       "        <td id=\"T_e479ece6_295e_11ea_9999_681401028cf2row1_col1\" class=\"data row1 col1\" >1</td> \n",
       "        <td id=\"T_e479ece6_295e_11ea_9999_681401028cf2row1_col2\" class=\"data row1 col2\" >-0.0376201</td> \n",
       "        <td id=\"T_e479ece6_295e_11ea_9999_681401028cf2row1_col3\" class=\"data row1 col3\" >0.037077</td> \n",
       "        <td id=\"T_e479ece6_295e_11ea_9999_681401028cf2row1_col4\" class=\"data row1 col4\" >0.0470912</td> \n",
       "        <td id=\"T_e479ece6_295e_11ea_9999_681401028cf2row1_col5\" class=\"data row1 col5\" >-0.0468807</td> \n",
       "        <td id=\"T_e479ece6_295e_11ea_9999_681401028cf2row1_col6\" class=\"data row1 col6\" >-0.0465037</td> \n",
       "        <td id=\"T_e479ece6_295e_11ea_9999_681401028cf2row1_col7\" class=\"data row1 col7\" >0.00690222</td> \n",
       "        <td id=\"T_e479ece6_295e_11ea_9999_681401028cf2row1_col8\" class=\"data row1 col8\" >-0.0178105</td> \n",
       "        <td id=\"T_e479ece6_295e_11ea_9999_681401028cf2row1_col9\" class=\"data row1 col9\" >-0.000149071</td> \n",
       "        <td id=\"T_e479ece6_295e_11ea_9999_681401028cf2row1_col10\" class=\"data row1 col10\" >0.0425851</td> \n",
       "        <td id=\"T_e479ece6_295e_11ea_9999_681401028cf2row1_col11\" class=\"data row1 col11\" >0.00302254</td> \n",
       "        <td id=\"T_e479ece6_295e_11ea_9999_681401028cf2row1_col12\" class=\"data row1 col12\" >0.0887145</td> \n",
       "    </tr>    <tr> \n",
       "        <th id=\"T_e479ece6_295e_11ea_9999_681401028cf2level0_row2\" class=\"row_heading level0 row2\" >Residential</th> \n",
       "        <td id=\"T_e479ece6_295e_11ea_9999_681401028cf2row2_col0\" class=\"data row2 col0\" >-0.0403913</td> \n",
       "        <td id=\"T_e479ece6_295e_11ea_9999_681401028cf2row2_col1\" class=\"data row2 col1\" >-0.0376201</td> \n",
       "        <td id=\"T_e479ece6_295e_11ea_9999_681401028cf2row2_col2\" class=\"data row2 col2\" >1</td> \n",
       "        <td id=\"T_e479ece6_295e_11ea_9999_681401028cf2row2_col3\" class=\"data row2 col3\" >0.0329273</td> \n",
       "        <td id=\"T_e479ece6_295e_11ea_9999_681401028cf2row2_col4\" class=\"data row2 col4\" >0.0824481</td> \n",
       "        <td id=\"T_e479ece6_295e_11ea_9999_681401028cf2row2_col5\" class=\"data row2 col5\" >-0.0828183</td> \n",
       "        <td id=\"T_e479ece6_295e_11ea_9999_681401028cf2row2_col6\" class=\"data row2 col6\" >-0.0826845</td> \n",
       "        <td id=\"T_e479ece6_295e_11ea_9999_681401028cf2row2_col7\" class=\"data row2 col7\" >0.0577269</td> \n",
       "        <td id=\"T_e479ece6_295e_11ea_9999_681401028cf2row2_col8\" class=\"data row2 col8\" >0.334039</td> \n",
       "        <td id=\"T_e479ece6_295e_11ea_9999_681401028cf2row2_col9\" class=\"data row2 col9\" >-0.0652933</td> \n",
       "        <td id=\"T_e479ece6_295e_11ea_9999_681401028cf2row2_col10\" class=\"data row2 col10\" >0.128818</td> \n",
       "        <td id=\"T_e479ece6_295e_11ea_9999_681401028cf2row2_col11\" class=\"data row2 col11\" >0.275445</td> \n",
       "        <td id=\"T_e479ece6_295e_11ea_9999_681401028cf2row2_col12\" class=\"data row2 col12\" >0.063509</td> \n",
       "    </tr>    <tr> \n",
       "        <th id=\"T_e479ece6_295e_11ea_9999_681401028cf2level0_row3\" class=\"row_heading level0 row3\" >Building_Painted</th> \n",
       "        <td id=\"T_e479ece6_295e_11ea_9999_681401028cf2row3_col0\" class=\"data row3 col0\" >-0.0568809</td> \n",
       "        <td id=\"T_e479ece6_295e_11ea_9999_681401028cf2row3_col1\" class=\"data row3 col1\" >0.037077</td> \n",
       "        <td id=\"T_e479ece6_295e_11ea_9999_681401028cf2row3_col2\" class=\"data row3 col2\" >0.0329273</td> \n",
       "        <td id=\"T_e479ece6_295e_11ea_9999_681401028cf2row3_col3\" class=\"data row3 col3\" >1</td> \n",
       "        <td id=\"T_e479ece6_295e_11ea_9999_681401028cf2row3_col4\" class=\"data row3 col4\" >-0.574757</td> \n",
       "        <td id=\"T_e479ece6_295e_11ea_9999_681401028cf2row3_col5\" class=\"data row3 col5\" >0.574434</td> \n",
       "        <td id=\"T_e479ece6_295e_11ea_9999_681401028cf2row3_col6\" class=\"data row3 col6\" >0.575081</td> \n",
       "        <td id=\"T_e479ece6_295e_11ea_9999_681401028cf2row3_col7\" class=\"data row3 col7\" >-0.0951869</td> \n",
       "        <td id=\"T_e479ece6_295e_11ea_9999_681401028cf2row3_col8\" class=\"data row3 col8\" >0.0485408</td> \n",
       "        <td id=\"T_e479ece6_295e_11ea_9999_681401028cf2row3_col9\" class=\"data row3 col9\" >0.0800866</td> \n",
       "        <td id=\"T_e479ece6_295e_11ea_9999_681401028cf2row3_col10\" class=\"data row3 col10\" >-0.492943</td> \n",
       "        <td id=\"T_e479ece6_295e_11ea_9999_681401028cf2row3_col11\" class=\"data row3 col11\" >-0.0257467</td> \n",
       "        <td id=\"T_e479ece6_295e_11ea_9999_681401028cf2row3_col12\" class=\"data row3 col12\" >-0.0298568</td> \n",
       "    </tr>    <tr> \n",
       "        <th id=\"T_e479ece6_295e_11ea_9999_681401028cf2level0_row4\" class=\"row_heading level0 row4\" >Building_Fenced</th> \n",
       "        <td id=\"T_e479ece6_295e_11ea_9999_681401028cf2row4_col0\" class=\"data row4 col0\" >0.120373</td> \n",
       "        <td id=\"T_e479ece6_295e_11ea_9999_681401028cf2row4_col1\" class=\"data row4 col1\" >0.0470912</td> \n",
       "        <td id=\"T_e479ece6_295e_11ea_9999_681401028cf2row4_col2\" class=\"data row4 col2\" >0.0824481</td> \n",
       "        <td id=\"T_e479ece6_295e_11ea_9999_681401028cf2row4_col3\" class=\"data row4 col3\" >-0.574757</td> \n",
       "        <td id=\"T_e479ece6_295e_11ea_9999_681401028cf2row4_col4\" class=\"data row4 col4\" >1</td> \n",
       "        <td id=\"T_e479ece6_295e_11ea_9999_681401028cf2row4_col5\" class=\"data row4 col5\" >-0.998883</td> \n",
       "        <td id=\"T_e479ece6_295e_11ea_9999_681401028cf2row4_col6\" class=\"data row4 col6\" >-0.999441</td> \n",
       "        <td id=\"T_e479ece6_295e_11ea_9999_681401028cf2row4_col7\" class=\"data row4 col7\" >0.125927</td> \n",
       "        <td id=\"T_e479ece6_295e_11ea_9999_681401028cf2row4_col8\" class=\"data row4 col8\" >0.0204302</td> \n",
       "        <td id=\"T_e479ece6_295e_11ea_9999_681401028cf2row4_col9\" class=\"data row4 col9\" >-0.143574</td> \n",
       "        <td id=\"T_e479ece6_295e_11ea_9999_681401028cf2row4_col10\" class=\"data row4 col10\" >0.85915</td> \n",
       "        <td id=\"T_e479ece6_295e_11ea_9999_681401028cf2row4_col11\" class=\"data row4 col11\" >0.0287046</td> \n",
       "        <td id=\"T_e479ece6_295e_11ea_9999_681401028cf2row4_col12\" class=\"data row4 col12\" >0.0516571</td> \n",
       "    </tr>    <tr> \n",
       "        <th id=\"T_e479ece6_295e_11ea_9999_681401028cf2level0_row5\" class=\"row_heading level0 row5\" >Garden</th> \n",
       "        <td id=\"T_e479ece6_295e_11ea_9999_681401028cf2row5_col0\" class=\"data row5 col0\" >-0.120642</td> \n",
       "        <td id=\"T_e479ece6_295e_11ea_9999_681401028cf2row5_col1\" class=\"data row5 col1\" >-0.0468807</td> \n",
       "        <td id=\"T_e479ece6_295e_11ea_9999_681401028cf2row5_col2\" class=\"data row5 col2\" >-0.0828183</td> \n",
       "        <td id=\"T_e479ece6_295e_11ea_9999_681401028cf2row5_col3\" class=\"data row5 col3\" >0.574434</td> \n",
       "        <td id=\"T_e479ece6_295e_11ea_9999_681401028cf2row5_col4\" class=\"data row5 col4\" >-0.998883</td> \n",
       "        <td id=\"T_e479ece6_295e_11ea_9999_681401028cf2row5_col5\" class=\"data row5 col5\" >1</td> \n",
       "        <td id=\"T_e479ece6_295e_11ea_9999_681401028cf2row5_col6\" class=\"data row5 col6\" >0.998883</td> \n",
       "        <td id=\"T_e479ece6_295e_11ea_9999_681401028cf2row5_col7\" class=\"data row5 col7\" >-0.125728</td> \n",
       "        <td id=\"T_e479ece6_295e_11ea_9999_681401028cf2row5_col8\" class=\"data row5 col8\" >-0.0214316</td> \n",
       "        <td id=\"T_e479ece6_295e_11ea_9999_681401028cf2row5_col9\" class=\"data row5 col9\" >0.143629</td> \n",
       "        <td id=\"T_e479ece6_295e_11ea_9999_681401028cf2row5_col10\" class=\"data row5 col10\" >-0.85952</td> \n",
       "        <td id=\"T_e479ece6_295e_11ea_9999_681401028cf2row5_col11\" class=\"data row5 col11\" >-0.0281758</td> \n",
       "        <td id=\"T_e479ece6_295e_11ea_9999_681401028cf2row5_col12\" class=\"data row5 col12\" >-0.0526262</td> \n",
       "    </tr>    <tr> \n",
       "        <th id=\"T_e479ece6_295e_11ea_9999_681401028cf2level0_row6\" class=\"row_heading level0 row6\" >Settlement</th> \n",
       "        <td id=\"T_e479ece6_295e_11ea_9999_681401028cf2row6_col0\" class=\"data row6 col0\" >-0.120103</td> \n",
       "        <td id=\"T_e479ece6_295e_11ea_9999_681401028cf2row6_col1\" class=\"data row6 col1\" >-0.0465037</td> \n",
       "        <td id=\"T_e479ece6_295e_11ea_9999_681401028cf2row6_col2\" class=\"data row6 col2\" >-0.0826845</td> \n",
       "        <td id=\"T_e479ece6_295e_11ea_9999_681401028cf2row6_col3\" class=\"data row6 col3\" >0.575081</td> \n",
       "        <td id=\"T_e479ece6_295e_11ea_9999_681401028cf2row6_col4\" class=\"data row6 col4\" >-0.999441</td> \n",
       "        <td id=\"T_e479ece6_295e_11ea_9999_681401028cf2row6_col5\" class=\"data row6 col5\" >0.998883</td> \n",
       "        <td id=\"T_e479ece6_295e_11ea_9999_681401028cf2row6_col6\" class=\"data row6 col6\" >1</td> \n",
       "        <td id=\"T_e479ece6_295e_11ea_9999_681401028cf2row6_col7\" class=\"data row6 col7\" >-0.125853</td> \n",
       "        <td id=\"T_e479ece6_295e_11ea_9999_681401028cf2row6_col8\" class=\"data row6 col8\" >-0.0203198</td> \n",
       "        <td id=\"T_e479ece6_295e_11ea_9999_681401028cf2row6_col9\" class=\"data row6 col9\" >0.143442</td> \n",
       "        <td id=\"T_e479ece6_295e_11ea_9999_681401028cf2row6_col10\" class=\"data row6 col10\" >-0.859778</td> \n",
       "        <td id=\"T_e479ece6_295e_11ea_9999_681401028cf2row6_col11\" class=\"data row6 col11\" >-0.0290188</td> \n",
       "        <td id=\"T_e479ece6_295e_11ea_9999_681401028cf2row6_col12\" class=\"data row6 col12\" >-0.0520191</td> \n",
       "    </tr>    <tr> \n",
       "        <th id=\"T_e479ece6_295e_11ea_9999_681401028cf2level0_row7\" class=\"row_heading level0 row7\" >Building Dimension</th> \n",
       "        <td id=\"T_e479ece6_295e_11ea_9999_681401028cf2row7_col0\" class=\"data row7 col0\" >0.0072887</td> \n",
       "        <td id=\"T_e479ece6_295e_11ea_9999_681401028cf2row7_col1\" class=\"data row7 col1\" >0.00690222</td> \n",
       "        <td id=\"T_e479ece6_295e_11ea_9999_681401028cf2row7_col2\" class=\"data row7 col2\" >0.0577269</td> \n",
       "        <td id=\"T_e479ece6_295e_11ea_9999_681401028cf2row7_col3\" class=\"data row7 col3\" >-0.0951869</td> \n",
       "        <td id=\"T_e479ece6_295e_11ea_9999_681401028cf2row7_col4\" class=\"data row7 col4\" >0.125927</td> \n",
       "        <td id=\"T_e479ece6_295e_11ea_9999_681401028cf2row7_col5\" class=\"data row7 col5\" >-0.125728</td> \n",
       "        <td id=\"T_e479ece6_295e_11ea_9999_681401028cf2row7_col6\" class=\"data row7 col6\" >-0.125853</td> \n",
       "        <td id=\"T_e479ece6_295e_11ea_9999_681401028cf2row7_col7\" class=\"data row7 col7\" >1</td> \n",
       "        <td id=\"T_e479ece6_295e_11ea_9999_681401028cf2row7_col8\" class=\"data row7 col8\" >0.00656896</td> \n",
       "        <td id=\"T_e479ece6_295e_11ea_9999_681401028cf2row7_col9\" class=\"data row7 col9\" >0.201635</td> \n",
       "        <td id=\"T_e479ece6_295e_11ea_9999_681401028cf2row7_col10\" class=\"data row7 col10\" >0.278815</td> \n",
       "        <td id=\"T_e479ece6_295e_11ea_9999_681401028cf2row7_col11\" class=\"data row7 col11\" >0.0105886</td> \n",
       "        <td id=\"T_e479ece6_295e_11ea_9999_681401028cf2row7_col12\" class=\"data row7 col12\" >0.294419</td> \n",
       "    </tr>    <tr> \n",
       "        <th id=\"T_e479ece6_295e_11ea_9999_681401028cf2level0_row8\" class=\"row_heading level0 row8\" >Building_Type</th> \n",
       "        <td id=\"T_e479ece6_295e_11ea_9999_681401028cf2row8_col0\" class=\"data row8 col0\" >0.00548978</td> \n",
       "        <td id=\"T_e479ece6_295e_11ea_9999_681401028cf2row8_col1\" class=\"data row8 col1\" >-0.0178105</td> \n",
       "        <td id=\"T_e479ece6_295e_11ea_9999_681401028cf2row8_col2\" class=\"data row8 col2\" >0.334039</td> \n",
       "        <td id=\"T_e479ece6_295e_11ea_9999_681401028cf2row8_col3\" class=\"data row8 col3\" >0.0485408</td> \n",
       "        <td id=\"T_e479ece6_295e_11ea_9999_681401028cf2row8_col4\" class=\"data row8 col4\" >0.0204302</td> \n",
       "        <td id=\"T_e479ece6_295e_11ea_9999_681401028cf2row8_col5\" class=\"data row8 col5\" >-0.0214316</td> \n",
       "        <td id=\"T_e479ece6_295e_11ea_9999_681401028cf2row8_col6\" class=\"data row8 col6\" >-0.0203198</td> \n",
       "        <td id=\"T_e479ece6_295e_11ea_9999_681401028cf2row8_col7\" class=\"data row8 col7\" >0.00656896</td> \n",
       "        <td id=\"T_e479ece6_295e_11ea_9999_681401028cf2row8_col8\" class=\"data row8 col8\" >1</td> \n",
       "        <td id=\"T_e479ece6_295e_11ea_9999_681401028cf2row8_col9\" class=\"data row8 col9\" >-0.161184</td> \n",
       "        <td id=\"T_e479ece6_295e_11ea_9999_681401028cf2row8_col10\" class=\"data row8 col10\" >0.113084</td> \n",
       "        <td id=\"T_e479ece6_295e_11ea_9999_681401028cf2row8_col11\" class=\"data row8 col11\" >0.100736</td> \n",
       "        <td id=\"T_e479ece6_295e_11ea_9999_681401028cf2row8_col12\" class=\"data row8 col12\" >0.112168</td> \n",
       "    </tr>    <tr> \n",
       "        <th id=\"T_e479ece6_295e_11ea_9999_681401028cf2level0_row9\" class=\"row_heading level0 row9\" >Date_of_Occupancy</th> \n",
       "        <td id=\"T_e479ece6_295e_11ea_9999_681401028cf2row9_col0\" class=\"data row9 col0\" >-0.0267363</td> \n",
       "        <td id=\"T_e479ece6_295e_11ea_9999_681401028cf2row9_col1\" class=\"data row9 col1\" >-0.000149071</td> \n",
       "        <td id=\"T_e479ece6_295e_11ea_9999_681401028cf2row9_col2\" class=\"data row9 col2\" >-0.0652933</td> \n",
       "        <td id=\"T_e479ece6_295e_11ea_9999_681401028cf2row9_col3\" class=\"data row9 col3\" >0.0800866</td> \n",
       "        <td id=\"T_e479ece6_295e_11ea_9999_681401028cf2row9_col4\" class=\"data row9 col4\" >-0.143574</td> \n",
       "        <td id=\"T_e479ece6_295e_11ea_9999_681401028cf2row9_col5\" class=\"data row9 col5\" >0.143629</td> \n",
       "        <td id=\"T_e479ece6_295e_11ea_9999_681401028cf2row9_col6\" class=\"data row9 col6\" >0.143442</td> \n",
       "        <td id=\"T_e479ece6_295e_11ea_9999_681401028cf2row9_col7\" class=\"data row9 col7\" >0.201635</td> \n",
       "        <td id=\"T_e479ece6_295e_11ea_9999_681401028cf2row9_col8\" class=\"data row9 col8\" >-0.161184</td> \n",
       "        <td id=\"T_e479ece6_295e_11ea_9999_681401028cf2row9_col9\" class=\"data row9 col9\" >1</td> \n",
       "        <td id=\"T_e479ece6_295e_11ea_9999_681401028cf2row9_col10\" class=\"data row9 col10\" >-0.132005</td> \n",
       "        <td id=\"T_e479ece6_295e_11ea_9999_681401028cf2row9_col11\" class=\"data row9 col11\" >0.00402513</td> \n",
       "        <td id=\"T_e479ece6_295e_11ea_9999_681401028cf2row9_col12\" class=\"data row9 col12\" >0.0142233</td> \n",
       "    </tr>    <tr> \n",
       "        <th id=\"T_e479ece6_295e_11ea_9999_681401028cf2level0_row10\" class=\"row_heading level0 row10\" >NumberOfWindows</th> \n",
       "        <td id=\"T_e479ece6_295e_11ea_9999_681401028cf2row10_col0\" class=\"data row10 col0\" >0.102345</td> \n",
       "        <td id=\"T_e479ece6_295e_11ea_9999_681401028cf2row10_col1\" class=\"data row10 col1\" >0.0425851</td> \n",
       "        <td id=\"T_e479ece6_295e_11ea_9999_681401028cf2row10_col2\" class=\"data row10 col2\" >0.128818</td> \n",
       "        <td id=\"T_e479ece6_295e_11ea_9999_681401028cf2row10_col3\" class=\"data row10 col3\" >-0.492943</td> \n",
       "        <td id=\"T_e479ece6_295e_11ea_9999_681401028cf2row10_col4\" class=\"data row10 col4\" >0.85915</td> \n",
       "        <td id=\"T_e479ece6_295e_11ea_9999_681401028cf2row10_col5\" class=\"data row10 col5\" >-0.85952</td> \n",
       "        <td id=\"T_e479ece6_295e_11ea_9999_681401028cf2row10_col6\" class=\"data row10 col6\" >-0.859778</td> \n",
       "        <td id=\"T_e479ece6_295e_11ea_9999_681401028cf2row10_col7\" class=\"data row10 col7\" >0.278815</td> \n",
       "        <td id=\"T_e479ece6_295e_11ea_9999_681401028cf2row10_col8\" class=\"data row10 col8\" >0.113084</td> \n",
       "        <td id=\"T_e479ece6_295e_11ea_9999_681401028cf2row10_col9\" class=\"data row10 col9\" >-0.132005</td> \n",
       "        <td id=\"T_e479ece6_295e_11ea_9999_681401028cf2row10_col10\" class=\"data row10 col10\" >1</td> \n",
       "        <td id=\"T_e479ece6_295e_11ea_9999_681401028cf2row10_col11\" class=\"data row10 col11\" >0.0397959</td> \n",
       "        <td id=\"T_e479ece6_295e_11ea_9999_681401028cf2row10_col12\" class=\"data row10 col12\" >0.136705</td> \n",
       "    </tr>    <tr> \n",
       "        <th id=\"T_e479ece6_295e_11ea_9999_681401028cf2level0_row11\" class=\"row_heading level0 row11\" >Geo_Code</th> \n",
       "        <td id=\"T_e479ece6_295e_11ea_9999_681401028cf2row11_col0\" class=\"data row11 col0\" >-0.00347778</td> \n",
       "        <td id=\"T_e479ece6_295e_11ea_9999_681401028cf2row11_col1\" class=\"data row11 col1\" >0.00302254</td> \n",
       "        <td id=\"T_e479ece6_295e_11ea_9999_681401028cf2row11_col2\" class=\"data row11 col2\" >0.275445</td> \n",
       "        <td id=\"T_e479ece6_295e_11ea_9999_681401028cf2row11_col3\" class=\"data row11 col3\" >-0.0257467</td> \n",
       "        <td id=\"T_e479ece6_295e_11ea_9999_681401028cf2row11_col4\" class=\"data row11 col4\" >0.0287046</td> \n",
       "        <td id=\"T_e479ece6_295e_11ea_9999_681401028cf2row11_col5\" class=\"data row11 col5\" >-0.0281758</td> \n",
       "        <td id=\"T_e479ece6_295e_11ea_9999_681401028cf2row11_col6\" class=\"data row11 col6\" >-0.0290188</td> \n",
       "        <td id=\"T_e479ece6_295e_11ea_9999_681401028cf2row11_col7\" class=\"data row11 col7\" >0.0105886</td> \n",
       "        <td id=\"T_e479ece6_295e_11ea_9999_681401028cf2row11_col8\" class=\"data row11 col8\" >0.100736</td> \n",
       "        <td id=\"T_e479ece6_295e_11ea_9999_681401028cf2row11_col9\" class=\"data row11 col9\" >0.00402513</td> \n",
       "        <td id=\"T_e479ece6_295e_11ea_9999_681401028cf2row11_col10\" class=\"data row11 col10\" >0.0397959</td> \n",
       "        <td id=\"T_e479ece6_295e_11ea_9999_681401028cf2row11_col11\" class=\"data row11 col11\" >1</td> \n",
       "        <td id=\"T_e479ece6_295e_11ea_9999_681401028cf2row11_col12\" class=\"data row11 col12\" >0.0211798</td> \n",
       "    </tr>    <tr> \n",
       "        <th id=\"T_e479ece6_295e_11ea_9999_681401028cf2level0_row12\" class=\"row_heading level0 row12\" >Claim</th> \n",
       "        <td id=\"T_e479ece6_295e_11ea_9999_681401028cf2row12_col0\" class=\"data row12 col0\" >-0.0163667</td> \n",
       "        <td id=\"T_e479ece6_295e_11ea_9999_681401028cf2row12_col1\" class=\"data row12 col1\" >0.0887145</td> \n",
       "        <td id=\"T_e479ece6_295e_11ea_9999_681401028cf2row12_col2\" class=\"data row12 col2\" >0.063509</td> \n",
       "        <td id=\"T_e479ece6_295e_11ea_9999_681401028cf2row12_col3\" class=\"data row12 col3\" >-0.0298568</td> \n",
       "        <td id=\"T_e479ece6_295e_11ea_9999_681401028cf2row12_col4\" class=\"data row12 col4\" >0.0516571</td> \n",
       "        <td id=\"T_e479ece6_295e_11ea_9999_681401028cf2row12_col5\" class=\"data row12 col5\" >-0.0526262</td> \n",
       "        <td id=\"T_e479ece6_295e_11ea_9999_681401028cf2row12_col6\" class=\"data row12 col6\" >-0.0520191</td> \n",
       "        <td id=\"T_e479ece6_295e_11ea_9999_681401028cf2row12_col7\" class=\"data row12 col7\" >0.294419</td> \n",
       "        <td id=\"T_e479ece6_295e_11ea_9999_681401028cf2row12_col8\" class=\"data row12 col8\" >0.112168</td> \n",
       "        <td id=\"T_e479ece6_295e_11ea_9999_681401028cf2row12_col9\" class=\"data row12 col9\" >0.0142233</td> \n",
       "        <td id=\"T_e479ece6_295e_11ea_9999_681401028cf2row12_col10\" class=\"data row12 col10\" >0.136705</td> \n",
       "        <td id=\"T_e479ece6_295e_11ea_9999_681401028cf2row12_col11\" class=\"data row12 col11\" >0.0211798</td> \n",
       "        <td id=\"T_e479ece6_295e_11ea_9999_681401028cf2row12_col12\" class=\"data row12 col12\" >1</td> \n",
       "    </tr></tbody> \n",
       "</table> "
      ],
      "text/plain": [
       "<pandas.io.formats.style.Styler at 0x1ce19d38a58>"
      ]
     },
     "execution_count": 63,
     "metadata": {},
     "output_type": "execute_result"
    }
   ],
   "source": [
    "corr.style.background_gradient(cmap='Spectral')"
   ]
  },
  {
   "cell_type": "code",
   "execution_count": 64,
   "metadata": {},
   "outputs": [
    {
     "data": {
      "text/plain": [
       "<matplotlib.axes._subplots.AxesSubplot at 0x1ce1a75a518>"
      ]
     },
     "execution_count": 64,
     "metadata": {},
     "output_type": "execute_result"
    },
    {
     "data": {
      "image/png": "[encoded data removed]",
      "text/plain": [
       "<Figure size 1440x1440 with 2 Axes>"
      ]
     },
     "metadata": {
      "needs_background": "light"
     },
     "output_type": "display_data"
    }
   ],
   "source": [
    "plt.figure(figsize = [20, 20])\n",
    "sns.heatmap(corr, cbar=True, square= True, fmt='.1f', annot=True, annot_kws={'size':15}, cmap='Greens')"
   ]
  },
  {
   "cell_type": "code",
   "execution_count": 65,
   "metadata": {},
   "outputs": [],
   "source": [
    "X = data.drop(['Claim'], axis = 1)\n",
    "X = X.drop(['Building_Painted'], axis = 1)\n",
    "X = X.drop(['Garden'], axis = 1)\n",
    "X = X.drop(['Settlement'], axis = 1)\n",
    "X = X.drop(['YearOfObservation'], axis = 1)"
   ]
  },
  {
   "cell_type": "code",
   "execution_count": 66,
   "metadata": {},
   "outputs": [
    {
     "name": "stdout",
     "output_type": "stream",
     "text": [
      "(7160, 9)\n",
      "(7160,)\n"
     ]
    }
   ],
   "source": [
    "\n",
    "y = data['Claim']\n",
    "print(X.shape)\n",
    "print (y.shape)"
   ]
  },
  {
   "cell_type": "code",
   "execution_count": null,
   "metadata": {},
   "outputs": [],
   "source": []
  },
  {
   "cell_type": "code",
   "execution_count": 67,
   "metadata": {},
   "outputs": [
    {
     "data": {
      "text/plain": [
       "Index(['Customer Id', 'Insured_Period', 'Residential', 'Building_Fenced',\n",
       "       'Building Dimension', 'Building_Type', 'Date_of_Occupancy',\n",
       "       'NumberOfWindows', 'Geo_Code'],\n",
       "      dtype='object')"
      ]
     },
     "execution_count": 67,
     "metadata": {},
     "output_type": "execute_result"
    }
   ],
   "source": [
    "X.columns"
   ]
  },
  {
   "cell_type": "code",
   "execution_count": 68,
   "metadata": {},
   "outputs": [
    {
     "data": {
      "text/plain": [
       "Customer Id            object\n",
       "Insured_Period        float64\n",
       "Residential             int64\n",
       "Building_Fenced         int64\n",
       "Building Dimension    float64\n",
       "Building_Type           int64\n",
       "Date_of_Occupancy     float64\n",
       "NumberOfWindows         int32\n",
       "Geo_Code                int64\n",
       "dtype: object"
      ]
     },
     "execution_count": 68,
     "metadata": {},
     "output_type": "execute_result"
    }
   ],
   "source": [
    "X.dtypes"
   ]
  },
  {
   "cell_type": "code",
   "execution_count": 69,
   "metadata": {},
   "outputs": [
    {
     "data": {
      "text/html": [
       "<div>\n",
       "<style scoped>\n",
       "    .dataframe tbody tr th:only-of-type {\n",
       "        vertical-align: middle;\n",
       "    }\n",
       "\n",
       "    .dataframe tbody tr th {\n",
       "        vertical-align: top;\n",
       "    }\n",
       "\n",
       "    .dataframe thead th {\n",
       "        text-align: right;\n",
       "    }\n",
       "</style>\n",
       "<table border=\"1\" class=\"dataframe\">\n",
       "  <thead>\n",
       "    <tr style=\"text-align: right;\">\n",
       "      <th></th>\n",
       "      <th>Customer Id</th>\n",
       "      <th>Insured_Period</th>\n",
       "      <th>Residential</th>\n",
       "      <th>Building_Fenced</th>\n",
       "      <th>Building Dimension</th>\n",
       "      <th>Building_Type</th>\n",
       "      <th>Date_of_Occupancy</th>\n",
       "      <th>NumberOfWindows</th>\n",
       "      <th>Geo_Code</th>\n",
       "    </tr>\n",
       "  </thead>\n",
       "  <tbody>\n",
       "    <tr>\n",
       "      <th>0</th>\n",
       "      <td>H14663</td>\n",
       "      <td>1.0</td>\n",
       "      <td>0</td>\n",
       "      <td>0</td>\n",
       "      <td>290.0</td>\n",
       "      <td>1</td>\n",
       "      <td>1960.0</td>\n",
       "      <td>0</td>\n",
       "      <td>1</td>\n",
       "    </tr>\n",
       "    <tr>\n",
       "      <th>1</th>\n",
       "      <td>H2037</td>\n",
       "      <td>1.0</td>\n",
       "      <td>0</td>\n",
       "      <td>1</td>\n",
       "      <td>490.0</td>\n",
       "      <td>1</td>\n",
       "      <td>1850.0</td>\n",
       "      <td>4</td>\n",
       "      <td>1</td>\n",
       "    </tr>\n",
       "    <tr>\n",
       "      <th>2</th>\n",
       "      <td>H3802</td>\n",
       "      <td>1.0</td>\n",
       "      <td>0</td>\n",
       "      <td>0</td>\n",
       "      <td>595.0</td>\n",
       "      <td>1</td>\n",
       "      <td>1960.0</td>\n",
       "      <td>0</td>\n",
       "      <td>1</td>\n",
       "    </tr>\n",
       "    <tr>\n",
       "      <th>3</th>\n",
       "      <td>H3834</td>\n",
       "      <td>1.0</td>\n",
       "      <td>0</td>\n",
       "      <td>0</td>\n",
       "      <td>2840.0</td>\n",
       "      <td>1</td>\n",
       "      <td>1960.0</td>\n",
       "      <td>0</td>\n",
       "      <td>1</td>\n",
       "    </tr>\n",
       "    <tr>\n",
       "      <th>4</th>\n",
       "      <td>H5053</td>\n",
       "      <td>1.0</td>\n",
       "      <td>0</td>\n",
       "      <td>1</td>\n",
       "      <td>680.0</td>\n",
       "      <td>1</td>\n",
       "      <td>1800.0</td>\n",
       "      <td>3</td>\n",
       "      <td>1</td>\n",
       "    </tr>\n",
       "  </tbody>\n",
       "</table>\n",
       "</div>"
      ],
      "text/plain": [
       "  Customer Id  Insured_Period  Residential  Building_Fenced  \\\n",
       "0      H14663             1.0            0                0   \n",
       "1       H2037             1.0            0                1   \n",
       "2       H3802             1.0            0                0   \n",
       "3       H3834             1.0            0                0   \n",
       "4       H5053             1.0            0                1   \n",
       "\n",
       "   Building Dimension  Building_Type  Date_of_Occupancy  NumberOfWindows  \\\n",
       "0               290.0              1             1960.0                0   \n",
       "1               490.0              1             1850.0                4   \n",
       "2               595.0              1             1960.0                0   \n",
       "3              2840.0              1             1960.0                0   \n",
       "4               680.0              1             1800.0                3   \n",
       "\n",
       "   Geo_Code  \n",
       "0         1  \n",
       "1         1  \n",
       "2         1  \n",
       "3         1  \n",
       "4         1  "
      ]
     },
     "execution_count": 69,
     "metadata": {},
     "output_type": "execute_result"
    }
   ],
   "source": [
    "X.head()"
   ]
  },
  {
   "cell_type": "code",
   "execution_count": 70,
   "metadata": {},
   "outputs": [
    {
     "data": {
      "text/plain": [
       "Customer Id           0\n",
       "Insured_Period        0\n",
       "Residential           0\n",
       "Building_Fenced       0\n",
       "Building Dimension    0\n",
       "Building_Type         0\n",
       "Date_of_Occupancy     0\n",
       "NumberOfWindows       0\n",
       "Geo_Code              0\n",
       "dtype: int64"
      ]
     },
     "execution_count": 70,
     "metadata": {},
     "output_type": "execute_result"
    }
   ],
   "source": [
    "X.isnull().sum()"
   ]
  },
  {
   "cell_type": "code",
   "execution_count": 71,
   "metadata": {},
   "outputs": [],
   "source": [
    "X = X.drop(['Customer Id'], axis = 1)"
   ]
  },
  {
   "cell_type": "code",
   "execution_count": 72,
   "metadata": {},
   "outputs": [],
   "source": [
    "from sklearn.model_selection import train_test_split\n",
    "X_train, X_test, y_train, y_test = train_test_split(X,y, test_size = 0.3, random_state = 4)"
   ]
  },
  {
   "cell_type": "markdown",
   "metadata": {},
   "source": [
    "# Support Vector Machine"
   ]
  },
  {
   "cell_type": "code",
   "execution_count": 73,
   "metadata": {},
   "outputs": [],
   "source": [
    "from sklearn.svm import SVC"
   ]
  },
  {
   "cell_type": "code",
   "execution_count": 74,
   "metadata": {},
   "outputs": [],
   "source": [
    "svc = SVC(kernel = 'rbf', class_weight = 'balanced')"
   ]
  },
  {
   "cell_type": "code",
   "execution_count": 75,
   "metadata": {},
   "outputs": [
    {
     "name": "stderr",
     "output_type": "stream",
     "text": [
      "C:\\Users\\damia\\Anaconda3\\lib\\site-packages\\sklearn\\model_selection\\_split.py:2053: FutureWarning: You should specify a value for 'cv' instead of relying on the default value. The default value will change from 3 to 5 in version 0.22.\n",
      "  warnings.warn(CV_WARNING, FutureWarning)\n"
     ]
    },
    {
     "name": "stdout",
     "output_type": "stream",
     "text": [
      "{'C': 10, 'gamma': 0.005}\n"
     ]
    }
   ],
   "source": [
    "from sklearn.model_selection import GridSearchCV\n",
    "\n",
    "param_grid = {'C' : [1, 5, 10, 50], 'gamma': [0.0001, 0.0005, 0.001, 0.005]}\n",
    "\n",
    "grid = GridSearchCV(svc, param_grid)\n",
    "\n",
    "grid.fit(X_train, y_train)\n",
    "\n",
    "print(grid.best_params_)"
   ]
  },
  {
   "cell_type": "code",
   "execution_count": 76,
   "metadata": {},
   "outputs": [],
   "source": [
    "model = grid.best_estimator_\n",
    "y_pred = model.predict(X_test)"
   ]
  },
  {
   "cell_type": "code",
   "execution_count": 77,
   "metadata": {},
   "outputs": [
    {
     "data": {
      "text/plain": [
       "0.707169459962756"
      ]
     },
     "execution_count": 77,
     "metadata": {},
     "output_type": "execute_result"
    }
   ],
   "source": [
    "#Model Evaluation \n",
    "from sklearn import metrics \n",
    "\n",
    "metrics.accuracy_score(y_test, y_pred)"
   ]
  },
  {
   "cell_type": "code",
   "execution_count": null,
   "metadata": {},
   "outputs": [],
   "source": []
  },
  {
   "cell_type": "markdown",
   "metadata": {},
   "source": [
    "## Using more features "
   ]
  },
  {
   "cell_type": "code",
   "execution_count": 78,
   "metadata": {},
   "outputs": [],
   "source": [
    "X2 = data.drop(['Claim'], axis = 1)\n",
    "X2 = X2.drop(['Customer Id'], axis = 1)\n",
    "\n",
    "X2_train, X2_test, y_train, y_test = train_test_split(X2, y, test_size = 0.3, random_state = 4)\n"
   ]
  },
  {
   "cell_type": "code",
   "execution_count": 79,
   "metadata": {},
   "outputs": [
    {
     "name": "stderr",
     "output_type": "stream",
     "text": [
      "C:\\Users\\damia\\Anaconda3\\lib\\site-packages\\sklearn\\model_selection\\_split.py:2053: FutureWarning: You should specify a value for 'cv' instead of relying on the default value. The default value will change from 3 to 5 in version 0.22.\n",
      "  warnings.warn(CV_WARNING, FutureWarning)\n"
     ]
    },
    {
     "name": "stdout",
     "output_type": "stream",
     "text": [
      "{'C': 75, 'gamma': 0.005}\n"
     ]
    }
   ],
   "source": [
    "param_grid = {'C' : [1, 5, 10, 50, 75, 100], 'gamma': [0.0001, 0.0005, 0.001, 0.005]}\n",
    "\n",
    "grid = GridSearchCV(svc, param_grid)\n",
    "\n",
    "grid.fit(X2_train, y_train)\n",
    "\n",
    "print(grid.best_params_)"
   ]
  },
  {
   "cell_type": "code",
   "execution_count": 80,
   "metadata": {},
   "outputs": [],
   "source": [
    "model = grid.best_estimator_\n",
    "y2_pred = model.predict(X2_test)"
   ]
  },
  {
   "cell_type": "code",
   "execution_count": 81,
   "metadata": {},
   "outputs": [
    {
     "data": {
      "text/plain": [
       "0.7169459962756052"
      ]
     },
     "execution_count": 81,
     "metadata": {},
     "output_type": "execute_result"
    }
   ],
   "source": [
    "metrics.accuracy_score(y_test, y2_pred)"
   ]
  },
  {
   "cell_type": "markdown",
   "metadata": {},
   "source": [
    "# Random Forest Classifier"
   ]
  },
  {
   "cell_type": "code",
   "execution_count": 82,
   "metadata": {},
   "outputs": [],
   "source": [
    "from sklearn.ensemble import RandomForestClassifier\n",
    "\n",
    "rfc = RandomForestClassifier(n_estimators = 100)\n"
   ]
  },
  {
   "cell_type": "code",
   "execution_count": 83,
   "metadata": {},
   "outputs": [
    {
     "data": {
      "text/plain": [
       "RandomForestClassifier(bootstrap=True, class_weight=None, criterion='gini',\n",
       "            max_depth=None, max_features='auto', max_leaf_nodes=None,\n",
       "            min_impurity_decrease=0.0, min_impurity_split=None,\n",
       "            min_samples_leaf=1, min_samples_split=2,\n",
       "            min_weight_fraction_leaf=0.0, n_estimators=100, n_jobs=None,\n",
       "            oob_score=False, random_state=None, verbose=0,\n",
       "            warm_start=False)"
      ]
     },
     "execution_count": 83,
     "metadata": {},
     "output_type": "execute_result"
    }
   ],
   "source": [
    "rfc.fit(X_train, y_train)"
   ]
  },
  {
   "cell_type": "code",
   "execution_count": 84,
   "metadata": {},
   "outputs": [],
   "source": [
    "ypred = rfc.predict(X_test)"
   ]
  },
  {
   "cell_type": "code",
   "execution_count": 85,
   "metadata": {},
   "outputs": [
    {
     "data": {
      "text/plain": [
       "0.7616387337057728"
      ]
     },
     "execution_count": 85,
     "metadata": {},
     "output_type": "execute_result"
    }
   ],
   "source": [
    "metrics.accuracy_score(y_test, ypred)"
   ]
  },
  {
   "cell_type": "markdown",
   "metadata": {},
   "source": [
    "## Using Additional features "
   ]
  },
  {
   "cell_type": "code",
   "execution_count": 86,
   "metadata": {},
   "outputs": [
    {
     "data": {
      "text/plain": [
       "(7160, 12)"
      ]
     },
     "execution_count": 86,
     "metadata": {},
     "output_type": "execute_result"
    }
   ],
   "source": [
    "X2.shape"
   ]
  },
  {
   "cell_type": "code",
   "execution_count": 87,
   "metadata": {},
   "outputs": [
    {
     "data": {
      "text/plain": [
       "RandomForestClassifier(bootstrap=True, class_weight=None, criterion='gini',\n",
       "            max_depth=None, max_features='auto', max_leaf_nodes=None,\n",
       "            min_impurity_decrease=0.0, min_impurity_split=None,\n",
       "            min_samples_leaf=1, min_samples_split=2,\n",
       "            min_weight_fraction_leaf=0.0, n_estimators=100, n_jobs=None,\n",
       "            oob_score=False, random_state=None, verbose=0,\n",
       "            warm_start=False)"
      ]
     },
     "execution_count": 87,
     "metadata": {},
     "output_type": "execute_result"
    }
   ],
   "source": [
    "rfc.fit(X2_train, y_train)"
   ]
  },
  {
   "cell_type": "code",
   "execution_count": 88,
   "metadata": {},
   "outputs": [],
   "source": [
    "y2pred = rfc.predict(X2_test)"
   ]
  },
  {
   "cell_type": "code",
   "execution_count": 89,
   "metadata": {},
   "outputs": [
    {
     "data": {
      "text/plain": [
       "0.7825884543761639"
      ]
     },
     "execution_count": 89,
     "metadata": {},
     "output_type": "execute_result"
    }
   ],
   "source": [
    "metrics.accuracy_score(y_test, y2pred)"
   ]
  },
  {
   "cell_type": "markdown",
   "metadata": {},
   "source": [
    "# Predicting test sample "
   ]
  },
  {
   "cell_type": "code",
   "execution_count": 90,
   "metadata": {},
   "outputs": [
    {
     "data": {
      "text/html": [
       "<div>\n",
       "<style scoped>\n",
       "    .dataframe tbody tr th:only-of-type {\n",
       "        vertical-align: middle;\n",
       "    }\n",
       "\n",
       "    .dataframe tbody tr th {\n",
       "        vertical-align: top;\n",
       "    }\n",
       "\n",
       "    .dataframe thead th {\n",
       "        text-align: right;\n",
       "    }\n",
       "</style>\n",
       "<table border=\"1\" class=\"dataframe\">\n",
       "  <thead>\n",
       "    <tr style=\"text-align: right;\">\n",
       "      <th></th>\n",
       "      <th>Customer Id</th>\n",
       "      <th>Claim</th>\n",
       "    </tr>\n",
       "  </thead>\n",
       "  <tbody>\n",
       "    <tr>\n",
       "      <th>0</th>\n",
       "      <td>H0</td>\n",
       "      <td>1</td>\n",
       "    </tr>\n",
       "    <tr>\n",
       "      <th>1</th>\n",
       "      <td>H10000</td>\n",
       "      <td>1</td>\n",
       "    </tr>\n",
       "    <tr>\n",
       "      <th>2</th>\n",
       "      <td>H10001</td>\n",
       "      <td>1</td>\n",
       "    </tr>\n",
       "    <tr>\n",
       "      <th>3</th>\n",
       "      <td>H10002</td>\n",
       "      <td>1</td>\n",
       "    </tr>\n",
       "    <tr>\n",
       "      <th>4</th>\n",
       "      <td>H10003</td>\n",
       "      <td>1</td>\n",
       "    </tr>\n",
       "  </tbody>\n",
       "</table>\n",
       "</div>"
      ],
      "text/plain": [
       "  Customer Id  Claim\n",
       "0          H0      1\n",
       "1      H10000      1\n",
       "2      H10001      1\n",
       "3      H10002      1\n",
       "4      H10003      1"
      ]
     },
     "execution_count": 90,
     "metadata": {},
     "output_type": "execute_result"
    }
   ],
   "source": [
    "sample = pd.read_csv('sample_submission (1).csv')\n",
    "sample.head()"
   ]
  },
  {
   "cell_type": "code",
   "execution_count": 91,
   "metadata": {},
   "outputs": [
    {
     "data": {
      "text/html": [
       "<div>\n",
       "<style scoped>\n",
       "    .dataframe tbody tr th:only-of-type {\n",
       "        vertical-align: middle;\n",
       "    }\n",
       "\n",
       "    .dataframe tbody tr th {\n",
       "        vertical-align: top;\n",
       "    }\n",
       "\n",
       "    .dataframe thead th {\n",
       "        text-align: right;\n",
       "    }\n",
       "</style>\n",
       "<table border=\"1\" class=\"dataframe\">\n",
       "  <thead>\n",
       "    <tr style=\"text-align: right;\">\n",
       "      <th></th>\n",
       "      <th>Customer Id</th>\n",
       "      <th>YearOfObservation</th>\n",
       "      <th>Insured_Period</th>\n",
       "      <th>Residential</th>\n",
       "      <th>Building_Painted</th>\n",
       "      <th>Building_Fenced</th>\n",
       "      <th>Garden</th>\n",
       "      <th>Settlement</th>\n",
       "      <th>Building Dimension</th>\n",
       "      <th>Building_Type</th>\n",
       "      <th>Date_of_Occupancy</th>\n",
       "      <th>NumberOfWindows</th>\n",
       "      <th>Geo_Code</th>\n",
       "    </tr>\n",
       "  </thead>\n",
       "  <tbody>\n",
       "    <tr>\n",
       "      <th>0</th>\n",
       "      <td>H11920</td>\n",
       "      <td>2013</td>\n",
       "      <td>1.000000</td>\n",
       "      <td>0</td>\n",
       "      <td>V</td>\n",
       "      <td>N</td>\n",
       "      <td>O</td>\n",
       "      <td>R</td>\n",
       "      <td>300.0</td>\n",
       "      <td>1</td>\n",
       "      <td>1960.0</td>\n",
       "      <td>3</td>\n",
       "      <td>3310</td>\n",
       "    </tr>\n",
       "    <tr>\n",
       "      <th>1</th>\n",
       "      <td>H11921</td>\n",
       "      <td>2016</td>\n",
       "      <td>0.997268</td>\n",
       "      <td>0</td>\n",
       "      <td>V</td>\n",
       "      <td>N</td>\n",
       "      <td>O</td>\n",
       "      <td>R</td>\n",
       "      <td>300.0</td>\n",
       "      <td>1</td>\n",
       "      <td>1960.0</td>\n",
       "      <td>3</td>\n",
       "      <td>3310</td>\n",
       "    </tr>\n",
       "    <tr>\n",
       "      <th>2</th>\n",
       "      <td>H9805</td>\n",
       "      <td>2013</td>\n",
       "      <td>0.369863</td>\n",
       "      <td>0</td>\n",
       "      <td>V</td>\n",
       "      <td>V</td>\n",
       "      <td>V</td>\n",
       "      <td>U</td>\n",
       "      <td>790.0</td>\n",
       "      <td>1</td>\n",
       "      <td>1960.0</td>\n",
       "      <td>.</td>\n",
       "      <td>3310</td>\n",
       "    </tr>\n",
       "    <tr>\n",
       "      <th>3</th>\n",
       "      <td>H7493</td>\n",
       "      <td>2014</td>\n",
       "      <td>1.000000</td>\n",
       "      <td>0</td>\n",
       "      <td>V</td>\n",
       "      <td>N</td>\n",
       "      <td>O</td>\n",
       "      <td>R</td>\n",
       "      <td>1405.0</td>\n",
       "      <td>1</td>\n",
       "      <td>2004.0</td>\n",
       "      <td>3</td>\n",
       "      <td>3321</td>\n",
       "    </tr>\n",
       "    <tr>\n",
       "      <th>4</th>\n",
       "      <td>H7494</td>\n",
       "      <td>2016</td>\n",
       "      <td>1.000000</td>\n",
       "      <td>0</td>\n",
       "      <td>V</td>\n",
       "      <td>N</td>\n",
       "      <td>O</td>\n",
       "      <td>R</td>\n",
       "      <td>1405.0</td>\n",
       "      <td>1</td>\n",
       "      <td>2004.0</td>\n",
       "      <td>3</td>\n",
       "      <td>3321</td>\n",
       "    </tr>\n",
       "  </tbody>\n",
       "</table>\n",
       "</div>"
      ],
      "text/plain": [
       "  Customer Id  YearOfObservation  Insured_Period  Residential  \\\n",
       "0      H11920               2013        1.000000            0   \n",
       "1      H11921               2016        0.997268            0   \n",
       "2       H9805               2013        0.369863            0   \n",
       "3       H7493               2014        1.000000            0   \n",
       "4       H7494               2016        1.000000            0   \n",
       "\n",
       "  Building_Painted Building_Fenced Garden Settlement  Building Dimension  \\\n",
       "0                V               N      O          R               300.0   \n",
       "1                V               N      O          R               300.0   \n",
       "2                V               V      V          U               790.0   \n",
       "3                V               N      O          R              1405.0   \n",
       "4                V               N      O          R              1405.0   \n",
       "\n",
       "   Building_Type  Date_of_Occupancy NumberOfWindows Geo_Code  \n",
       "0              1             1960.0               3     3310  \n",
       "1              1             1960.0               3     3310  \n",
       "2              1             1960.0               .     3310  \n",
       "3              1             2004.0               3     3321  \n",
       "4              1             2004.0               3     3321  "
      ]
     },
     "execution_count": 91,
     "metadata": {},
     "output_type": "execute_result"
    }
   ],
   "source": [
    "test = pd.read_csv('test_data.csv')\n",
    "test.head()"
   ]
  },
  {
   "cell_type": "code",
   "execution_count": 92,
   "metadata": {},
   "outputs": [
    {
     "data": {
      "text/plain": [
       "Customer Id            object\n",
       "YearOfObservation       int64\n",
       "Insured_Period        float64\n",
       "Residential             int64\n",
       "Building_Painted       object\n",
       "Building_Fenced        object\n",
       "Garden                 object\n",
       "Settlement             object\n",
       "Building Dimension    float64\n",
       "Building_Type           int64\n",
       "Date_of_Occupancy     float64\n",
       "NumberOfWindows        object\n",
       "Geo_Code               object\n",
       "dtype: object"
      ]
     },
     "execution_count": 92,
     "metadata": {},
     "output_type": "execute_result"
    }
   ],
   "source": [
    "test.dtypes"
   ]
  },
  {
   "cell_type": "code",
   "execution_count": 93,
   "metadata": {},
   "outputs": [
    {
     "data": {
      "text/plain": [
       "Customer Id             0\n",
       "YearOfObservation       0\n",
       "Insured_Period          0\n",
       "Residential             0\n",
       "Building_Painted        0\n",
       "Building_Fenced         0\n",
       "Garden                  4\n",
       "Settlement              0\n",
       "Building Dimension     13\n",
       "Building_Type           0\n",
       "Date_of_Occupancy     728\n",
       "NumberOfWindows         0\n",
       "Geo_Code               13\n",
       "dtype: int64"
      ]
     },
     "execution_count": 93,
     "metadata": {},
     "output_type": "execute_result"
    }
   ],
   "source": [
    "test.isnull().sum()"
   ]
  },
  {
   "cell_type": "code",
   "execution_count": 94,
   "metadata": {},
   "outputs": [
    {
     "data": {
      "text/plain": [
       "array(['V', 'N'], dtype=object)"
      ]
     },
     "execution_count": 94,
     "metadata": {},
     "output_type": "execute_result"
    }
   ],
   "source": [
    "#Building painted\n",
    "\n",
    "test.Building_Painted.unique()"
   ]
  },
  {
   "cell_type": "code",
   "execution_count": 95,
   "metadata": {},
   "outputs": [
    {
     "name": "stderr",
     "output_type": "stream",
     "text": [
      "C:\\Users\\damia\\Anaconda3\\lib\\site-packages\\ipykernel_launcher.py:2: SettingWithCopyWarning: \n",
      "A value is trying to be set on a copy of a slice from a DataFrame\n",
      "\n",
      "See the caveats in the documentation: http://pandas.pydata.org/pandas-docs/stable/indexing.html#indexing-view-versus-copy\n",
      "  \n",
      "C:\\Users\\damia\\Anaconda3\\lib\\site-packages\\ipykernel_launcher.py:3: SettingWithCopyWarning: \n",
      "A value is trying to be set on a copy of a slice from a DataFrame\n",
      "\n",
      "See the caveats in the documentation: http://pandas.pydata.org/pandas-docs/stable/indexing.html#indexing-view-versus-copy\n",
      "  This is separate from the ipykernel package so we can avoid doing imports until\n"
     ]
    }
   ],
   "source": [
    "test.Building_Painted = test.Building_Painted.astype(str)\n",
    "test.Building_Painted[test.Building_Painted == 'N'] = 1\n",
    "test.Building_Painted[test.Building_Painted == 'V'] = 0\n"
   ]
  },
  {
   "cell_type": "code",
   "execution_count": 96,
   "metadata": {},
   "outputs": [],
   "source": [
    "test.Building_Fenced = test.Building_Fenced.astype(str)\n",
    "test.Garden = test.Garden.astype(str)\n",
    "test.Settlement = test.Settlement.astype(str)\n",
    "test['Building_Fenced'] = test['Building_Fenced'].replace({'N':1, 'V':0})\n",
    "test['Garden'] = test['Garden'].replace({'V':1, 'O':0})\n",
    "test['Settlement'] = test['Settlement'].replace({'U':1, 'R':0})"
   ]
  },
  {
   "cell_type": "code",
   "execution_count": 97,
   "metadata": {},
   "outputs": [
    {
     "data": {
      "text/plain": [
       "Customer Id            object\n",
       "YearOfObservation       int64\n",
       "Insured_Period        float64\n",
       "Residential             int64\n",
       "Building_Painted       object\n",
       "Building_Fenced         int64\n",
       "Garden                 object\n",
       "Settlement              int64\n",
       "Building Dimension    float64\n",
       "Building_Type           int64\n",
       "Date_of_Occupancy     float64\n",
       "NumberOfWindows        object\n",
       "Geo_Code               object\n",
       "dtype: object"
      ]
     },
     "execution_count": 97,
     "metadata": {},
     "output_type": "execute_result"
    }
   ],
   "source": [
    "test.dtypes"
   ]
  },
  {
   "cell_type": "code",
   "execution_count": 98,
   "metadata": {},
   "outputs": [],
   "source": [
    "test.Building_Fenced = test.Building_Fenced.astype(int)\n",
    "test.Garden = test.Garden.astype(float)\n",
    "test.Building_Painted = test.Building_Painted.astype(int)"
   ]
  },
  {
   "cell_type": "code",
   "execution_count": 99,
   "metadata": {},
   "outputs": [
    {
     "data": {
      "text/plain": [
       "Customer Id            object\n",
       "YearOfObservation       int64\n",
       "Insured_Period        float64\n",
       "Residential             int64\n",
       "Building_Painted        int32\n",
       "Building_Fenced         int32\n",
       "Garden                float64\n",
       "Settlement              int64\n",
       "Building Dimension    float64\n",
       "Building_Type           int64\n",
       "Date_of_Occupancy     float64\n",
       "NumberOfWindows        object\n",
       "Geo_Code               object\n",
       "dtype: object"
      ]
     },
     "execution_count": 99,
     "metadata": {},
     "output_type": "execute_result"
    }
   ],
   "source": [
    "test.dtypes"
   ]
  },
  {
   "cell_type": "code",
   "execution_count": 100,
   "metadata": {},
   "outputs": [
    {
     "data": {
      "text/plain": [
       "array(['3', '   .', '2', '4', '9', '5', '6', '8', '>=10', '7', '1'],\n",
       "      dtype=object)"
      ]
     },
     "execution_count": 100,
     "metadata": {},
     "output_type": "execute_result"
    }
   ],
   "source": [
    "test.NumberOfWindows.unique()"
   ]
  },
  {
   "cell_type": "code",
   "execution_count": 101,
   "metadata": {},
   "outputs": [],
   "source": [
    "test.NumberOfWindows = test.NumberOfWindows.replace({'   .': '0', '>=10': '10'})"
   ]
  },
  {
   "cell_type": "code",
   "execution_count": 102,
   "metadata": {},
   "outputs": [],
   "source": [
    "test.NumberOfWindows = test.NumberOfWindows.astype(int)"
   ]
  },
  {
   "cell_type": "code",
   "execution_count": 103,
   "metadata": {},
   "outputs": [
    {
     "data": {
      "text/plain": [
       "Customer Id            object\n",
       "YearOfObservation       int64\n",
       "Insured_Period        float64\n",
       "Residential             int64\n",
       "Building_Painted        int32\n",
       "Building_Fenced         int32\n",
       "Garden                float64\n",
       "Settlement              int64\n",
       "Building Dimension    float64\n",
       "Building_Type           int64\n",
       "Date_of_Occupancy     float64\n",
       "NumberOfWindows         int32\n",
       "Geo_Code               object\n",
       "dtype: object"
      ]
     },
     "execution_count": 103,
     "metadata": {},
     "output_type": "execute_result"
    }
   ],
   "source": [
    "test.dtypes"
   ]
  },
  {
   "cell_type": "code",
   "execution_count": 104,
   "metadata": {},
   "outputs": [],
   "source": [
    "g_code = test.Geo_Code.unique()"
   ]
  },
  {
   "cell_type": "code",
   "execution_count": 105,
   "metadata": {},
   "outputs": [
    {
     "data": {
      "text/plain": [
       "698"
      ]
     },
     "execution_count": 105,
     "metadata": {},
     "output_type": "execute_result"
    }
   ],
   "source": [
    "len(g_code)"
   ]
  },
  {
   "cell_type": "code",
   "execution_count": 106,
   "metadata": {},
   "outputs": [
    {
     "data": {
      "text/plain": [
       "Customer Id             0\n",
       "YearOfObservation       0\n",
       "Insured_Period          0\n",
       "Residential             0\n",
       "Building_Painted        0\n",
       "Building_Fenced         0\n",
       "Garden                  4\n",
       "Settlement              0\n",
       "Building Dimension     13\n",
       "Building_Type           0\n",
       "Date_of_Occupancy     728\n",
       "NumberOfWindows         0\n",
       "Geo_Code               13\n",
       "dtype: int64"
      ]
     },
     "execution_count": 106,
     "metadata": {},
     "output_type": "execute_result"
    }
   ],
   "source": [
    "test.isnull().sum()"
   ]
  },
  {
   "cell_type": "code",
   "execution_count": 107,
   "metadata": {},
   "outputs": [],
   "source": [
    "g2_code = np.arange(699)[1:]\n",
    "code_dict = dict(zip(g_code, g2_code))\n",
    "test.Geo_Code = test.Geo_Code.map(code_dict)"
   ]
  },
  {
   "cell_type": "code",
   "execution_count": 108,
   "metadata": {},
   "outputs": [
    {
     "data": {
      "text/plain": [
       "Customer Id           0\n",
       "YearOfObservation     0\n",
       "Insured_Period        0\n",
       "Residential           0\n",
       "Building_Painted      0\n",
       "Building_Fenced       0\n",
       "Garden                0\n",
       "Settlement            0\n",
       "Building Dimension    0\n",
       "Building_Type         0\n",
       "Date_of_Occupancy     0\n",
       "NumberOfWindows       0\n",
       "Geo_Code              0\n",
       "dtype: int64"
      ]
     },
     "execution_count": 108,
     "metadata": {},
     "output_type": "execute_result"
    }
   ],
   "source": [
    "test.Geo_Code = test.Geo_Code.fillna(method = 'ffill')\n",
    "test.Garden = test.Garden.fillna(method = 'ffill')\n",
    "test['Building Dimension'] = test['Building Dimension'].fillna(method ='ffill')\n",
    "test.Date_of_Occupancy = test.Date_of_Occupancy.fillna(method = 'ffill')\n",
    "test.isnull().sum()"
   ]
  },
  {
   "cell_type": "code",
   "execution_count": null,
   "metadata": {},
   "outputs": [],
   "source": []
  },
  {
   "cell_type": "code",
   "execution_count": 109,
   "metadata": {},
   "outputs": [
    {
     "data": {
      "text/plain": [
       "Customer Id            object\n",
       "YearOfObservation       int64\n",
       "Insured_Period        float64\n",
       "Residential             int64\n",
       "Building_Painted        int32\n",
       "Building_Fenced         int32\n",
       "Garden                float64\n",
       "Settlement              int64\n",
       "Building Dimension    float64\n",
       "Building_Type           int64\n",
       "Date_of_Occupancy     float64\n",
       "NumberOfWindows         int32\n",
       "Geo_Code                int64\n",
       "dtype: object"
      ]
     },
     "execution_count": 109,
     "metadata": {},
     "output_type": "execute_result"
    }
   ],
   "source": [
    "test.dtypes"
   ]
  },
  {
   "cell_type": "code",
   "execution_count": null,
   "metadata": {},
   "outputs": [],
   "source": []
  },
  {
   "cell_type": "code",
   "execution_count": 110,
   "metadata": {},
   "outputs": [
    {
     "data": {
      "text/plain": [
       "(3069, 12)"
      ]
     },
     "execution_count": 110,
     "metadata": {},
     "output_type": "execute_result"
    }
   ],
   "source": [
    "cust_id = test['Customer Id']\n",
    "test_X = test.drop(['Customer Id'], axis =1 )\n",
    "test_X.shape"
   ]
  },
  {
   "cell_type": "code",
   "execution_count": 111,
   "metadata": {},
   "outputs": [],
   "source": [
    "test_pred = rfc.predict(test_X)"
   ]
  },
  {
   "cell_type": "code",
   "execution_count": 112,
   "metadata": {},
   "outputs": [
    {
     "data": {
      "text/html": [
       "<div>\n",
       "<style scoped>\n",
       "    .dataframe tbody tr th:only-of-type {\n",
       "        vertical-align: middle;\n",
       "    }\n",
       "\n",
       "    .dataframe tbody tr th {\n",
       "        vertical-align: top;\n",
       "    }\n",
       "\n",
       "    .dataframe thead th {\n",
       "        text-align: right;\n",
       "    }\n",
       "</style>\n",
       "<table border=\"1\" class=\"dataframe\">\n",
       "  <thead>\n",
       "    <tr style=\"text-align: right;\">\n",
       "      <th></th>\n",
       "      <th>Customer ID</th>\n",
       "      <th>CLaim</th>\n",
       "    </tr>\n",
       "  </thead>\n",
       "  <tbody>\n",
       "    <tr>\n",
       "      <th>0</th>\n",
       "      <td>H11920</td>\n",
       "      <td>0</td>\n",
       "    </tr>\n",
       "    <tr>\n",
       "      <th>1</th>\n",
       "      <td>H11921</td>\n",
       "      <td>0</td>\n",
       "    </tr>\n",
       "    <tr>\n",
       "      <th>2</th>\n",
       "      <td>H9805</td>\n",
       "      <td>0</td>\n",
       "    </tr>\n",
       "    <tr>\n",
       "      <th>3</th>\n",
       "      <td>H7493</td>\n",
       "      <td>0</td>\n",
       "    </tr>\n",
       "    <tr>\n",
       "      <th>4</th>\n",
       "      <td>H7494</td>\n",
       "      <td>0</td>\n",
       "    </tr>\n",
       "  </tbody>\n",
       "</table>\n",
       "</div>"
      ],
      "text/plain": [
       "  Customer ID  CLaim\n",
       "0      H11920      0\n",
       "1      H11921      0\n",
       "2       H9805      0\n",
       "3       H7493      0\n",
       "4       H7494      0"
      ]
     },
     "execution_count": 112,
     "metadata": {},
     "output_type": "execute_result"
    }
   ],
   "source": [
    "answer = pd.DataFrame({'Customer ID': cust_id, 'CLaim' : test_pred})\n",
    "answer.head()"
   ]
  },
  {
   "cell_type": "code",
   "execution_count": 113,
   "metadata": {},
   "outputs": [
    {
     "data": {
      "text/plain": [
       "0    2790\n",
       "1     279\n",
       "Name: CLaim, dtype: int64"
      ]
     },
     "execution_count": 113,
     "metadata": {},
     "output_type": "execute_result"
    }
   ],
   "source": [
    "answer.CLaim.value_counts()"
   ]
  },
  {
   "cell_type": "code",
   "execution_count": 114,
   "metadata": {},
   "outputs": [],
   "source": [
    "answer.to_csv('prediction2.csv', index = False)"
   ]
  },
  {
   "cell_type": "code",
   "execution_count": null,
   "metadata": {},
   "outputs": [],
   "source": []
  }
 ],
 "metadata": {
  "kernelspec": {
   "display_name": "Python 3",
   "language": "python",
   "name": "python3"
  },
  "language_info": {
   "codemirror_mode": {
    "name": "ipython",
    "version": 3
   },
   "file_extension": ".py",
   "mimetype": "text/x-python",
   "name": "python",
   "nbconvert_exporter": "python",
   "pygments_lexer": "ipython3",
   "version": "3.7.1"
  }
 },
 "nbformat": 4,
 "nbformat_minor": 2
}
